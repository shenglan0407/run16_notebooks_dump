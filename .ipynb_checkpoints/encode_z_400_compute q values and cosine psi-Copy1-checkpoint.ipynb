{
 "cells": [
  {
   "cell_type": "code",
   "execution_count": 3,
   "metadata": {},
   "outputs": [],
   "source": [
    "import numpy as np\n",
    "import h5py"
   ]
  },
  {
   "cell_type": "code",
   "execution_count": 1,
   "metadata": {},
   "outputs": [],
   "source": [
    "def get_cpsi(num_phi, wavlen, q1, q2):\n",
    "        \"\"\"\n",
    "        Returns cos psi values\n",
    "        ================================================================\n",
    "        num_phi  - int, number of phi values in the ring\n",
    "        \n",
    "        wavlen   - float, wavelength in angstrom\n",
    "        \n",
    "        q1, q2   - float, magnitudes of q values\n",
    "        \n",
    "        Returns:\n",
    "        cpsi     - 1d array, shape = (num_phi)\n",
    "        \"\"\"\n",
    "        phis = np.arange( num_phi ) * 2 * np.pi / num_phi\n",
    "        th1 = np.arcsin( q1 * wavlen / 4. / np.pi )\n",
    "        th2 = np.arcsin( q2 * wavlen / 4. / np.pi )\n",
    "        cpsi = np.cos(phis) * np.cos(th1)*np.cos(th2) + np.sin(th1)*np.sin(th2)\n",
    "        \n",
    "        return cpsi"
   ]
  },
  {
   "cell_type": "code",
   "execution_count": 8,
   "metadata": {},
   "outputs": [
    {
     "name": "stdout",
     "output_type": "stream",
     "text": [
      "[u'ebeam', u'event_time', u'evr', u'fiducials', u'gas_detector', u'phase_cav', u'polar_imgs', u'polar_mask', u'polar_mask_binned', u'polar_params', u'radial_profs']\n"
     ]
    },
    {
     "data": {
      "text/plain": [
       "9496.1567184952964"
      ]
     },
     "execution_count": 8,
     "metadata": {},
     "output_type": "execute_result"
    }
   ],
   "source": [
    "f = h5py.File('/reg/d/psdm/cxi/cxilr6716/scratch/combined_tables/gai/run108.tbl','r')\n",
    "print f.keys()\n",
    "f['ebeam']['photon_energy'].value.mean(0)"
   ]
  },
  {
   "cell_type": "code",
   "execution_count": 10,
   "metadata": {},
   "outputs": [
    {
     "name": "stdout",
     "output_type": "stream",
     "text": [
      "0.214733131595 1.32917892862\n",
      "(50,)\n"
     ]
    }
   ],
   "source": [
    "phi_offset = 10\n",
    "waxs_rmin = 65 # pixel units\n",
    "waxs_rmax = 415\n",
    "c = 2.998e8\n",
    "h = 6.63e-34\n",
    "ev_to_j = 1.602e-19\n",
    "num_q = 50\n",
    "\n",
    "pixsize = 110e-6 #meter\n",
    "photon_energy = 9.496e3 #eV\n",
    "wavlen = c * h/(photon_energy * ev_to_j) * 1e10 # angstrom\n",
    "det_dist = 160e-3 # meter\n",
    "\n",
    "thetas = np.arctan ( np.arange(waxs_rmin, waxs_rmax) * pixsize / det_dist)  /2.    \n",
    "qs =np.sin( thetas ) * 4.*np.pi/wavlen\n",
    "print qs.min(), qs.max()\n",
    "qs.shape\n",
    "q_intervals = np.zeros( (num_q,2) )\n",
    "interval = 7\n",
    "# interval = int ( (waxs_rmax-waxs_rmin)/(num_q) )\n",
    "for idx in range(num_q):\n",
    "    try:\n",
    "        q_intervals[idx] = np.array([qs[idx*interval],qs[(idx+1)*interval] ])\n",
    "    except IndexError:\n",
    "        q_intervals[idx] = np.array([qs[idx*interval],qs[-1] ])\n",
    "        \n",
    "qvalue = q_intervals[:,0]\n",
    "print qvalue.shape\n",
    "\n",
    "\n"
   ]
  },
  {
   "cell_type": "code",
   "execution_count": 14,
   "metadata": {},
   "outputs": [],
   "source": [
    "num_phi = 326\n",
    "cpsi = np.zeros( (qvalue.size, num_phi) )\n",
    "for idx in range(qvalue.size):\n",
    "    cpsi[idx] = get_cpsi(num_phi,wavlen,qvalue[idx],qvalue[idx])"
   ]
  },
  {
   "cell_type": "code",
   "execution_count": 20,
   "metadata": {},
   "outputs": [],
   "source": [
    "# np.save('encodeZ400_cpsi.npy',cpsi)\n",
    "# np.save('encodeZ400_qvalue.npy',qvalue)"
   ]
  },
  {
   "cell_type": "code",
   "execution_count": null,
   "metadata": {},
   "outputs": [],
   "source": []
  }
 ],
 "metadata": {
  "kernelspec": {
   "display_name": "Python 2 ana-1.3.10",
   "language": "python",
   "name": "ana-1.3.10"
  },
  "language_info": {
   "codemirror_mode": {
    "name": "ipython",
    "version": 2
   },
   "file_extension": ".py",
   "mimetype": "text/x-python",
   "name": "python",
   "nbconvert_exporter": "python",
   "pygments_lexer": "ipython2",
   "version": "2.7.13"
  }
 },
 "nbformat": 4,
 "nbformat_minor": 2
}
