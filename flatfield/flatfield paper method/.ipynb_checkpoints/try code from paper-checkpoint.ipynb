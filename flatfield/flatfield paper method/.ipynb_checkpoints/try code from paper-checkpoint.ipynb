{
 "cells": [
  {
   "cell_type": "code",
   "execution_count": null,
   "metadata": {},
   "outputs": [],
   "source": [
    "import h5py\n",
    "import matplotlib.pyplot as plt\n",
    "import numpy as np\n",
    "%matplotlib inline\n",
    "from nonLinCorr import *"
   ]
  },
  {
   "cell_type": "code",
   "execution_count": null,
   "metadata": {},
   "outputs": [],
   "source": [
    "def flatten_and_mask_shots(shots, mask,):\n",
    "    num_shots = shots.shape[0]\n",
    "    size = shots.shape[1]*shots.shape[2]\n",
    "    flat_mask = mask.reshape(size)\n",
    "    flat_shots =  shots.reshape( (num_shots,size))*flat_mask\n",
    "    \n",
    "    return flat_shots[:,flat_mask]\n",
    "\n",
    "def unflatten_shots(flat_shots,mask):\n",
    "    num_shots = flat_shots.shape[0]\n",
    "    shape = mask.shape\n",
    "    flat_mask = mask.reshape(shape[0]*shape[1]\n",
    "                            )\n",
    "    shots = np.zeros( (num_shots,shape[0]*shape[1]), dtype = flat_shots.dtype)\n",
    "    shots[:, flat_mask ] = flat_shots\n",
    "    \n",
    "    return shots.reshape( (num_shots,shape[0],shape[1]))"
   ]
  },
  {
   "cell_type": "code",
   "execution_count": null,
   "metadata": {},
   "outputs": [],
   "source": [
    "#run71 is parameterized with ic as the reference curve\n",
    "run = 71\n",
    "f = h5py.File('/reg/d/psdm/cxi/cxilr6716/results/\\\n",
    "flatfield_calibration/ave_int_statisitcs/run%d_ave_int.h5'%run,'r')\n",
    "# f.keys()\n",
    "\n",
    "f_mask = h5py.File('/reg/d/psdm/cxi/cxilr6716/results/masks/run%d_masks.h5'%run,'r')\n",
    "mask=f_mask['mask'].value\n",
    "\n",
    "f_cali = h5py.File('/reg/d/psdm/cxi/cxilr6716/results/\\\n",
    "flatfield_calibration/calibration_curves/run%d.tbl'%run,'r')\n",
    "coefs = f_cali['poly_coefs'].value\n",
    "ref_ind = f_cali['ref_shot_ind'].value\n",
    "\n",
    "num_shots=f_cali['num_shots_per_bin'].value\n",
    "flat_ave_shots = f['ave_flat_shots'].value\n",
    "num_shots = f['num_shots_per_bin'].value\n",
    "\n",
    "# thresholding\n",
    "select=num_shots>10\n",
    "flat_ave_shots = flat_ave_shots[select]\n",
    "flat_std_shots = f['ave_flat_shots_err'].value[select]\n",
    "\n",
    "ave_bin_int = f_cali['ave_bin_int'].value\n",
    "print flat_ave_shots.shape,ave_bin_int.shape,coefs.shape"
   ]
  },
  {
   "cell_type": "code",
   "execution_count": null,
   "metadata": {},
   "outputs": [],
   "source": [
    "corrFunc = getCorrectionFunc(dmat=flat_ave_shots,i = ave_bin_int,\n",
    "                             ic = ave_bin_int[ref_ind], order=10,\n",
    "                            sc = np.ones_like(flat_ave_shots[0])*ave_bin_int[ref_ind])"
   ]
  },
  {
   "cell_type": "code",
   "execution_count": null,
   "metadata": {},
   "outputs": [],
   "source": [
    "(np.ones_like(flat_ave_shots[0])*ave_bin_int[ref_ind]).shape"
   ]
  },
  {
   "cell_type": "code",
   "execution_count": null,
   "metadata": {},
   "outputs": [],
   "source": [
    "calibrated_shots = corrFunc(flat_ave_shots, ave_bin_int)"
   ]
  },
  {
   "cell_type": "code",
   "execution_count": null,
   "metadata": {},
   "outputs": [],
   "source": [
    "plt.plot(calibrated_shots[21,:100])\n",
    "plt.plot(flat_ave_shots[21, :100])"
   ]
  },
  {
   "cell_type": "code",
   "execution_count": null,
   "metadata": {},
   "outputs": [],
   "source": [
    "bins= np.linspace(0,40,30)\n",
    "idx = 21\n",
    "hist1 = np.histogram(flat_ave_shots[idx], bins)\n",
    "plt.step(hist1[1][1:], hist1[0])\n",
    "\n",
    "\n",
    "hist1 = np.histogram(calibrated_shots[idx], bins)\n",
    "plt.step(hist1[1][1:], hist1[0])"
   ]
  },
  {
   "cell_type": "code",
   "execution_count": null,
   "metadata": {},
   "outputs": [],
   "source": []
  }
 ],
 "metadata": {
  "kernelspec": {
   "display_name": "Python 2 ana-1.3.10",
   "language": "python",
   "name": "ana-1.3.10"
  },
  "language_info": {
   "codemirror_mode": {
    "name": "ipython",
    "version": 2
   },
   "file_extension": ".py",
   "mimetype": "text/x-python",
   "name": "python",
   "nbconvert_exporter": "python",
   "pygments_lexer": "ipython2",
   "version": "2.7.13"
  }
 },
 "nbformat": 4,
 "nbformat_minor": 2
}
