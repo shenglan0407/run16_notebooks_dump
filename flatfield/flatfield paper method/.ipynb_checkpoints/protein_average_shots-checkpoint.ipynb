{
 "cells": [
  {
   "cell_type": "code",
   "execution_count": null,
   "metadata": {},
   "outputs": [],
   "source": [
    "import h5py\n",
    "import matplotlib.pyplot as plt\n",
    "import numpy as np\n",
    "%matplotlib inline\n",
    "from nonLinCorr import *"
   ]
  },
  {
   "cell_type": "code",
   "execution_count": null,
   "metadata": {},
   "outputs": [],
   "source": [
    "def flatten_and_mask_shots(shots, mask,):\n",
    "    num_shots = shots.shape[0]\n",
    "    size = shots.shape[1]*shots.shape[2]\n",
    "    flat_mask = mask.reshape(size)\n",
    "    flat_shots =  shots.reshape( (num_shots,size))*flat_mask\n",
    "    \n",
    "    return flat_shots[:,flat_mask]\n",
    "\n",
    "def unflatten_shots(flat_shots,mask):\n",
    "    num_shots = flat_shots.shape[0]\n",
    "    shape = mask.shape\n",
    "    flat_mask = mask.reshape(shape[0]*shape[1]\n",
    "                            )\n",
    "    shots = np.zeros( (num_shots,shape[0]*shape[1]), dtype = flat_shots.dtype)\n",
    "    shots[:, flat_mask ] = flat_shots\n",
    "    \n",
    "    return shots.reshape( (num_shots,shape[0],shape[1]))"
   ]
  },
  {
   "cell_type": "code",
   "execution_count": null,
   "metadata": {},
   "outputs": [],
   "source": [
    "run = 115\n",
    "f = h5py.File('/reg/d/psdm/cxi/cxilr6716/results/\\\n",
    "flatfield_calibration/ave_int_statisitcs/run%d_ave_int.h5'%run,'r')\n",
    "# f.keys()\n",
    "\n",
    "f_mask = h5py.File('/reg/d/psdm/cxi/cxilr6716/results/masks/run%d_masks.h5'%run,'r')\n",
    "mask=f_mask['mask'].value\n",
    "\n",
    "flat_ave_shots = f['ave_flat_shots'].value\n",
    "num_shots = f['num_shots_per_bin'].value\n",
    "\n",
    "# thresholding\n",
    "select=num_shots>10\n",
    "flat_ave_shots = flat_ave_shots[select]\n",
    "flat_std_shots = f['ave_flat_shots_err'].value[select]\n",
    "\n",
    "ave_bin_int = flat_ave_shots.mean(-1)\n",
    "print flat_ave_shots.shape,ave_bin_int.shape"
   ]
  },
  {
   "cell_type": "code",
   "execution_count": null,
   "metadata": {},
   "outputs": [],
   "source": [
    "ref_ind = 10\n",
    "corrFunc,cn = getCorrectionFunc(dmat=flat_ave_shots,i = ave_bin_int,\n",
    "                             ic = ave_bin_int[ref_ind], order=10)"
   ]
  },
  {
   "cell_type": "code",
   "execution_count": null,
   "metadata": {},
   "outputs": [],
   "source": [
    "cali_curves = cn(ave_bin_int)"
   ]
  },
  {
   "cell_type": "code",
   "execution_count": null,
   "metadata": {},
   "outputs": [],
   "source": [
    "ref_shot = flat_ave_shots[ref_ind]\n",
    "ref_shots= ref_shot/ref_shot.mean()\n",
    "\n",
    "test_ind = 15\n",
    "test_shot = flat_ave_shots[test_ind]\n",
    "test_shot/=test_shot.mean()\n",
    "\n",
    "diff = test_shot/(ref_shot -1. )\n",
    "cali_diff = cali_curves[test_ind]\n",
    "cali_diff/=cali_diff.mean()\n",
    "cali_diff = cali_diff/(ref_shot-1.)"
   ]
  },
  {
   "cell_type": "code",
   "execution_count": null,
   "metadata": {},
   "outputs": [],
   "source": [
    "# img = unflatten_shots(flat_ave_shots[1:2,:],mask)[0]\n",
    "plt.figure(figsize=[12,6])\n",
    "img = unflatten_shots(diff[None,:],mask)[0]\n",
    "plt.subplot(121)\n",
    "plt.imshow( img, aspect='auto',\n",
    "         vmin=-3,vmax = 1, cmap='hot')\n",
    "\n",
    "img = unflatten_shots(cali_diff[None,:],mask)[0]\n",
    "\n",
    "plt.subplot(122)\n",
    "plt.imshow( img, aspect='auto',\n",
    "         vmin=-3,vmax = 1, cmap='hot')\n",
    "\n",
    "# plt.colorbar()"
   ]
  },
  {
   "cell_type": "code",
   "execution_count": null,
   "metadata": {},
   "outputs": [],
   "source": [
    "bins= np.linspace(-3,5,100)\n",
    "hist=np.histogram(diff, bins=bins)\n",
    "plt.step(hist[1][1:],hist[0])\n",
    "hist=np.histogram(cali_diff, bins=bins)\n",
    "plt.step(hist[1][1:],hist[0])"
   ]
  },
  {
   "cell_type": "code",
   "execution_count": null,
   "metadata": {},
   "outputs": [],
   "source": [
    "sn_corrected = corrFunc(flat_ave_shots,ave_bin_int)\n",
    "sn_corrected.shape"
   ]
  },
  {
   "cell_type": "code",
   "execution_count": null,
   "metadata": {},
   "outputs": [],
   "source": [
    "\n",
    "cali_diff2 = sn_corrected[test_ind]\n",
    "cali_diff2/=cali_diff2.mean()\n",
    "sc=cn(ave_bin_int[ref_ind])\n",
    "sc/=sc.mean()\n",
    "cali_diff2 = cali_diff2/(sc-1.)"
   ]
  },
  {
   "cell_type": "code",
   "execution_count": null,
   "metadata": {},
   "outputs": [],
   "source": [
    "plt.figure(figsize=[12,6])\n",
    "img = unflatten_shots(diff[None,:],mask)[0]\n",
    "plt.subplot(121)\n",
    "plt.imshow( img, aspect='auto',\n",
    "         vmin=-3,vmax = 1, cmap='hot')\n",
    "\n",
    "img = unflatten_shots(cali_diff2[None,:],mask)[0]\n",
    "\n",
    "plt.subplot(122)\n",
    "plt.imshow( img, aspect='auto',\n",
    "         vmin=-3,vmax = 1, cmap='hot')\n",
    "plt.colorbar()"
   ]
  },
  {
   "cell_type": "code",
   "execution_count": null,
   "metadata": {},
   "outputs": [],
   "source": [
    "bins= np.linspace(-30,15,100)\n",
    "hist=np.histogram(diff, bins=bins)\n",
    "plt.step(hist[1][1:],hist[0])\n",
    "hist=np.histogram(cali_diff2, bins=bins)\n",
    "plt.step(hist[1][1:],hist[0])"
   ]
  },
  {
   "cell_type": "code",
   "execution_count": null,
   "metadata": {},
   "outputs": [],
   "source": []
  }
 ],
 "metadata": {
  "kernelspec": {
   "display_name": "Python 2 ana-1.3.10",
   "language": "python",
   "name": "ana-1.3.10"
  },
  "language_info": {
   "codemirror_mode": {
    "name": "ipython",
    "version": 2
   },
   "file_extension": ".py",
   "mimetype": "text/x-python",
   "name": "python",
   "nbconvert_exporter": "python",
   "pygments_lexer": "ipython2",
   "version": "2.7.13"
  }
 },
 "nbformat": 4,
 "nbformat_minor": 2
}
