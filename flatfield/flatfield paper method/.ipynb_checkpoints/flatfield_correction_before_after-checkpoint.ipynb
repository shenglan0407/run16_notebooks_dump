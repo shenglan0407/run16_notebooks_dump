{
 "cells": [
  {
   "cell_type": "code",
   "execution_count": null,
   "metadata": {},
   "outputs": [],
   "source": [
    "import h5py\n",
    "import matplotlib.pyplot as plt\n",
    "import numpy as np\n",
    "%matplotlib inline\n",
    "\n",
    "from numpy import polyval\n",
    "from joblib import Parallel, delayed\n",
    "\n",
    "import time"
   ]
  },
  {
   "cell_type": "code",
   "execution_count": null,
   "metadata": {},
   "outputs": [],
   "source": [
    "def flatten_and_mask_shots(shots, mask,):\n",
    "    num_shots = shots.shape[0]\n",
    "    size = shots.shape[1]*shots.shape[2]\n",
    "    flat_mask = mask.reshape(size)\n",
    "    flat_shots =  shots.reshape( (num_shots,size))*flat_mask\n",
    "    \n",
    "    return flat_shots[:,flat_mask]\n",
    "\n",
    "def unflatten_shots(flat_shots,mask):\n",
    "    num_shots = flat_shots.shape[0]\n",
    "    shape = mask.shape\n",
    "    flat_mask = mask.reshape(shape[0]*shape[1]\n",
    "                            )\n",
    "    shots = np.zeros( (num_shots,shape[0]*shape[1]), dtype = flat_shots.dtype)\n",
    "    shots[:, flat_mask ] = flat_shots\n",
    "    \n",
    "    return shots.reshape( (num_shots,shape[0],shape[1]))"
   ]
  },
  {
   "cell_type": "code",
   "execution_count": null,
   "metadata": {},
   "outputs": [],
   "source": [
    "run = 71\n",
    "f = h5py.File('/reg/d/psdm/cxi/cxilr6716/results/\\\n",
    "flatfield_calibration/ave_int_statisitcs/run%d_ave_int.h5'%run,'r')\n",
    "# f.keys()\n",
    "\n",
    "f_mask = h5py.File('/reg/d/psdm/cxi/cxilr6716/results/masks/run%d_masks.h5'%run,'r')\n",
    "mask=f_mask['mask'].value\n",
    "\n",
    "f_cali = h5py.File('/reg/d/psdm/cxi/cxilr6716/results/\\\n",
    "flatfield_calibration/calibration_curves/run%d.tbl'%run,'r')\n",
    "coefs = f_cali['poly_coefs'].value\n",
    "ref_int = f['ref_shot_ind'].value\n",
    "\n",
    "num_shots=f_cali['num_shots_per_bin'].value\n",
    "flat_ave_shots = f['ave_flat_shots'].value\n",
    "num_shots = f['num_shots_per_bin'].value\n",
    "\n",
    "# thresholding\n",
    "select=num_shots>10\n",
    "flat_ave_shots = flat_ave_shots[select]\n",
    "flat_std_shots = f['ave_flat_shots_err'].value[select]\n",
    "\n",
    "ave_bin_int = f_cali['ave_bin_int'].value\n",
    "print flat_ave_shots.shape,ave_bin_int.shape,coefs.shape"
   ]
  },
  {
   "cell_type": "code",
   "execution_count": null,
   "metadata": {},
   "outputs": [],
   "source": [
    "print coefs.shape\n",
    "ref_shot = flat_ave_shots[]/flat_ave_shots[11].mean()\n",
    "test_ind =18\n",
    "intensity=flat_ave_shots[test_ind].mean()\n",
    "test_shot = flat_ave_shots[test_ind]/intensity\n",
    "diff = test_shot/(ref_shot)-1\n",
    "diff_img = unflatten_shots(diff[None,:],mask)[0]"
   ]
  },
  {
   "cell_type": "code",
   "execution_count": null,
   "metadata": {},
   "outputs": [],
   "source": [
    "_=plt.hist(diff,bins=np.linspace(-1.5,1.5,20))"
   ]
  },
  {
   "cell_type": "code",
   "execution_count": null,
   "metadata": {},
   "outputs": [],
   "source": [
    "print diff.min(),diff.max(),np.abs(diff).mean()\n",
    "plt.figure(figsize=[10,8])\n",
    "plt.imshow(diff_img*mask,aspect='auto',vmin=-0.1,vmax=0.1)\n",
    "plt.colorbar()"
   ]
  },
  {
   "cell_type": "code",
   "execution_count": null,
   "metadata": {},
   "outputs": [],
   "source": [
    "plt.figure(figsize=[10,8])\n",
    "plt.imshow(unflatten_shots(ref_shot[None,:],mask)[0],aspect='auto',vmin=0,vmax=1.5)\n",
    "plt.colorbar()"
   ]
  },
  {
   "cell_type": "code",
   "execution_count": null,
   "metadata": {},
   "outputs": [],
   "source": [
    "plt.figure(figsize=[10,8])\n",
    "plt.imshow(unflatten_shots(test_shot[None,:],mask)[0],aspect='auto',vmin=0,vmax=1.5)\n",
    "plt.colorbar()"
   ]
  },
  {
   "cell_type": "code",
   "execution_count": null,
   "metadata": {},
   "outputs": [],
   "source": [
    "tic = time.time()\n",
    "\n",
    "x = np.array([intensity**ii for ii in range(coefs.shape[-1])[::-1]])\n",
    "calibrated_shot = coefs.dot(x[:,None]).T\n",
    "time.time()-tic\n",
    "print calibrated_shot.shape\n",
    "\n",
    "calibrated_shot.std(),flat_ave_shots[test_ind].std()\n",
    "calibrated_shot/=calibrated_shot.mean(-1)"
   ]
  },
  {
   "cell_type": "code",
   "execution_count": null,
   "metadata": {},
   "outputs": [],
   "source": [
    "plt.figure(figsize=[10,8])\n",
    "plt.imshow(unflatten_shots(calibrated_shot,mask)[0], vmin=0,vmax =1.5)\n",
    "plt.colorbar()"
   ]
  },
  {
   "cell_type": "code",
   "execution_count": null,
   "metadata": {},
   "outputs": [],
   "source": [
    "cali_diff = calibrated_shot[0]/ ref_shot -1"
   ]
  },
  {
   "cell_type": "code",
   "execution_count": null,
   "metadata": {},
   "outputs": [],
   "source": [
    "hist1=np.histogram(diff,bins=np.linspace(-0.5,0.5,20))\n",
    "hist2=np.histogram(cali_diff,bins=np.linspace(-0.5,0.5,20))\n",
    "\n",
    "plt.step(hist1[1][1:],hist1[0])\n",
    "\n",
    "plt.step(hist2[1][1:],hist2[0])"
   ]
  },
  {
   "cell_type": "code",
   "execution_count": null,
   "metadata": {},
   "outputs": [],
   "source": [
    "intensity_x = np.array([[int**ii for ii in range(coefs.shape[-1])[::-1]] for int in ave_bin_int])\n",
    "cali_cuvres = np.array([coefs.dot(xx[:,None])[:,0] for xx in intensity_x])"
   ]
  },
  {
   "cell_type": "code",
   "execution_count": null,
   "metadata": {},
   "outputs": [],
   "source": [
    "for idx in [10,100000]:\n",
    "    plt.plot(ave_bin_int,cali_cuvres[:,idx])\n",
    "    plt.plot(ave_bin_int,flat_ave_shots[:,idx],'o')\n",
    "plt.xlim(7,18)"
   ]
  },
  {
   "cell_type": "code",
   "execution_count": null,
   "metadata": {},
   "outputs": [],
   "source": [
    "universal_gain = 1./ref_shot\n",
    "universal_gain[ref_shot<0]=0"
   ]
  },
  {
   "cell_type": "code",
   "execution_count": null,
   "metadata": {},
   "outputs": [],
   "source": [
    "# first derivative of the calibration curves\n",
    "derivative_x = np.array([[ii*int**(ii-1) for ii in range(1,coefs.shape[-1])[::-1]] for int in ave_bin_int])\n",
    "cali_derivative = np.array([coefs[:,:-1].dot(xx[:,None])[:,0] for xx in derivative_x])"
   ]
  },
  {
   "cell_type": "code",
   "execution_count": null,
   "metadata": {},
   "outputs": [],
   "source": [
    "cali_derivative.shape"
   ]
  },
  {
   "cell_type": "code",
   "execution_count": null,
   "metadata": {},
   "outputs": [],
   "source": [
    "test_ind= 14\n",
    "ref_derivative = cali_derivative[11]\n",
    "test_derivative = cali_derivative[test_ind]\n",
    "\n",
    "correction = ref_derivative/test_derivative \\\n",
    "* universal_gain *( flat_ave_shots[test_ind] - cali_cuvres[test_ind])\n",
    "corrected_test_int=ave_bin_int[test_ind] + correction\n",
    "test_int = universal_gain * flat_ave_shots[test_ind]\n",
    "\n",
    "bins = np.linspace(0,40,100)\n",
    "hist1=np.histogram(test_int,bins=bins)\n",
    "# bins = np.linspace(5,30,100)\n",
    "hist2=np.histogram(corrected_test_int,bins=bins)\n",
    "\n",
    "plt.figure(figsize=[8,6])\n",
    "\n",
    "\n",
    "plt.step(hist1[1][1:],hist1[0])\n",
    "\n",
    "plt.step(hist2[1][1:],hist2[0], label='corrected')\n",
    "plt.legend()"
   ]
  },
  {
   "cell_type": "code",
   "execution_count": null,
   "metadata": {},
   "outputs": [],
   "source": [
    "plt.plot(corrected_test_int[23456:23956])\n",
    "plt.plot(test_int[23456:23956])\n",
    "# plt.plot(correction[23456:23956])\n",
    "plt.ylim(5,20)\n",
    "print corrected_test_int.std(), test_int.std()\n",
    "print corrected_test_int.mean(), test_int.mean()"
   ]
  },
  {
   "cell_type": "code",
   "execution_count": null,
   "metadata": {},
   "outputs": [],
   "source": [
    "plt.figure(figsize=[12,12])\n",
    "\n",
    "# plt.imshow(unflatten_shots(test_int[None,:], mask)[0], aspect = 'auto', \n",
    "#           vmin=10,vmax = 20)\n",
    "\n",
    "plt.imshow(unflatten_shots(corrected_test_int[None,:], mask)[0], aspect = 'auto', \n",
    "          vmin=14,vmax = 100)"
   ]
  },
  {
   "cell_type": "code",
   "execution_count": null,
   "metadata": {},
   "outputs": [],
   "source": [
    "plt.figure(figsize=[12,12])\n",
    "\n",
    "plt.imshow(unflatten_shots(test_int[None,:], mask)[0], aspect = 'auto', \n",
    "          vmin=10,vmax = 25)"
   ]
  },
  {
   "cell_type": "code",
   "execution_count": null,
   "metadata": {},
   "outputs": [],
   "source": [
    "# let's try to correct a single shot, not an average shot\n",
    "f_shots = h5py.File('/reg/d/psdm/cxi/cxilr6716/scratch/flatfield_calibration/flat_det_imgs/fullImgs_run%d.h5'%run,'r')\n",
    "print f_shots.keys()\n",
    "single_shot = f_shots['flat_img'][100]\n",
    "single_shot_int = single_shot.mean()\n",
    "print single_shot_int\n",
    "single_shot_photon = single_shot*universal_gain"
   ]
  },
  {
   "cell_type": "code",
   "execution_count": null,
   "metadata": {},
   "outputs": [],
   "source": [
    "plt.figure(figsize=[12,12])\n",
    "\n",
    "plt.imshow(unflatten_shots(single_shot[None,:], mask)[0], aspect = 'auto'\n",
    ",vmin=20,vmax = 40)\n",
    "# plt.colorbar()"
   ]
  },
  {
   "cell_type": "code",
   "execution_count": null,
   "metadata": {},
   "outputs": [],
   "source": [
    "_=plt.hist(single_shot,bins = np.linspace(0,100,10))\n",
    "_=plt.hist(single_shot_photon,bins = np.linspace(0,100,10))"
   ]
  },
  {
   "cell_type": "code",
   "execution_count": null,
   "metadata": {},
   "outputs": [],
   "source": [
    "def calibrate_to_flat_int(ref_derivative, universal_gain,\n",
    "                          cali_cuvres,\n",
    "                          coefs, intensity,\n",
    "                         dn):\n",
    "    derivative_x = np.array([ii*intensity**(ii-1) for ii in range(1,coefs.shape[-1])[::-1]])\n",
    "    cali_derivative = (coefs[:,:-1].dot(derivative_x[:,None]))[:,0]\n",
    "    x = np.array([intensity**ii for ii in range(coefs.shape[-1])[::-1]])\n",
    "    cn = coefs.dot(x[:,None])[:,0]\n",
    "    \n",
    "    correction = ref_derivative/cali_derivative \\\n",
    "    * universal_gain *( dn - cn)\n",
    "    corrected_test_int=intensity + correction\n",
    "    \n",
    "    return corrected_test_int\n",
    "\n",
    "def calibrate_shot(coefs, intensity):\n",
    "    \n",
    "    x = np.array([intensity**ii for ii in range(coefs.shape[-1])[::-1]])\n",
    "    cn = coefs.dot(x[:,None])[:,0]\n",
    "    return cn\n",
    "    "
   ]
  },
  {
   "cell_type": "code",
   "execution_count": null,
   "metadata": {},
   "outputs": [],
   "source": [
    "corrected_single_shot = calibrate_to_flat_int(ref_derivative, universal_gain,\n",
    "                                             cali_cuvres, coefs,\n",
    "                                             single_shot_int,\n",
    "                                             single_shot)"
   ]
  },
  {
   "cell_type": "code",
   "execution_count": null,
   "metadata": {},
   "outputs": [],
   "source": [
    "flat_ave_shots[11].shape\n",
    "single_shot.shape"
   ]
  },
  {
   "cell_type": "code",
   "execution_count": null,
   "metadata": {},
   "outputs": [],
   "source": [
    "cn = calibrate_shot(coefs,single_shot_int)"
   ]
  },
  {
   "cell_type": "code",
   "execution_count": null,
   "metadata": {},
   "outputs": [],
   "source": [
    "plt.plot(corrected_single_shot[1000:2000])\n",
    "# plt.plot(flat_ave_shots[11][1000:2000])\n",
    "# plt.plot(cn[1000:2000])\n",
    "plt.ylim(0,150)"
   ]
  },
  {
   "cell_type": "code",
   "execution_count": null,
   "metadata": {},
   "outputs": [],
   "source": [
    "bins = np.linspace(-100,150,100)\n",
    "# hist1=np.histogram(flat_ave_shots[14],bins=bins)\n",
    "hist1=np.histogram(single_shot*universal_gain,bins=bins)\n",
    "# bins = np.linspace(5,30,100)\n",
    "hist2=np.histogram(cn,bins=bins)\n",
    "# bins = np.linspace(-100,150,30)\n",
    "hist3=np.histogram(single_shot,bins=bins)\n",
    "\n",
    "\n",
    "# bins = np.linspace(-100,150,30)\n",
    "hist4=np.histogram(corrected_single_shot,bins=bins)\n",
    "\n",
    "plt.figure(figsize=[8,6])\n",
    "\n",
    "\n",
    "plt.step(hist1[1][1:],hist1[0])\n",
    "\n",
    "plt.step(hist2[1][1:],hist2[0], label='corrected')\n",
    "\n",
    "plt.step(hist3[1][1:],hist3[0], label='uncorrected')\n",
    "\n",
    "plt.step(hist4[1][1:],hist4[0], label='corrected')\n",
    "plt.legend()\n",
    "print single_shot_int, ave_bin_int[14]"
   ]
  },
  {
   "cell_type": "code",
   "execution_count": null,
   "metadata": {},
   "outputs": [],
   "source": [
    "kk = (flat_ave_shots[14]>14)#*( single_shot<70)\n",
    "plt.figure(figsize=[12,12])\n",
    "\n",
    "plt.imshow(unflatten_shots(kk[None,:], mask)[0]*mask, aspect = 'auto'\n",
    ",vmin=0,vmax = 1, cmap='hot')"
   ]
  },
  {
   "cell_type": "code",
   "execution_count": null,
   "metadata": {},
   "outputs": [],
   "source": [
    "kk = (cn>14)#*( single_shot<70)\n",
    "plt.figure(figsize=[12,12])\n",
    "\n",
    "plt.imshow(unflatten_shots(kk[None,:], mask)[0]*mask, aspect = 'auto'\n",
    ",vmin=0,vmax = 1, cmap='hot')"
   ]
  },
  {
   "cell_type": "code",
   "execution_count": null,
   "metadata": {},
   "outputs": [],
   "source": [
    "kk = (corrected_single_shot>14)#*( single_shot<70)\n",
    "plt.figure(figsize=[12,12])\n",
    "\n",
    "plt.imshow(unflatten_shots(kk[None,:], mask)[0]*mask, aspect = 'auto'\n",
    ",vmin=0,vmax = 1, cmap='hot')"
   ]
  },
  {
   "cell_type": "code",
   "execution_count": null,
   "metadata": {},
   "outputs": [],
   "source": [
    "kk = (universal_gain<0.95)#*( single_shot<70)\n",
    "plt.figure(figsize=[12,12])\n",
    "\n",
    "plt.imshow(unflatten_shots(kk[None,:], mask)[0]*mask, aspect = 'auto'\n",
    ",vmin=0,vmax = 1, cmap='hot')"
   ]
  },
  {
   "cell_type": "code",
   "execution_count": null,
   "metadata": {},
   "outputs": [],
   "source": []
  }
 ],
 "metadata": {
  "kernelspec": {
   "display_name": "Python 2 ana-1.3.10",
   "language": "python",
   "name": "ana-1.3.10"
  },
  "language_info": {
   "codemirror_mode": {
    "name": "ipython",
    "version": 2
   },
   "file_extension": ".py",
   "mimetype": "text/x-python",
   "name": "python",
   "nbconvert_exporter": "python",
   "pygments_lexer": "ipython2",
   "version": "2.7.13"
  }
 },
 "nbformat": 4,
 "nbformat_minor": 2
}
