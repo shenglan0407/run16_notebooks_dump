{
 "cells": [
  {
   "cell_type": "code",
   "execution_count": null,
   "metadata": {},
   "outputs": [],
   "source": [
    "%matplotlib inline\n",
    "import matplotlib.pyplot as plt\n",
    "import h5py\n",
    "import numpy as np\n",
    "\n",
    "import os\n",
    "\n",
    "from numpy import polyfit,polyval\n",
    "import sys\n",
    "sys.path.append('/reg/neh/home/qiaoshen/GitHub/loki/src/RingData/')\n",
    "\n",
    "from DiffCorr import DiffCorr\n",
    "\n",
    "from matplotlib.gridspec import GridSpec"
   ]
  },
  {
   "cell_type": "code",
   "execution_count": null,
   "metadata": {},
   "outputs": [],
   "source": [
    "def norm_w_mask(x,mask):\n",
    "    x_out = np.zeros_like(x, dtype=np.float64)\n",
    "\n",
    "    for ii in range(x.shape[0]):\n",
    "        k=np.median(x[ii][mask[ii]])\n",
    "        mu = np.std(x[ii][mask[ii]])\n",
    "        this_mask = (np.abs(x[ii] - k)<mu*20)*mask[ii]\n",
    "        x_out[ii] = x[ii]/(x[ii][this_mask]).mean()\n",
    "    return x_out* this_mask\n",
    "\n",
    "def diff_mask(x,ref,mask):\n",
    "    norm_x = norm_w_mask(x,mask)\n",
    "    norm_ref=norm_w_mask(ref,mask)\n",
    "    \n",
    "    return norm_x-norm_ref\n",
    "   \n",
    "def diff_all_shots(images,mask):\n",
    "    diffs = np.zeros_like(images, dtype=np.float64)\n",
    "    mean_img = images.mean(0)\n",
    "    \n",
    "    for ii in range(diffs.shape[0]):\n",
    "        diffs[ii]=diff_mask(images[ii],mean_img,mask)\n",
    "    return diffs"
   ]
  },
  {
   "cell_type": "code",
   "execution_count": null,
   "metadata": {},
   "outputs": [],
   "source": [
    "file_dir = '/reg/d/psdm/cxi/cxilr6716/scratch/flatfield_calibration/interp_cali_shots/interp_200_400/'\n",
    "run=115\n",
    "f=h5py.File(os.path.join(file_dir,'run%d_interp_cali_shots.h5'%run), 'r')\n",
    "print f.keys()"
   ]
  },
  {
   "cell_type": "code",
   "execution_count": null,
   "metadata": {},
   "outputs": [],
   "source": [
    "interp5 =f['cali_single_shots_20_interp'].value\n",
    "interp10=f['cali_single_shots_10_interp'].value\n",
    "\n",
    "\n",
    "rp5 =f['cali_single_shots_20_rp'].value\n",
    "rp10=f['cali_single_shots_10_rp'].value\n"
   ]
  },
  {
   "cell_type": "code",
   "execution_count": null,
   "metadata": {},
   "outputs": [],
   "source": [
    "f = h5py.File('/reg/d/psdm/cxi/cxilr6716/scratch/flatfield_calibration/interp_raw_shots/interp_200_400/run115_interp_raw_shots.h5','r')\n",
    "raw=f['single_shots_interp'].value\n",
    "raw_rp=f['single_shots_rp'].value\n",
    "print raw_rp.shape"
   ]
  },
  {
   "cell_type": "code",
   "execution_count": null,
   "metadata": {},
   "outputs": [],
   "source": [
    "# plt.plot(interp5[0,0],'.')\n",
    "plt.plot(interp10[0,0],'.')\n",
    "plt.plot(raw[0,0],'.')\n",
    "plt."
   ]
  },
  {
   "cell_type": "code",
   "execution_count": null,
   "metadata": {},
   "outputs": [],
   "source": [
    "np.mean(interp10[0,0])"
   ]
  },
  {
   "cell_type": "code",
   "execution_count": null,
   "metadata": {},
   "outputs": [],
   "source": [
    "\n",
    "y=rp10.mean(0)\n",
    "x=np.arange(0,y.shape[0])\n",
    "\n",
    "# select=np.abs(y-y.mean())<y.std()\n",
    "# y=y[select]\n",
    "\n",
    "plt.plot(x,y)\n",
    "# plt.plot(x,rp5.mean(0))\n",
    "plt.plot(x,raw_rp.mean(0))\n",
    "# plt.ylim(45,57)\n",
    "# plt.ylim(1,1.6)"
   ]
  },
  {
   "cell_type": "code",
   "execution_count": null,
   "metadata": {},
   "outputs": [],
   "source": [
    "ii=102\n",
    "plt.plot(raw.mean(0)[ii])\n",
    "plt.plot(interp10.mean(0)[ii],'.')\n",
    "# plt.plot(interp5.mean(0)[ii])\n",
    "plt.ylim(2,7)"
   ]
  },
  {
   "cell_type": "code",
   "execution_count": null,
   "metadata": {},
   "outputs": [],
   "source": [
    "raw_mean_interp = raw.mean(0)\n",
    "mean_interp10=interp10.mean(0)"
   ]
  },
  {
   "cell_type": "code",
   "execution_count": null,
   "metadata": {},
   "outputs": [],
   "source": [
    "plt.figure(figsize=[12,4])\n",
    "gs = GridSpec(1,2)\n",
    "plt.subplot(gs[0,0] )\n",
    "plt.imshow(raw_mean_interp,aspect='auto',\n",
    "          cmap='hot',vmin=0,vmax=10)\n",
    "plt.colorbar()\n",
    "\n",
    "\n",
    "plt.subplot(gs[0,1])\n",
    "plt.imshow(mean_interp10,aspect='auto',\n",
    "          cmap='hot',vmin=0,vmax=10)\n",
    "plt.colorbar()"
   ]
  },
  {
   "cell_type": "code",
   "execution_count": null,
   "metadata": {},
   "outputs": [],
   "source": [
    "pmask = ~(raw.mean(0)==0)"
   ]
  },
  {
   "cell_type": "code",
   "execution_count": null,
   "metadata": {},
   "outputs": [],
   "source": [
    "raw_diffs=diff_all_shots(raw,pmask)\n",
    "interp5_diff = diff_all_shots(interp5,pmask)\n",
    "\n",
    "interp10_diff = diff_all_shots(interp10,pmask)"
   ]
  },
  {
   "cell_type": "code",
   "execution_count": null,
   "metadata": {},
   "outputs": [],
   "source": [
    "x=-0.2\n",
    "y=0.2\n",
    "plt.imshow(raw_diffs.mean(0), aspect='auto'\n",
    "          ,vmin=x,vmax=y, cmap='coolwarm')\n",
    "plt.colorbar()\n",
    "plt.figure()\n",
    "plt.imshow(interp5_diff.mean(0), aspect='auto'\n",
    "          ,vmin=x,vmax=y, cmap='coolwarm')\n",
    "plt.colorbar()"
   ]
  },
  {
   "cell_type": "code",
   "execution_count": null,
   "metadata": {},
   "outputs": [],
   "source": [
    "y=0.2\n",
    "plt.imshow(raw_diffs.mean(0)>y, aspect='auto',\n",
    "           cmap='hot')\n",
    "plt.colorbar()\n",
    "plt.figure()\n",
    "plt.imshow(interp5_diff.mean(0)>y, aspect='auto'\n",
    "          ,cmap='hot')\n",
    "plt.colorbar()"
   ]
  },
  {
   "cell_type": "code",
   "execution_count": null,
   "metadata": {},
   "outputs": [],
   "source": [
    "ii=7\n",
    "# plt.plot(interp10_diff[3][ii])\n",
    "# plt.plot(raw_diffs[0][ii], alpha=0.2)\n",
    "# plt.ylim(-5,5)\n",
    "\n",
    "plt.plot(interp10_diff.mean(0)[ii],'.',alpha=0.3)\n",
    "plt.plot(raw_diffs.mean(0)[ii], alpha=0.5)\n",
    "plt.ylim(-1,1)"
   ]
  },
  {
   "cell_type": "code",
   "execution_count": null,
   "metadata": {},
   "outputs": [],
   "source": [
    "ii=5\n",
    "plt.plot(interp10_diff[100][ii])\n",
    "# plt.ylim(-20,150)\n",
    "plt.plot(raw_diffs[100][ii], alpha=0.5)\n",
    "plt.ylim(-5,40)"
   ]
  },
  {
   "cell_type": "code",
   "execution_count": null,
   "metadata": {},
   "outputs": [],
   "source": [
    "\n",
    "qs = np.linspace(0,1.0, raw_diffs.shape[1])\n",
    "\n",
    "dc_raw = DiffCorr(pmask[None,:], q_values=qs, k=0, pre_dif=True)\n",
    "mask_cor = dc_raw.autocorr()\n",
    "\n",
    "dc_raw = DiffCorr(raw_diffs, q_values=qs, k=0, pre_dif=True)\n",
    "raw_cor = dc_raw.autocorr()/mask_cor\n",
    "\n",
    "\n",
    "dc_raw = DiffCorr(interp10_diff, q_values=qs, k=0, pre_dif=True)\n",
    "interp10_cor = dc_raw.autocorr()/mask_cor\n"
   ]
  },
  {
   "cell_type": "code",
   "execution_count": null,
   "metadata": {},
   "outputs": [],
   "source": [
    "qidx = 8\n",
    "num_phi = raw_cor.shape[-1]/2\n",
    "phi_offset = 10\n",
    "plt.plot(raw_cor.mean(0)[qidx, phi_offset:num_phi/2-phi_offset])\n",
    "\n",
    "\n",
    "plt.plot(interp10_cor.mean(0)[qidx, phi_offset:num_phi/2-phi_offset])\n",
    "# plt.ylim(-1,2)\n",
    "# plt.xlim(0,raw_cor.shape[-1]/2)"
   ]
  },
  {
   "cell_type": "code",
   "execution_count": null,
   "metadata": {},
   "outputs": [],
   "source": [
    "pmask.shape"
   ]
  },
  {
   "cell_type": "code",
   "execution_count": null,
   "metadata": {},
   "outputs": [],
   "source": []
  }
 ],
 "metadata": {
  "kernelspec": {
   "display_name": "Python 2 ana-1.3.10",
   "language": "python",
   "name": "ana-1.3.10"
  },
  "language_info": {
   "codemirror_mode": {
    "name": "ipython",
    "version": 2
   },
   "file_extension": ".py",
   "mimetype": "text/x-python",
   "name": "python",
   "nbconvert_exporter": "python",
   "pygments_lexer": "ipython2",
   "version": "2.7.13"
  }
 },
 "nbformat": 4,
 "nbformat_minor": 2
}
