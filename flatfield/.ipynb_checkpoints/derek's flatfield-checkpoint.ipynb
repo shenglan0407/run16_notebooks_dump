{
 "cells": [
  {
   "cell_type": "code",
   "execution_count": 38,
   "metadata": {},
   "outputs": [],
   "source": [
    "%matplotlib inline\n",
    "import matplotlib.pyplot as plt\n",
    "import h5py\n",
    "import numpy as np\n",
    "\n",
    "import os\n",
    "\n",
    "from numpy import polyfit,polyval\n",
    "\n",
    "from nonLinCorr import *"
   ]
  },
  {
   "cell_type": "code",
   "execution_count": 2,
   "metadata": {},
   "outputs": [
    {
     "name": "stdout",
     "output_type": "stream",
     "text": [
      "run115_ave_int.h5  run71_ave_int.h5  run73_ave_int.h5  run81_ave_int.h5\r\n",
      "run70_ave_int.h5   run72_ave_int.h5  run76_ave_int.h5  run85_ave_int.h5\r\n"
     ]
    }
   ],
   "source": [
    "ls /reg/d/psdm/cxi/cxilr6716/results/flatfield_calibration/ave_int_statisitcs"
   ]
  },
  {
   "cell_type": "code",
   "execution_count": 3,
   "metadata": {},
   "outputs": [
    {
     "name": "stdout",
     "output_type": "stream",
     "text": [
      "[u'ave_flat_shots', u'ave_flat_shots_err', u'bin_centers', u'bin_delta', u'num_shots_per_bin']\n"
     ]
    }
   ],
   "source": [
    "ave_int_dir = '/reg/d/psdm/cxi/cxilr6716/results/flatfield_calibration/ave_int_statisitcs'\n",
    "run = 71\n",
    "f = h5py.File(os.path.join(ave_int_dir,'run%d_ave_int.h5'%run))\n",
    "print f.keys()"
   ]
  },
  {
   "cell_type": "code",
   "execution_count": 33,
   "metadata": {},
   "outputs": [],
   "source": [
    "treshold = 50\n",
    "shots = f['ave_flat_shots'].value\n",
    "mean_int = shots.mean(-1)\n",
    "\n",
    "n_shots = f['num_shots_per_bin'].value\n",
    "select=n_shots>treshold\n",
    "\n",
    "g_n = mean_int[select,None]/shots[select]\n",
    "mean_int = mean_int[select]"
   ]
  },
  {
   "cell_type": "code",
   "execution_count": 35,
   "metadata": {},
   "outputs": [
    {
     "data": {
      "text/plain": [
       "(0.6, 1.2)"
      ]
     },
     "execution_count": 35,
     "metadata": {},
     "output_type": "execute_result"
    },
    {
     "data": {
      "image/png": "[encoded data removed]",
      "text/plain": [
       "<matplotlib.figure.Figure at 0x7f2a5bc14190>"
      ]
     },
     "metadata": {},
     "output_type": "display_data"
    }
   ],
   "source": [
    "ind = 6\n",
    "plt.plot(mean_int,g_n[:,ind],'o')\n",
    "plt.ylim(0.6,1.2)"
   ]
  },
  {
   "cell_type": "code",
   "execution_count": 39,
   "metadata": {},
   "outputs": [],
   "source": [
    "degree = 10\n",
    "cn = getCorrectionFunc(dmat = g_n, i = mean_int,order=degree)"
   ]
  },
  {
   "cell_type": "code",
   "execution_count": null,
   "metadata": {},
   "outputs": [],
   "source": [
    "ind = 6\n",
    "plt.plot(mean_int,g_n[:,ind],'o')\n",
    "\n",
    "plt.plot(mean_int,cn(mean_int),'o')\n",
    "plt.ylim(0.6,1.2)"
   ]
  },
  {
   "cell_type": "code",
   "execution_count": 41,
   "metadata": {},
   "outputs": [
    {
     "name": "stdout",
     "output_type": "stream",
     "text": [
      "[u'ave_tot_int', u'ebeam', u'event_time', u'evr', u'fiducials', u'flat_img', u'gas_detector', u'phase_cav']\n"
     ]
    }
   ],
   "source": [
    "single_int_dir = '/reg/d/psdm/cxi/cxilr6716/scratch/flatfield_calibration/flat_det_imgs/'\n",
    "f_imgs = h5py.File(os.path.join(single_int_dir,'fullImgs_run%d.h5'%run))\n",
    "print f_imgs.keys()"
   ]
  },
  {
   "cell_type": "code",
   "execution_count": null,
   "metadata": {},
   "outputs": [],
   "source": []
  }
 ],
 "metadata": {
  "kernelspec": {
   "display_name": "Python 2 ana-1.3.10",
   "language": "python",
   "name": "ana-1.3.10"
  },
  "language_info": {
   "codemirror_mode": {
    "name": "ipython",
    "version": 2
   },
   "file_extension": ".py",
   "mimetype": "text/x-python",
   "name": "python",
   "nbconvert_exporter": "python",
   "pygments_lexer": "ipython2",
   "version": "2.7.13"
  }
 },
 "nbformat": 4,
 "nbformat_minor": 2
}
