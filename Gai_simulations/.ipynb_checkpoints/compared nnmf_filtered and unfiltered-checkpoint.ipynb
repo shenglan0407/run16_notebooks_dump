{
 "cells": [
  {
   "cell_type": "code",
   "execution_count": 19,
   "metadata": {},
   "outputs": [],
   "source": [
    "%matplotlib inline\n",
    "import matplotlib.pyplot as plt\n",
    "import matplotlib as mpl\n",
    "import numpy as np\n",
    "import h5py\n",
    "import os\n",
    "\n",
    "from scipy.interpolate import interp1d\n",
    "from scipy.optimize import curve_fit\n",
    "from matplotlib.gridspec import GridSpec\n",
    "mpl.rcParams['font.size']=18\n",
    "mpl.rcParams['font.serif'] = \"Bitstream Vera Serif\"\n",
    "mpl.rcParams['font.family'] = \"serif\"\n",
    "\n",
    "import glob\n",
    "from numpy.polynomial.legendre import legfit,legval\n",
    "\n",
    "from sklearn.decomposition.pca import PCA\n",
    "from sklearn.decomposition import NMF"
   ]
  },
  {
   "cell_type": "code",
   "execution_count": 8,
   "metadata": {},
   "outputs": [],
   "source": [
    "def get_leg_coef(cpsi,all_cors, max_deg):\n",
    "    deg = range(0,max_deg,2)\n",
    "    all_coefs=[]\n",
    "    for cors in all_cors:\n",
    "        coef = []\n",
    "\n",
    "        for ii in range(cors.shape[0]):\n",
    "            x=cpsi[ii]\n",
    "            cc=legfit(x,cors[ii],deg)\n",
    "            coef.append(cc)\n",
    "        coef=np.array(coef)\n",
    "        coef=coef[:,::2]\n",
    "        all_coefs.append(coef)\n",
    "    all_coefs=np.array(all_coefs)\n",
    "    return all_coefs\n",
    "    \n",
    "def get_cpsi(num_phi, wavlen, q1, q2):\n",
    "        \"\"\"\n",
    "        Returns cos psi values\n",
    "        ================================================================\n",
    "        num_phi  - int, number of phi values in the ring\n",
    "        \n",
    "        wavlen   - float, wavelength in angstrom\n",
    "        \n",
    "        q1, q2   - float, magnitudes of q values\n",
    "        \n",
    "        Returns:\n",
    "        cpsi     - 1d array, shape = (num_phi)\n",
    "        \"\"\"\n",
    "        phis = np.arange( num_phi ) * 2 * np.pi / num_phi\n",
    "        th1 = np.arcsin( q1 * wavlen / 4. / np.pi )\n",
    "        th2 = np.arcsin( q2 * wavlen / 4. / np.pi )\n",
    "        cpsi = np.cos(phis) * np.cos(th1)*np.cos(th2) + np.sin(th1)*np.sin(th2)\n",
    "        \n",
    "        return cpsi"
   ]
  },
  {
   "cell_type": "code",
   "execution_count": 9,
   "metadata": {},
   "outputs": [],
   "source": [
    "f_all = h5py.File('/reg/d/psdm/cxi/cxilr6716/scratch/gai_simulations/Gi-GDP_closed/all_dif_cor.hdf5','r')\n",
    "f_all['Gi-GDP_closed_water_shell_5A_0'].keys()\n",
    "all_qs=f_all['qvalues'].value"
   ]
  },
  {
   "cell_type": "code",
   "execution_count": null,
   "metadata": {},
   "outputs": [],
   "source": []
  },
  {
   "cell_type": "code",
   "execution_count": 115,
   "metadata": {},
   "outputs": [
    {
     "name": "stdout",
     "output_type": "stream",
     "text": [
      "number of open models:121\n"
     ]
    }
   ],
   "source": [
    "phi_offset = 15\n",
    "num_phi = 326\n",
    "names_gdpClosed_model=[]\n",
    "\n",
    "cor_gdpClosed_confs = []\n",
    "waxs_gdpClosed_confs = []\n",
    "\n",
    "# now load the open models\n",
    "f = h5py.File('/reg/d/psdm/cxi/cxilr6716/scratch/gai_simulations/Gi-GDP_closed/Gi-GDP_closed_all_sim.hdf5','r')\n",
    "frame_names = [k for k in f.keys() if k.startswith('Gi-GDP_closed')]\n",
    "order =  np.argsort([int(kk.split('_')[-1]) for kk in frame_names])\n",
    "inds = np.array(sorted([int(kk.split('_')[-1]) for kk in frame_names]))\n",
    "frame_names = np.array(frame_names)[order]\n",
    "names_gdpClosed_model.append(frame_names)\n",
    "print \"number of open models:%d\"%frame_names.size\n",
    "\n",
    "for idx, name in enumerate(frame_names):\n",
    "    cor_gdpClosed_confs.append(f[name]['norm_corr'].value[:])#, phi_offset:num_phi/2-phi_offset])  \n",
    "    try:\n",
    "        waxs_gdpClosed_confs.append(f[name]['rad_prof'].value)  \n",
    "    except:\n",
    "        continue\n",
    "sim_wavlen = f['wavlen_in_angstrom'].value\n",
    "qvalue=f['qvalues'].value\n",
    "f.close()\n",
    "cor_gdpClosed_confs=np.array(cor_gdpClosed_confs)\n",
    "cor_gdpClosed_confs = (cor_gdpClosed_confs[:,:,:num_phi/2]+cor_gdpClosed_confs[:,:,num_phi/2:])/2.\n",
    "cor_gdpClosed_confs-=cor_gdpClosed_confs.min(-1)[:,:,None]\n",
    "cor_gdpClosed_confs=cor_gdpClosed_confs[:,:,phi_offset:num_phi/2-phi_offset]\n",
    "waxs_gdpClosed_confs=np.array(waxs_gdpClosed_confs)\n",
    "\n",
    "sim_cpsi= np.zeros( (cor_gdpClosed_confs.shape[1], num_phi) )\n",
    "for idx in range(cor_gdpClosed_confs.shape[1]):\n",
    "    sim_cpsi[idx] = get_cpsi(num_phi,sim_wavlen,qvalue[idx],qvalue[idx])\n",
    "sim_cpsi = sim_cpsi[:, phi_offset:num_phi/2-phi_offset]"
   ]
  },
  {
   "cell_type": "code",
   "execution_count": 112,
   "metadata": {},
   "outputs": [
    {
     "data": {
      "text/plain": [
       "(36, 163)"
      ]
     },
     "execution_count": 112,
     "metadata": {},
     "output_type": "execute_result"
    }
   ],
   "source": [
    "cor_gdpClosed_confs.shape\n",
    "sim_cpsi.shape\n"
   ]
  },
  {
   "cell_type": "code",
   "execution_count": 113,
   "metadata": {},
   "outputs": [],
   "source": [
    "# np.save('/reg/d/psdm/cxi/cxilr6716/results/nnmf_filter/GDP-AlF_closed_140models.npy', cor_gdpClosed_confs)\n",
    "# np.save('/reg/d/psdm/cxi/cxilr6716/results/nnmf_filter/sim_cpsi.npy', sim_cpsi)"
   ]
  },
  {
   "cell_type": "code",
   "execution_count": 117,
   "metadata": {},
   "outputs": [
    {
     "data": {
      "text/plain": [
       "[<matplotlib.lines.Line2D at 0x7f69ad561750>]"
      ]
     },
     "execution_count": 117,
     "metadata": {},
     "output_type": "execute_result"
    },
    {
     "data": {
      "image/png": "[encoded data removed]",
      "text/plain": [
       "<matplotlib.figure.Figure at 0x7f69adb2a490>"
      ]
     },
     "metadata": {},
     "output_type": "display_data"
    }
   ],
   "source": [
    "qidx = 0\n",
    "n_comp =10\n",
    "threhold=1./n_comp/10.\n",
    "pca = PCA(n_components=n_comp)\n",
    "num_models=[]\n",
    "\n",
    "for qidx in range(cor_gdpClosed_confs.shape[1]):\n",
    "    pca.fit(cor_gdpClosed_confs[:,qidx])\n",
    "    num_models.append( np.sum(pca.explained_variance_ratio_>threhold) )\n",
    "num_models=np.array(num_models)\n",
    "plt.plot(qvalue,num_models,'o')"
   ]
  },
  {
   "cell_type": "code",
   "execution_count": 119,
   "metadata": {},
   "outputs": [
    {
     "name": "stdout",
     "output_type": "stream",
     "text": [
      "(121, 133) (121, 5) (5, 133)\n"
     ]
    },
    {
     "data": {
      "text/plain": [
       "[<matplotlib.lines.Line2D at 0x7f69ad4f5790>]"
      ]
     },
     "execution_count": 119,
     "metadata": {},
     "output_type": "execute_result"
    },
    {
     "data": {
      "image/png": "[encoded data removed]",
      "text/plain": [
       "<matplotlib.figure.Figure at 0x7f69ad4f5c50>"
      ]
     },
     "metadata": {},
     "output_type": "display_data"
    }
   ],
   "source": [
    "qidx=0\n",
    "model = NMF(n_components=num_models[qidx])\n",
    "# model = NMF(n_components=40)\n",
    "X = cor_gdpClosed_confs[:,qidx,:]\n",
    "W=model.fit_transform(X)\n",
    "H=model.components_\n",
    "print X.shape, W.shape,H.shape\n",
    "\n",
    "new_X = W.dot(H)\n",
    "nn=10\n",
    "plt.plot(X[nn])\n",
    "plt.plot(new_X[nn])"
   ]
  },
  {
   "cell_type": "code",
   "execution_count": 69,
   "metadata": {},
   "outputs": [
    {
     "ename": "SyntaxError",
     "evalue": "invalid syntax (<ipython-input-69-48d5cf114dfc>, line 2)",
     "output_type": "error",
     "traceback": [
      "\u001b[0;36m  File \u001b[0;32m\"<ipython-input-69-48d5cf114dfc>\"\u001b[0;36m, line \u001b[0;32m2\u001b[0m\n\u001b[0;31m    new_data =\u001b[0m\n\u001b[0m               ^\u001b[0m\n\u001b[0;31mSyntaxError\u001b[0m\u001b[0;31m:\u001b[0m invalid syntax\n"
     ]
    }
   ],
   "source": [
    "data = np.random.rand(10,X.shape[-1])\n",
    "new_data = \n"
   ]
  },
  {
   "cell_type": "code",
   "execution_count": 45,
   "metadata": {},
   "outputs": [],
   "source": [
    "\n",
    "# mkdir /reg//d/psdm/cxi/cxilr6716/results/nnmf_filter\n"
   ]
  },
  {
   "cell_type": "code",
   "execution_count": 59,
   "metadata": {},
   "outputs": [],
   "source": [
    "x = (cor_gdpClosed_confs[:,:,:num_phi/2]+cor_gdpClosed_confs[:,:,num_phi/2:])/2."
   ]
  },
  {
   "cell_type": "code",
   "execution_count": 62,
   "metadata": {},
   "outputs": [
    {
     "data": {
      "text/plain": [
       "[<matplotlib.lines.Line2D at 0x7f69c0244490>]"
      ]
     },
     "execution_count": 62,
     "metadata": {},
     "output_type": "execute_result"
    },
    {
     "data": {
      "image/png": "[encoded data removed]",
      "text/plain": [
       "<matplotlib.figure.Figure at 0x7f69c05a3d10>"
      ]
     },
     "metadata": {},
     "output_type": "display_data"
    }
   ],
   "source": [
    "phi_offset=10\n",
    "plt.plot(x[0,33,phi_offset:num_phi/2-phi_offset])\n",
    "# plt.plot(cor_gdpClosed_confs[0,35,phi_offset:num_phi/2-phi_offset])"
   ]
  },
  {
   "cell_type": "code",
   "execution_count": null,
   "metadata": {},
   "outputs": [],
   "source": []
  }
 ],
 "metadata": {
  "kernelspec": {
   "display_name": "Python 2 ana-1.3.10",
   "language": "python",
   "name": "ana-1.3.10"
  },
  "language_info": {
   "codemirror_mode": {
    "name": "ipython",
    "version": 2
   },
   "file_extension": ".py",
   "mimetype": "text/x-python",
   "name": "python",
   "nbconvert_exporter": "python",
   "pygments_lexer": "ipython2",
   "version": "2.7.13"
  }
 },
 "nbformat": 4,
 "nbformat_minor": 2
}
