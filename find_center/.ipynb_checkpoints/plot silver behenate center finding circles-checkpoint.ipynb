{
 "cells": [
  {
   "cell_type": "code",
   "execution_count": null,
   "metadata": {},
   "outputs": [],
   "source": [
    "%matplotlib inline\n",
    "import matplotlib.pyplot as plt\n",
    "import numpy as np\n",
    "import h5py\n",
    "\n",
    "from psana import *\n"
   ]
  },
  {
   "cell_type": "code",
   "execution_count": null,
   "metadata": {},
   "outputs": [],
   "source": [
    "silver=np.load('/reg/d/psdm/cxi/cxilr6716/scratch/centerCalib_calibration/silver_run66_z100.npy')"
   ]
  },
  {
   "cell_type": "code",
   "execution_count": null,
   "metadata": {},
   "outputs": [],
   "source": [
    "print 214-165\n",
    "print 165-109\n",
    "214./52.5\n",
    "109/52.2"
   ]
  },
  {
   "cell_type": "code",
   "execution_count": null,
   "metadata": {
    "scrolled": false
   },
   "outputs": [],
   "source": [
    "fit = np.array([873.92857142857144, 873.57142857142856, 364.0])\n",
    "fit2 = np.array([874.57142857142856, 875.07142857142856, 288.0])\n",
    "fit3 = np.array([874.35714285714289, 874.85714285714289, 192.0])\n",
    "fit4 = np.array([873.71428571428567, 873.57142857142856, 96.0])\n",
    "\n",
    "plt.figure(figsize=[16,16])\n",
    "ax = plt.subplot(111)\n",
    "cir = plt.Circle(fit[:2],fit[-1], color='c', linewidth=4, fill=False)\n",
    "cir2 = plt.Circle(fit2[:2],fit2[-1], color='c', linewidth=4, fill=False, alpha = 0.5)\n",
    "cir3 = plt.Circle(fit3[:2],fit3[-1], color='c', linewidth=4, fill=False, alpha = 0.5)\n",
    "cir4 = plt.Circle(fit4[:2],fit4[-1], color='c', linewidth=4, fill=False, alpha = 0.5)\n",
    "ax.add_artist(cir)\n",
    "ax.add_artist(cir2)\n",
    "ax.add_artist(cir3)\n",
    "ax.add_artist(cir4)\n",
    "plt.imshow(silver,aspect=1,cmap = 'hot',vmin=0,vmax=300)\n",
    "# plt.imshow(silver>100,aspect=1,cmap = 'hot')\n",
    "plt.scatter(fit[0],fit[1], marker='*',s=200)\n",
    "plt.scatter(fit2[0],fit2[1], marker='*',s=200)\n",
    "plt.scatter(fit3[0],fit3[1], marker='*',s=200)"
   ]
  },
  {
   "cell_type": "code",
   "execution_count": null,
   "metadata": {},
   "outputs": [],
   "source": [
    "print (fit+fit2+fit3+fit4)/4.\n",
    "print np.vstack((fit,fit2,fit3,fit4)).std(0)\n",
    "print np.vstack((fit,fit2,fit3,fit4)).mean(0)"
   ]
  },
  {
   "cell_type": "code",
   "execution_count": null,
   "metadata": {},
   "outputs": [],
   "source": [
    "silver_rp=np.load('/reg/d/psdm/cxi/cxilr6716/scratch/centerCalib_calibration/silverRP_run66_z100.npy')"
   ]
  },
  {
   "cell_type": "code",
   "execution_count": null,
   "metadata": {},
   "outputs": [],
   "source": [
    "plt.plot(silver_rp)\n",
    "# plt.vlines([fit[-1],fit2[-1],fit3[-1]],0,500)\n",
    "# \n",
    "plt.vlines([95,191,289,366],0,800)\n",
    "plt.ylim(0,100)\n",
    "plt.xlim(10,450)"
   ]
  },
  {
   "cell_type": "code",
   "execution_count": null,
   "metadata": {},
   "outputs": [],
   "source": [
    "fit2"
   ]
  },
  {
   "cell_type": "raw",
   "metadata": {},
   "source": [
    "#code to use\n",
    "rf.fit_circle_slow((875,875,290.8), ring_scan_width=5,center_scan_wi\n",
    "     ...: dth=3,resolution=0.2)\n",
    "Out[169]: (876.07142857142856, 876.07142857142856, 292.0)\n",
    "\n",
    "In [170]: center = np.array([ 875.92857143,  876])\n",
    "\n",
    "In [171]: RP = RadialProfile(center=center,img_shape=shape,mask=mask,minlength\n",
    "     ...: =shape[0])\n",
    "\n",
    "In [172]: silver_rp=RP.calculate(silver)\n",
    "\n",
    "In [173]: np.save('/reg/d/psdm/cxi/cxilr6716/scratch/centerCalib_calibration/s\n",
    "     ...: ilverRP_run127_z200.npy',silver_rp)"
   ]
  }
 ],
 "metadata": {
  "kernelspec": {
   "display_name": "Python 2 ana-1.3.10",
   "language": "python",
   "name": "ana-1.3.10"
  },
  "language_info": {
   "codemirror_mode": {
    "name": "ipython",
    "version": 2
   },
   "file_extension": ".py",
   "mimetype": "text/x-python",
   "name": "python",
   "nbconvert_exporter": "python",
   "pygments_lexer": "ipython2",
   "version": "2.7.13"
  }
 },
 "nbformat": 4,
 "nbformat_minor": 2
}
