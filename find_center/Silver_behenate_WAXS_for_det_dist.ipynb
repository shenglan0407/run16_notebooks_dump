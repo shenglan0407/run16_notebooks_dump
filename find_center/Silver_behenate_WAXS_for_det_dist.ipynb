{
 "cells": [
  {
   "cell_type": "code",
   "execution_count": 1,
   "metadata": {},
   "outputs": [],
   "source": [
    "%matplotlib inline\n",
    "import matplotlib.pyplot as plt\n",
    "import numpy as np\n",
    "import h5py\n"
   ]
  },
  {
   "cell_type": "code",
   "execution_count": 2,
   "metadata": {},
   "outputs": [],
   "source": [
    "rp1=np.load('run56_silverB_rp1.npy')\n",
    "rp2=np.load('run56_silverB_rp2.npy')"
   ]
  },
  {
   "cell_type": "code",
   "execution_count": 7,
   "metadata": {},
   "outputs": [],
   "source": [
    "photon_energy=9498.4210\n",
    "c = 2.998e8\n",
    "h = 6.63e-34\n",
    "ev_to_j = 1.602e-19\n",
    "wavlen = c * h / (photon_energy * ev_to_j) * 1e10 # in angstrom\n",
    "pixel_size=110e-6 #110 um"
   ]
  },
  {
   "cell_type": "code",
   "execution_count": 11,
   "metadata": {},
   "outputs": [
    {
     "data": {
      "text/plain": [
       "<matplotlib.collections.LineCollection at 0x7f9187367310>"
      ]
     },
     "execution_count": 11,
     "metadata": {},
     "output_type": "execute_result"
    },
    {
     "data": {
      "image/png": "[encoded data removed]",
      "text/plain": [
       "<matplotlib.figure.Figure at 0x7f918738d8d0>"
      ]
     },
     "metadata": {},
     "output_type": "display_data"
    }
   ],
   "source": [
    "pos=[105,135,268]\n",
    "plt.figure()\n",
    "plt.plot(rp1)\n",
    "# plt.xlim(250,285)\n",
    "# plt.ylim(1.4e6,2.1e6)\n",
    "plt.vlines(pos, 0, rp1.max())\n",
    "# plt.figure()\n",
    "# plt.plot(rp2)\n",
    "# plt.xlim(40,500)\n",
    "# plt.vlines(pos, 0, rp2.max())"
   ]
  },
  {
   "cell_type": "code",
   "execution_count": 17,
   "metadata": {},
   "outputs": [
    {
     "data": {
      "text/plain": [
       "28.9375"
      ]
     },
     "execution_count": 17,
     "metadata": {},
     "output_type": "execute_result"
    }
   ],
   "source": [
    "#100 pixel is about \n",
    "65/2.\n",
    "135/4.\n",
    "268/8.\n",
    "(60+135+268)/16.\n"
   ]
  },
  {
   "cell_type": "code",
   "execution_count": 19,
   "metadata": {},
   "outputs": [
    {
     "name": "stdout",
     "output_type": "stream",
     "text": [
      "0.143034285627\n",
      "2.36243979498\n"
     ]
    }
   ],
   "source": [
    "d = (28.93*4)*pixel_size\n",
    "q=0.1067*4\n",
    "theta=np.arcsin(q*wavlen/4./np.pi)\n",
    "det_dist = d/ np.tan(2*theta)\n",
    "print det_dist\n",
    "\n",
    "water_theta = np.arctan(704*pixel_size/det_dist)/2.\n",
    "print 4*np.pi/wavlen* np.sin(water_theta)"
   ]
  },
  {
   "cell_type": "code",
   "execution_count": 137,
   "metadata": {},
   "outputs": [
    {
     "name": "stdout",
     "output_type": "stream",
     "text": [
      "1.28616291147\n"
     ]
    }
   ],
   "source": [
    "\n",
    "any_theta = np.arctan(415*pixel_size/det_dist)/2.\n",
    "print 4*np.pi/wavlen* np.sin(any_theta)"
   ]
  },
  {
   "cell_type": "code",
   "execution_count": 128,
   "metadata": {},
   "outputs": [
    {
     "data": {
      "text/plain": [
       "415"
      ]
     },
     "execution_count": 128,
     "metadata": {},
     "output_type": "execute_result"
    }
   ],
   "source": [
    "65+350"
   ]
  },
  {
   "cell_type": "code",
   "execution_count": 133,
   "metadata": {},
   "outputs": [
    {
     "data": {
      "text/plain": [
       "0.02"
      ]
     },
     "execution_count": 133,
     "metadata": {},
     "output_type": "execute_result"
    }
   ],
   "source": [
    "(1.2-0.2)/50"
   ]
  },
  {
   "cell_type": "code",
   "execution_count": null,
   "metadata": {},
   "outputs": [],
   "source": []
  }
 ],
 "metadata": {
  "kernelspec": {
   "display_name": "Python 2 ana-1.3.10",
   "language": "python",
   "name": "ana-1.3.10"
  },
  "language_info": {
   "codemirror_mode": {
    "name": "ipython",
    "version": 2
   },
   "file_extension": ".py",
   "mimetype": "text/x-python",
   "name": "python",
   "nbconvert_exporter": "python",
   "pygments_lexer": "ipython2",
   "version": "2.7.13"
  }
 },
 "nbformat": 4,
 "nbformat_minor": 2
}
