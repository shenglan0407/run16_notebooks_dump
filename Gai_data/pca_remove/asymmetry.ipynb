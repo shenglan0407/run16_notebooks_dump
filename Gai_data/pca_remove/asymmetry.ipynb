{
 "cells": [
  {
   "cell_type": "code",
   "execution_count": 1,
   "metadata": {},
   "outputs": [],
   "source": [
    "%matplotlib inline\n",
    "import matplotlib.pyplot as plt\n",
    "import h5py\n",
    "import numpy as np\n",
    "from numpy import polyfit,polyval\n",
    "from numpy.polynomial.legendre import legval,legfit\n",
    "\n",
    "import sys\n",
    "sys.path.append('/reg/neh/home/qiaoshen/GitHub/loki/src/RingData/')\n",
    "from DiffCorr import DiffCorr\n",
    "\n",
    "import glob"
   ]
  },
  {
   "cell_type": "code",
   "execution_count": 175,
   "metadata": {},
   "outputs": [],
   "source": [
    "def get_cors(run_num, sample,\n",
    "            file_num):\n",
    "    #get mask used for run\n",
    "    f_mask = h5py.File('/reg/d/psdm/cxi/cxilr6716/scratch/combined_tables/cali_gai/run%d.tbl'%run_num,'r')\n",
    "\n",
    "    mask = f_mask['polar_mask_binned'].value\n",
    "    mask = (mask==mask.max())\n",
    "    mask.shape\n",
    "    qs = np.linspace(0,1,mask.shape[0])\n",
    "    dc=DiffCorr(mask[None,:,:],qs,0,pre_dif=True)\n",
    "    mask_cor = dc.autocorr().mean(0)\n",
    "    \n",
    "    f_mask.close()\n",
    "    \n",
    "    f = h5py.File('/reg/d/psdm/cxi/cxilr6716/scratch/pca_denoise/cali_gai_filtered2/%s/run%d_PCA-denoise_%d.h5'%(sample, run_num, file_num),\n",
    "                   'r')\n",
    "    cors=[]\n",
    "    all_cors=[]\n",
    "    all_errs=[]\n",
    "    for qidx in range(36):\n",
    "        cors=[]\n",
    "        errs=[]\n",
    "        for ii in range(20):\n",
    "            cors.append(f['q%d'%qidx]['pca%d'%ii]['train_difcor'].value[0]/mask_cor[qidx])\n",
    "            errs.append(f['q%d'%qidx]['pca%d'%ii]['train_difcor_err'][0]/mask_cor[qidx])\n",
    "        cors=np.array(cors)\n",
    "        errs=np.array(errs)\n",
    "\n",
    "        all_cors.append(cors)\n",
    "        all_errs.append(errs)\n",
    "    all_cors=np.array(all_cors)\n",
    "    all_errs=np.array(all_errs)\n",
    "    num_shots=f['q14']['num_shots'].value\n",
    "    f.close()\n",
    "    \n",
    "    return num_shots,all_cors,all_errs\n",
    "\n",
    "def normalize_set(d):\n",
    "    x=d.copy()\n",
    "    x-=x.min(-1)[:,None]\n",
    "    return x/(x.max(-1)[:,None])\n",
    "\n",
    "def compute_asym(corr, phi_offset=10,num_phi=326, norm = True):\n",
    "    if norm:\n",
    "        asym = (normalize_set(corr[:,phi_offset:num_phi/2-phi_offset])\\\n",
    "                      -normalize_set(corr[:,num_phi/2+phi_offset:-phi_offset]) )\n",
    "    else:\n",
    "        asym=(corr[:,phi_offset:num_phi/2-phi_offset]\\\n",
    "                      -corr[:,num_phi/2+phi_offset:-phi_offset])\\\n",
    "        /(corr[:,phi_offset:num_phi/2-phi_offset].max()\\\n",
    "          -corr[:,num_phi/2+phi_offset:-phi_offset].min())\n",
    "        \n",
    "    return np.mean(asym**2, axis=-1)**0.5\n",
    "\n",
    "def normalize(d):\n",
    "    x=d.copy()\n",
    "    x-=x.min()\n",
    "    return x/(x.max())\n",
    "\n",
    "\n",
    "def average_cors_with_low_asym(run_nums,sample, num_phi = 326,phi_offset=10,\n",
    "                              pca0=False):\n",
    "    all_num_shots=None\n",
    "    all_errs = None\n",
    "    all_cors=None\n",
    "    all_pca_nums=[]\n",
    "   \n",
    "    for nn in run_nums:\n",
    "        flist=glob.glob('/reg/d/psdm/cxi/cxilr6716/scratch/pca_denoise/cali_gai_filtered2/%s/run%d_PCA-denoise_*.h5'%(sample,nn))\n",
    "        for f_num in range(len(flist)):\n",
    "            num_shots,cors,errs=get_cors(nn, sample,f_num)\n",
    "            if pca0:\n",
    "                inds_selected = np.zeros(cors.shape[0]).astype(int)\n",
    "            else:\n",
    "                #get assym\n",
    "                asyms=np.zeros((cors.shape[0],cors.shape[1]))\n",
    "\n",
    "                for ii in range(cors.shape[1]):\n",
    "    #                 asyms[:,ii]=compute_asym(cors[:,ii,:],phi_offset=phi_offset, norm=True)\n",
    "                    asyms[:,ii]=compute_asym2(cpsi,cors[:,ii,:])\n",
    "                inds_selected = asyms[:,2:].argmin(-1)+2\n",
    "\n",
    "            if all_num_shots is None:\n",
    "                all_num_shots=num_shots\n",
    "                all_cors=np.array([cors[qq,jj,:] for qq,jj in enumerate(inds_selected)])*num_shots\n",
    "                all_errs=np.array([errs[qq,jj,:] for qq,jj in enumerate(inds_selected)])**2*num_shots**2\n",
    "            else:\n",
    "                all_num_shots+=num_shots\n",
    "                all_cors+=np.array([cors[qq,jj,:] for qq,jj in enumerate(inds_selected)])*num_shots\n",
    "                all_errs+=np.array([errs[qq,jj,:] for qq,jj in enumerate(inds_selected)])**2*num_shots**2\n",
    "                \n",
    "            all_pca_nums.append(inds_selected)\n",
    "    \n",
    "            \n",
    "    return all_num_shots, all_cors/all_num_shots, np.sqrt(all_errs)/all_num_shots, np.array(all_pca_nums)\n",
    "\n",
    "def compute_asym2(cpsi,cors,\n",
    "                  phi_off=10, \n",
    "                  num_phi = 326,\n",
    "                  max_deg =30):\n",
    "    deg = range(0,max_deg)\n",
    "    coef = []\n",
    "#     cor_legfit = np.zeros_like(cors[:,phi_off:num_phi/2-phi_off])\n",
    "    for ii in range(cors.shape[0]):\n",
    "        x=cpsi[ii,phi_off:num_phi/2-phi_off]\n",
    "        cc=legfit(x,cors[ii,phi_off:num_phi/2-phi_off],deg)\n",
    "        coef.append(cc)\n",
    "#         cor_legfit[ii] = legval(x,cc)\n",
    "    coef=np.array(coef)\n",
    "#     y = (np.abs(coef[:,::2])/np.abs(coef[:,1::2])).sum(-1)\n",
    "    y = np.abs(coef[:,::2]).sum(-1)/np.abs(coef[:,1::2]).sum(-1)\n",
    "\n",
    "    return y"
   ]
  },
  {
   "cell_type": "code",
   "execution_count": 194,
   "metadata": {},
   "outputs": [],
   "source": [
    "def save_num_pca(run_num,sample,num_pca, delete=False,\n",
    "                file_num = None):\n",
    "    \n",
    "    \n",
    "    f= h5py.File('/reg/d/psdm/cxi/cxilr6716/scratch/pca_denoise/cali_gai_filtered2/%s/run%d_PCA-denoise_%d.h5'%(sample,run_num,file_num),'a')\n",
    "    print f\n",
    "    qkeys=[kk for kk in f.keys() if kk.startswith('q')]\n",
    "    inds=[int(kk.split('q')[-1]) for kk in qkeys]\n",
    "    order = np.argsort(inds)\n",
    "    qkeys=np.array(qkeys)[order]\n",
    "\n",
    "    for ii, qk in enumerate(qkeys):\n",
    "        n_p=num_pca[ii]\n",
    "        grp=f[qk]\n",
    "#         print n_p\n",
    "        if 'num_pca_cutoff' in grp.keys():\n",
    "            if delete:\n",
    "                grp.__delitem__('num_pca_cutoff')\n",
    "            else:\n",
    "                print('already save for %s'%qk)\n",
    "                continue\n",
    "\n",
    "        grp.create_dataset('num_pca_cutoff',data=n_p)\n",
    "    f.close()"
   ]
  },
  {
   "cell_type": "code",
   "execution_count": 3,
   "metadata": {},
   "outputs": [],
   "source": [
    "cpsi=np.load('/reg/neh/home/qiaoshen/run16_notebooks/encodeZ400_cpsi.npy')"
   ]
  },
  {
   "cell_type": "code",
   "execution_count": 201,
   "metadata": {},
   "outputs": [
    {
     "name": "stdout",
     "output_type": "stream",
     "text": [
      "run118_PCA-denoise_0.h5  run119_PCA-denoise_1.h5  run122_PCA-denoise_0.h5\r\n",
      "run118_PCA-denoise_1.h5  run119_PCA-denoise_2.h5  run122_PCA-denoise_1.h5\r\n",
      "run119_PCA-denoise_0.h5  run119_PCA-denoise_3.h5\r\n"
     ]
    }
   ],
   "source": [
    "ls /reg/d/psdm/cxi/cxilr6716/scratch/pca_denoise/cali_gai_filtered2/ALF_buf/"
   ]
  },
  {
   "cell_type": "code",
   "execution_count": 199,
   "metadata": {},
   "outputs": [
    {
     "name": "stdout",
     "output_type": "stream",
     "text": [
      "302302 229242 723191 279669\n"
     ]
    }
   ],
   "source": [
    "ALFbuf_runs=[118,119,122]\n",
    "ALFbuf_Nshots,ALFbuf,ALFbuf_errs,ALFbuf_pca=average_cors_with_low_asym(ALFbuf_runs,'ALF_buf')\n",
    "\n",
    "ALFpro_runs=[120,121,123,124]\n",
    "ALFpro_Nshots,ALFpro,ALFpro_errs,ALFpro_pca=average_cors_with_low_asym(ALFpro_runs,'ALF_pro')\n",
    "\n",
    "\n",
    "GDPbuf_runs=[99,100,105,106,107,108,109,117]\n",
    "GDPbuf_Nshots,GDPbuf,GDPbuf_errs,GDPbuf_pca=average_cors_with_low_asym(GDPbuf_runs,'GDP_buf')\n",
    "\n",
    "GDPpro_runs=[101,102,103,111,112,114,115,116]\n",
    "GDPpro_Nshots,GDPpro,GDPpro_errs,GDPpro_pca=average_cors_with_low_asym(GDPpro_runs,'GDP_pro')\n",
    "\n",
    "print ALFpro_Nshots, ALFbuf_Nshots, GDPpro_Nshots,GDPbuf_Nshots\n",
    "\n",
    "total_num_shots = np.array([GDPpro_Nshots,GDPbuf_Nshots,ALFpro_Nshots,ALFbuf_Nshots]).astype(float)\n",
    "\n",
    "# GDPpro *= GDPpro_Nshots/total_num_shots.sum()\n",
    "# GDPpro_errs *= GDPpro_Nshots/total_num_shots.sum()\n",
    "# ALFpro *= ALFpro_Nshots/total_num_shots.sum()\n",
    "# ALFpro_errs *= ALFpro_Nshots/total_num_shots.sum()\n",
    "\n",
    "# GDPbuf *= GDPbuf_Nshots/total_num_shots.sum()\n",
    "# GDPbuf_errs *= GDPbuf_Nshots/total_num_shots.sum()\n",
    "# ALFbuf *= ALFbuf_Nshots/total_num_shots.sum()\n",
    "# ALFbuf_errs *= ALFbuf_Nshots/total_num_shots.sum()\n",
    "\n",
    "\n",
    "ALF_diff =ALFpro - ALFbuf\n",
    "ALFerr = np.sqrt((ALFpro_errs**2+ALFbuf_errs**2))\n",
    "GDP_diff =GDPpro - GDPbuf\n",
    "GDPerr = np.sqrt((GDPpro_errs**2+GDPbuf_errs**2))\n",
    "\n",
    "# f_out=h5py.File('/reg/d/psdm/cxi/cxilr6716/scratch/pca_remove_result.h5','w')\n",
    "# f_out.create_dataset('GDP_pro_err',data = GDPpro_errs)\n",
    "# f_out.create_dataset('GDP_pro',data = GDPpro)\n",
    "\n",
    "# f_out.create_dataset('ALF_pro_err',data = ALFpro_errs)\n",
    "# f_out.create_dataset('ALF_pro',data = ALFpro)\n",
    "\n",
    "# f_out.create_dataset('GDP_buf_err',data = GDPbuf_errs)\n",
    "# f_out.create_dataset('GDP_buf',data = GDPbuf)\n",
    "\n",
    "# f_out.create_dataset('ALF_buf_err',data = ALFbuf_errs)\n",
    "# f_out.create_dataset('ALF_buf',data = ALFbuf)\n",
    "\n",
    "# f_out.create_dataset('ALF_diff',data=ALF_diff)\n",
    "# f_out.create_dataset('GDP_diff',data=GDP_diff)\n",
    "\n",
    "\n",
    "# f_out.create_dataset('ALFdiff_err',data=ALFerr)\n",
    "# f_out.create_dataset('GDPdiff_err',data=GDPerr)\n",
    "\n",
    "# f_out.create_dataset('nShots_pro_buf_GDP_ALF',data = total_num_shots)\n",
    "                     \n",
    "# f_out.close()"
   ]
  },
  {
   "cell_type": "code",
   "execution_count": 205,
   "metadata": {},
   "outputs": [
    {
     "name": "stdout",
     "output_type": "stream",
     "text": [
      "<HDF5 file \"run99_PCA-denoise_0.h5\" (mode r+)>\n",
      "<HDF5 file \"run100_PCA-denoise_0.h5\" (mode r+)>\n",
      "<HDF5 file \"run100_PCA-denoise_1.h5\" (mode r+)>\n",
      "<HDF5 file \"run105_PCA-denoise_0.h5\" (mode r+)>\n",
      "<HDF5 file \"run106_PCA-denoise_0.h5\" (mode r+)>\n",
      "<HDF5 file \"run106_PCA-denoise_1.h5\" (mode r+)>\n",
      "<HDF5 file \"run107_PCA-denoise_0.h5\" (mode r+)>\n",
      "<HDF5 file \"run108_PCA-denoise_0.h5\" (mode r+)>\n",
      "<HDF5 file \"run108_PCA-denoise_1.h5\" (mode r+)>\n",
      "<HDF5 file \"run109_PCA-denoise_0.h5\" (mode r+)>\n",
      "<HDF5 file \"run109_PCA-denoise_1.h5\" (mode r+)>\n",
      "<HDF5 file \"run117_PCA-denoise_0.h5\" (mode r+)>\n"
     ]
    }
   ],
   "source": [
    "# total_files = 0\n",
    "# sample = 'GDP_buf'\n",
    "# for ii, rr in enumerate(GDPbuf_runs):\n",
    "#     files = glob.glob('/reg/d/psdm/cxi/cxilr6716/scratch/pca_denoise/cali_gai_filtered2/%s/run%d_PCA-denoise*'%(sample,rr))\n",
    "#     n_files = len(files)\n",
    "#     for jj in range(n_files):\n",
    "# #         print ALFbuf_pca[total_files+jj]\n",
    "#         save_num_pca(rr, sample, GDPbuf_pca[total_files+jj], delete=True,\n",
    "#                     file_num=jj)\n",
    "#     total_files+=n_files"
   ]
  },
  {
   "cell_type": "code",
   "execution_count": 177,
   "metadata": {},
   "outputs": [
    {
     "name": "stdout",
     "output_type": "stream",
     "text": [
      "302302 229242 723191 279669\n"
     ]
    }
   ],
   "source": [
    "# ALFbuf_runs=[118,119,122]\n",
    "# ALFbuf_Nshots,ALFbuf,ALFbuf_errs,ALFbuf_pca=average_cors_with_low_asym(ALFbuf_runs,'ALF_buf', pca0=True)\n",
    "\n",
    "# ALFpro_runs=[120,121,123,124]\n",
    "# ALFpro_Nshots,ALFpro,ALFpro_errs,ALFpro_pca=average_cors_with_low_asym(ALFpro_runs,'ALF_pro', pca0=True)\n",
    "\n",
    "\n",
    "# GDPbuf_runs=[99,100,105,106,107,108,109,117]\n",
    "# GDPbuf_Nshots,GDPbuf,GDPbuf_errs,GDPbuf_pca=average_cors_with_low_asym(GDPbuf_runs,'GDP_buf', pca0=True)\n",
    "\n",
    "# GDPpro_runs=[101,102,103,111,112,114,115,116]\n",
    "# GDPpro_Nshots,GDPpro,GDPpro_errs,GDPpro_pca=average_cors_with_low_asym(GDPpro_runs,'GDP_pro', pca0=True)\n",
    "\n",
    "# print ALFpro_Nshots, ALFbuf_Nshots, GDPpro_Nshots,GDPbuf_Nshots\n",
    "\n",
    "# total_num_shots = np.array([GDPpro_Nshots,GDPbuf_Nshots,ALFpro_Nshots,ALFbuf_Nshots]).astype(float)\n",
    "\n",
    "# GDPpro *= GDPpro_Nshots/total_num_shots.sum()\n",
    "# GDPpro_errs *= GDPpro_Nshots/total_num_shots.sum()\n",
    "# ALFpro *= ALFpro_Nshots/total_num_shots.sum()\n",
    "# ALFpro_errs *= ALFpro_Nshots/total_num_shots.sum()\n",
    "\n",
    "# GDPbuf *= GDPbuf_Nshots/total_num_shots.sum()\n",
    "# GDPbuf_errs *= GDPbuf_Nshots/total_num_shots.sum()\n",
    "# ALFbuf *= ALFbuf_Nshots/total_num_shots.sum()\n",
    "# ALFbuf_errs *= ALFbuf_Nshots/total_num_shots.sum()\n",
    "\n",
    "\n",
    "# ALF_diff =ALFpro - ALFbuf\n",
    "# ALFerr = np.sqrt((ALFpro_errs**2+ALFbuf_errs**2))\n",
    "# GDP_diff =GDPpro - GDPbuf\n",
    "# GDPerr = np.sqrt((GDPpro_errs**2+GDPbuf_errs**2))\n",
    "\n",
    "# f_out=h5py.File('/reg/d/psdm/cxi/cxilr6716/scratch/pca0_result.h5','w')\n",
    "# f_out.create_dataset('GDP_pro_err',data = GDPpro_errs)\n",
    "# f_out.create_dataset('GDP_pro',data = GDPpro)\n",
    "\n",
    "# f_out.create_dataset('ALF_pro_err',data = ALFpro_errs)\n",
    "# f_out.create_dataset('ALF_pro',data = ALFpro)\n",
    "\n",
    "# f_out.create_dataset('GDP_buf_err',data = GDPbuf_errs)\n",
    "# f_out.create_dataset('GDP_buf',data = GDPbuf)\n",
    "\n",
    "# f_out.create_dataset('ALF_buf_err',data = ALFbuf_errs)\n",
    "# f_out.create_dataset('ALF_buf',data = ALFbuf)\n",
    "\n",
    "# f_out.create_dataset('ALF_diff',data=ALF_diff)\n",
    "# f_out.create_dataset('GDP_diff',data=GDP_diff)\n",
    "\n",
    "\n",
    "# f_out.create_dataset('ALFdiff_err',data=ALFerr)\n",
    "# f_out.create_dataset('GDPdiff_err',data=GDPerr)\n",
    "\n",
    "# f_out.create_dataset('nShots_pro_buf_GDP_ALF',data = total_num_shots)\n",
    "                     \n",
    "# f_out.close()"
   ]
  },
  {
   "cell_type": "code",
   "execution_count": 213,
   "metadata": {},
   "outputs": [
    {
     "data": {
      "text/plain": [
       "<Container object of 3 artists>"
      ]
     },
     "execution_count": 213,
     "metadata": {},
     "output_type": "execute_result"
    },
    {
     "data": {
      "image/png": "[encoded data removed]",
      "text/plain": [
       "<matplotlib.figure.Figure at 0x7f4c2281c090>"
      ]
     },
     "metadata": {},
     "output_type": "display_data"
    }
   ],
   "source": [
    "qidx=10\n",
    "num_phi = 326\n",
    "phi_off=20\n",
    "# plt.errorbar(cpsi[qidx,phi_off:num_phi/2-phi_off],GDPpro[qidx,phi_off:num_phi/2-phi_off]-GDPbuf[qidx,phi_off:num_phi/2-phi_off],\n",
    "#                 yerr=GDPpro_errs[qidx,phi_off:num_phi/2-phi_off])\n",
    "\n",
    "# plt.errorbar(cpsi[qidx,phi_off:num_phi/2-phi_off],ALF_diff[qidx,phi_off:num_phi/2-phi_off],\n",
    "#                 yerr=ALFerr[qidx,phi_off:num_phi/2-phi_off])\n",
    "# # \n",
    "# plt.errorbar(cpsi[qidx,phi_off:num_phi/2-phi_off],GDP_diff[qidx,phi_off:num_phi/2-phi_off]/2.,\n",
    "#                 yerr=GDPerr[qidx,phi_off:num_phi/2-phi_off])\n",
    "plt.errorbar(cpsi[qidx,phi_off:num_phi/2-phi_off],GDPbuf[qidx,phi_off:num_phi/2-phi_off],\n",
    "                yerr=GDPbuf_errs[qidx,phi_off:num_phi/2-phi_off])\n",
    "# plt.errorbar(cpsi[qidx,phi_off:num_phi/2-phi_off],GDPpro[qidx,phi_off:num_phi/2-phi_off],\n",
    "#                 yerr=GDPpro_errs[qidx,phi_off:num_phi/2-phi_off])\n",
    "plt.errorbar(cpsi[qidx,phi_off:num_phi/2-phi_off],ALFbuf[qidx,phi_off:num_phi/2-phi_off],\n",
    "                yerr=ALFbuf_errs[qidx,phi_off:num_phi/2-phi_off])\n",
    "\n",
    "# plt.errorbar(cpsi[qidx,phi_off:num_phi/2-phi_off],ALFpro[qidx,phi_off:num_phi/2-phi_off],\n",
    "#                 yerr=ALFpro_errs[qidx,phi_off:num_phi/2-phi_off])"
   ]
  },
  {
   "cell_type": "code",
   "execution_count": 198,
   "metadata": {},
   "outputs": [
    {
     "name": "stdout",
     "output_type": "stream",
     "text": [
      "[0 0 0 0 0 0 0 0 0 0 0 0 0 0 0 0 0 0 0 0 0 0 0 0 0 0 0 0 0 0 0 0 0 0 0 0]\n",
      "[0 0 0 0 0 0 0 0 0 0 0 0 0 0 0 0 0 0 0 0 0 0 0 0 0 0 0 0 0 0 0 0 0 0 0 0]\n",
      "[0 0 0 0 0 0 0 0 0 0 0 0 0 0 0 0 0 0 0 0 0 0 0 0 0 0 0 0 0 0 0 0 0 0 0 0]\n",
      "[0 0 0 0 0 0 0 0 0 0 0 0 0 0 0 0 0 0 0 0 0 0 0 0 0 0 0 0 0 0 0 0 0 0 0 0]\n",
      "[0 0 0 0 0 0 0 0 0 0 0 0 0 0 0 0 0 0 0 0 0 0 0 0 0 0 0 0 0 0 0 0 0 0 0 0]\n",
      "[0 0 0 0 0 0 0 0 0 0 0 0 0 0 0 0 0 0 0 0 0 0 0 0 0 0 0 0 0 0 0 0 0 0 0 0]\n",
      "[0 0 0 0 0 0 0 0 0 0 0 0 0 0 0 0 0 0 0 0 0 0 0 0 0 0 0 0 0 0 0 0 0 0 0 0]\n",
      "[0 0 0 0 0 0 0 0 0 0 0 0 0 0 0 0 0 0 0 0 0 0 0 0 0 0 0 0 0 0 0 0 0 0 0 0]\n"
     ]
    }
   ],
   "source": [
    "total_files = 0\n",
    "sample = 'ALF_buf'\n",
    "for ii, rr in enumerate(ALFbuf_runs):\n",
    "    files = glob.glob('/reg/d/psdm/cxi/cxilr6716/scratch/pca_denoise/cali_gai_filtered2/%s/run%d_PCA-denoise*'%(sample,rr))\n",
    "    n_files = len(files)\n",
    "    for jj in range(n_files):\n",
    "        print ALFbuf_pca[total_files+jj]\n",
    "#         save_num_pca(rr, sample, ALFbuf_pca[total_files+jj], delete=True,\n",
    "#                     file_num=jj)\n",
    "    total_files+=n_files"
   ]
  },
  {
   "cell_type": "code",
   "execution_count": 196,
   "metadata": {},
   "outputs": [
    {
     "data": {
      "text/plain": [
       "0"
      ]
     },
     "execution_count": 196,
     "metadata": {},
     "output_type": "execute_result"
    }
   ],
   "source": [
    "n_files"
   ]
  },
  {
   "cell_type": "code",
   "execution_count": null,
   "metadata": {},
   "outputs": [],
   "source": [
    "n_shots,cors,errs = get_cors(119,'ALF_buf',0)\n",
    "n_shots2,cors2,errs2 = get_cors(119,'ALF_buf',1)\n",
    "print n_shots, n_shots2"
   ]
  },
  {
   "cell_type": "code",
   "execution_count": null,
   "metadata": {},
   "outputs": [],
   "source": [
    "cors.shape\n",
    "# n_shots2\n",
    "asyms=np.zeros((cors.shape[0],cors.shape[1]))\n",
    "\n",
    "for ii in range(cors.shape[1]):\n",
    "    asyms[:,ii]=compute_asym(cors[:,ii,:],phi_offset=phi_off, norm=True)\n",
    "    \n",
    "asyms2=np.zeros((cors.shape[0],cors.shape[1]))\n",
    "\n",
    "for ii in range(cors.shape[1]):\n",
    "    asyms2[:,ii]=compute_asym(cors2[:,ii,:],phi_offset=phi_off, norm=True)\n",
    "# asym2=compute_asym(cors2)"
   ]
  },
  {
   "cell_type": "code",
   "execution_count": null,
   "metadata": {},
   "outputs": [],
   "source": [
    "asyms.shape\n",
    "plt.plot(asyms[qidx,:])\n",
    "plt.plot(asyms2[qidx,:])"
   ]
  },
  {
   "cell_type": "code",
   "execution_count": null,
   "metadata": {},
   "outputs": [],
   "source": [
    "qidx = 15\n",
    "ii=asyms[qidx,2:].argmin()+2\n",
    "print ii\n",
    "\n",
    "plt.errorbar(cpsi[qidx,phi_off:num_phi/2-phi_off],cors[qidx,ii,phi_off:num_phi/2-phi_off],\n",
    "                yerr=errs[qidx,ii,phi_off:num_phi/2-phi_off])\n",
    "\n",
    "ii2=asyms2[qidx,2:].argmin()+2\n",
    "print ii2\n",
    "# ii=7\n",
    "plt.errorbar(cpsi[qidx,phi_off:num_phi/2-phi_off],cors2[qidx,ii2,phi_off:num_phi/2-phi_off],\n",
    "                yerr=errs2[qidx,ii,phi_off:num_phi/2-phi_off])\n",
    "\n",
    "# plt.errorbar(cpsi[qidx,phi_off:num_phi/2-phi_off],(cors2[qidx,ii,phi_off:num_phi/2-phi_off]+cors[qidx,ii2,phi_off:num_phi/2-phi_off])*0.5,\n",
    "#                 yerr=errs2[qidx,ii,phi_off:num_phi/2-phi_off])"
   ]
  },
  {
   "cell_type": "code",
   "execution_count": null,
   "metadata": {},
   "outputs": [],
   "source": [
    "cors = []\n",
    "errs=[]\n",
    "\n",
    "cors2 = []\n",
    "errs2=[]\n",
    "for dd in range(20):\n",
    "    cors.append(f['q0']['pca%d'%dd]['train_difcor'][0])\n",
    "    \n",
    "    errs.append(f['q0']['pca%d'%dd]['train_difcor_err'][0])\n",
    "    cors2.append(f2['q0']['pca%d'%dd]['train_difcor'][0])\n",
    "    errs2.append(f2['q0']['pca%d'%dd]['train_difcor_err'][0])\n",
    "cors2=np.array(cors2)\n",
    "errs2=np.array(errs2)\n",
    "cors=np.array(cors)\n",
    "errs=np.array(errs)\n"
   ]
  },
  {
   "cell_type": "code",
   "execution_count": null,
   "metadata": {},
   "outputs": [],
   "source": [
    "cpsi=np.load('/reg/neh/home/qiaoshen/run16_notebooks/encodeZ400_cpsi.npy')[0]\n"
   ]
  },
  {
   "cell_type": "code",
   "execution_count": null,
   "metadata": {},
   "outputs": [],
   "source": [
    "phi_off=30\n",
    "num_phi = cors.shape[-1]"
   ]
  },
  {
   "cell_type": "code",
   "execution_count": null,
   "metadata": {},
   "outputs": [],
   "source": [
    "plt.figure(figsize=[16,5])\n",
    "for ii in [19]:\n",
    "    plt.subplot(121)\n",
    "#     plt.errorbar(cpsi[phi_off:num_phi/2-phi_off],cors[ii,phi_off:num_phi/2-phi_off],\n",
    "#                 yerr=errs[ii,phi_off:num_phi/2-phi_off])\n",
    "    \n",
    "    plt.errorbar(cpsi[phi_off:num_phi/2-phi_off],cors2[ii,phi_off:num_phi/2-phi_off],\n",
    "                yerr=errs2[ii,phi_off:num_phi/2-phi_off])\n",
    "    \n",
    "    plt.subplot(122)\n",
    "    plt.errorbar(cpsi[phi_off:num_phi/2-phi_off],cors[ii,phi_off:num_phi/2-phi_off]-cors2[ii,phi_off:num_phi/2-phi_off],\n",
    "                yerr=errs2[ii,phi_off:num_phi/2-phi_off])\n",
    "    plt.vlines([-0.5,0,0.5],-4e8,2e8, linewidth=2, linestyle='--', alpha=0.5)\n",
    "    dd = np.abs(cors[ii,phi_off:num_phi/2-phi_off]-cors2[ii,phi_off:num_phi/2-phi_off])\n",
    "    ee=np.sqrt(errs[ii,phi_off:num_phi/2-phi_off]**2+errs2[ii,phi_off:num_phi/2-phi_off]**2)\n",
    "    print ((dd/ee)>1).sum()/float(dd.shape[-1])\n",
    "# plt.errorbar(cpsi[phi_off:num_phi/2-phi_off],cors[1][phi_off:num_phi/2-phi_off],\n",
    "#             yerr=errs[1,phi_off:num_phi/2-phi_off])"
   ]
  },
  {
   "cell_type": "code",
   "execution_count": null,
   "metadata": {},
   "outputs": [],
   "source": [
    "plt.errorbar(cpsi[phi_off:num_phi/2-phi_off],cors[ii,phi_off:num_phi/2-phi_off]-cors2[ii,phi_off:num_phi/2-phi_off],\n",
    "                yerr=errs2[ii,phi_off:num_phi/2-phi_off])\n",
    "# plt.errorbar(cpsi[phi_off:num_phi/2-phi_off],cors2[ii,phi_off:num_phi/2-phi_off],\n",
    "#                 yerr=errs2[ii,phi_off:num_phi/2-phi_off])"
   ]
  },
  {
   "cell_type": "code",
   "execution_count": null,
   "metadata": {},
   "outputs": [],
   "source": [
    "eigenimage=f['q3']['pca_components'].value\n",
    "eigenimage2=f2['q3']['pca_components'].value"
   ]
  },
  {
   "cell_type": "code",
   "execution_count": null,
   "metadata": {},
   "outputs": [],
   "source": [
    "plt.plot(eigenimage[3])\n",
    "plt.plot(-eigenimage2[3])"
   ]
  },
  {
   "cell_type": "code",
   "execution_count": null,
   "metadata": {},
   "outputs": [],
   "source": [
    "f2['q0']['num_shots'].value"
   ]
  },
  {
   "cell_type": "code",
   "execution_count": null,
   "metadata": {},
   "outputs": [],
   "source": [
    "max_deg =30\n",
    "deg = range(0,max_deg,2)\n",
    "coef = []\n",
    "cor_legfit = np.zeros_like(cors[:,phi_off:num_phi/2-phi_off])\n",
    "for ii in range(cors.shape[0]):\n",
    "    x=cpsi[phi_off:num_phi/2-phi_off]\n",
    "    cc=legfit(x,cors2[ii,phi_off:num_phi/2-phi_off],deg)\n",
    "    coef.append(cc)\n",
    "    cor_legfit[ii] = legval(x,cc)\n",
    "coef=np.array(coef)"
   ]
  },
  {
   "cell_type": "code",
   "execution_count": null,
   "metadata": {},
   "outputs": [],
   "source": [
    "ii=10\n",
    "plt.figure(figsize=[12,5])\n",
    "plt.subplot(121)\n",
    "plt.errorbar(cpsi[phi_off:num_phi/2-phi_off],cors2[ii,phi_off:num_phi/2-phi_off],\n",
    "                yerr=errs2[ii,phi_off:num_phi/2-phi_off])\n",
    "plt.plot(cpsi[phi_off:num_phi/2-phi_off], cor_legfit[ii])\n",
    "\n",
    "plt.subplot(122)\n",
    "plt.plot(coef[ii])\n",
    "# plt.plot(coef[ii,1::2])\n",
    "# print np.abs(coef[ii,::2]).sum()/np.abs(coef[ii,1::2]).sum()"
   ]
  },
  {
   "cell_type": "code",
   "execution_count": null,
   "metadata": {},
   "outputs": [],
   "source": [
    "y = (np.abs(coef[:,::2])/np.abs(coef[:,1::2])).sum(-1)\n",
    "plt.plot(y)\n",
    "y.argmax()"
   ]
  },
  {
   "cell_type": "code",
   "execution_count": null,
   "metadata": {},
   "outputs": [],
   "source": [
    "y = np.abs(cors2[:, phi_off:num_phi/2-phi_off] - cor_legfit)/ errs2[:, phi_off:num_phi/2-phi_off]\n",
    "plt.plot(y[0])\n",
    "plt.plot(y[14])"
   ]
  },
  {
   "cell_type": "code",
   "execution_count": null,
   "metadata": {},
   "outputs": [],
   "source": [
    "plt.plot(y.mean(-1))"
   ]
  },
  {
   "cell_type": "code",
   "execution_count": 207,
   "metadata": {},
   "outputs": [
    {
     "data": {
      "text/plain": [
       "array([276, 282, 265, 260, 244, 233, 268, 266, 247, 266, 238, 238, 250,\n",
       "       216, 247, 246, 244, 232, 240, 244, 247, 206, 257, 260, 231, 248,\n",
       "       237, 256, 276, 260, 204, 226, 237, 234, 228, 241])"
      ]
     },
     "execution_count": 207,
     "metadata": {},
     "output_type": "execute_result"
    }
   ],
   "source": [
    "d_buf = np.abs(GDPbuf -ALFbuf)/ np.sqrt( GDPbuf_errs**2+ ALFbuf_errs**2)\n",
    "(d_buf>1).sum(-1)/d_buf"
   ]
  },
  {
   "cell_type": "code",
   "execution_count": 214,
   "metadata": {},
   "outputs": [],
   "source": [
    "f = h5py.File('/reg/d/psdm/cxi/cxilr6716/scratch/cali_gai_cor_results/ALF_buf_chunks_split_maskDivide.h5','r')"
   ]
  },
  {
   "cell_type": "code",
   "execution_count": 215,
   "metadata": {},
   "outputs": [
    {
     "data": {
      "text/plain": [
       "[u'run118_0',\n",
       " u'run118_1',\n",
       " u'run119_0',\n",
       " u'run119_1',\n",
       " u'run119_2',\n",
       " u'run119_3',\n",
       " u'run122_0',\n",
       " u'run122_1',\n",
       " u'running_ave_cor',\n",
       " u'running_num_shots']"
      ]
     },
     "execution_count": 215,
     "metadata": {},
     "output_type": "execute_result"
    }
   ],
   "source": [
    "f.keys()"
   ]
  },
  {
   "cell_type": "code",
   "execution_count": null,
   "metadata": {},
   "outputs": [],
   "source": [
    "x = f['running_ave_cor']"
   ]
  }
 ],
 "metadata": {
  "kernelspec": {
   "display_name": "Python 2 ana-1.3.10",
   "language": "python",
   "name": "ana-1.3.10"
  },
  "language_info": {
   "codemirror_mode": {
    "name": "ipython",
    "version": 2
   },
   "file_extension": ".py",
   "mimetype": "text/x-python",
   "name": "python",
   "nbconvert_exporter": "python",
   "pygments_lexer": "ipython2",
   "version": "2.7.13"
  }
 },
 "nbformat": 4,
 "nbformat_minor": 2
}
