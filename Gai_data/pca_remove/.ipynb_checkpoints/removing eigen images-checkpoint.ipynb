{
 "cells": [
  {
   "cell_type": "code",
   "execution_count": 1,
   "metadata": {},
   "outputs": [],
   "source": [
    "%matplotlib inline\n",
    "import numpy as np\n",
    "import matplotlib.pyplot as plt\n",
    "import h5py"
   ]
  },
  {
   "cell_type": "code",
   "execution_count": null,
   "metadata": {},
   "outputs": [],
   "source": [
    "# want to plot average shot after removing n eigneimages\n",
    "def ave_shot_series(sample,run_num,\n",
    "                   file_num, qidx):\n",
    "    f = h5py.File('/reg/d/psdm/cxi/cxilr6716/scratch/norm_shots/cali_gai_filtered/%s/run%d_normShots_%d.h5'%(sample, run_num, file_num),\n",
    "                  'r')\n",
    "    f2 = h5py.File('/reg/d/psdm/cxi/cxilr6716/scratch/pca_denoise/cali_gai_filtered2/%s/run%d_PCA-denoise_%d.h5'%(sample, run_num, file_num),\n",
    "                   'r')\n",
    "    \n",
    "    f_mask =h5py.File('/reg/d/psdm/cxi/cxilr6716/scratch/combined_tables/cali_gai/run%d.tbl'%run_num,'r')\n",
    "    \n",
    "    mask = np.array(f_mask['polar_mask_binned'].value==f['polar_mask_binned'].value.max(), dtype = int)[:36]\n",
    "#     for qidx in range(len(f.keys())):        \n",
    "    Train = f['q%d/train_shots'%qidx].value\n",
    "\n",
    "    components = f2['q%d/pca_components'%qidx].value\n",
    "    _m = Train.astype(np.float64).mean(0)\n",
    "    new_Train = (Train.astype(np.float64)-_m).dot(components.T)\n",
    "\n",
    "    partial_mask=mask[qidx][None,:]\n",
    "    ave_shots=[reshape_unmasked_values_to_shots(Train-Train.mean(0)[None,:]\n",
    "                                            , partial_mask).mean(0)]\n",
    "    for nn in range(1,components.shape[0]):\n",
    "    #denoise\n",
    "        Train_noise = new_Train[:,:nn].dot(components[:nn])\n",
    "        denoise_Train= reshape_unmasked_values_to_shots(Train-Train_noise-Train.mean(0)[None,:]\n",
    "                                            , partial_mask).mean(0)\n",
    "        ave_shots.append(denoise_Train)\n",
    "    ave_shots = np.array(ave_shots)\n",
    "            \n",
    "    return ave_shots"
   ]
  },
  {
   "cell_type": "code",
   "execution_count": 4,
   "metadata": {},
   "outputs": [
    {
     "name": "stdout",
     "output_type": "stream",
     "text": [
      "run118_normShots_0.h5  run118_normShots_1.h5\r\n"
     ]
    }
   ],
   "source": [
    "ls /reg/d/psdm/cxi/cxilr6716/scratch/norm_shots/cali_gai_filtered/ALF_buf/"
   ]
  },
  {
   "cell_type": "code",
   "execution_count": 5,
   "metadata": {},
   "outputs": [
    {
     "data": {
      "text/plain": [
       "[u'test_shots', u'train_shots']"
      ]
     },
     "execution_count": 5,
     "metadata": {},
     "output_type": "execute_result"
    }
   ],
   "source": [
    "f = h5py.File('/reg/d/psdm/cxi/cxilr6716/scratch/norm_shots/cali_gai_filtered/ALF_buf/run118_normShots_0.h5','r')\n",
    "f['q10'].keys()"
   ]
  },
  {
   "cell_type": "code",
   "execution_count": 15,
   "metadata": {},
   "outputs": [],
   "source": [
    "s = f['q11']['train_shots'].value"
   ]
  },
  {
   "cell_type": "code",
   "execution_count": 16,
   "metadata": {},
   "outputs": [],
   "source": [
    "ave_shot = (s-s.mean(0)[None,:]).mean(0)"
   ]
  },
  {
   "cell_type": "code",
   "execution_count": 17,
   "metadata": {},
   "outputs": [
    {
     "data": {
      "text/plain": [
       "[<matplotlib.lines.Line2D at 0x7fae445c10d0>]"
      ]
     },
     "execution_count": 17,
     "metadata": {},
     "output_type": "execute_result"
    },
    {
     "data": {
      "image/png": "[encoded data removed]",
      "text/plain": [
       "<matplotlib.figure.Figure at 0x7fae39ac5d50>"
      ]
     },
     "metadata": {},
     "output_type": "display_data"
    }
   ],
   "source": [
    "plt.plot(ave_shot)"
   ]
  },
  {
   "cell_type": "code",
   "execution_count": 18,
   "metadata": {},
   "outputs": [
    {
     "data": {
      "text/plain": [
       "(249,)"
      ]
     },
     "execution_count": 18,
     "metadata": {},
     "output_type": "execute_result"
    }
   ],
   "source": [
    "ave_shot.shape"
   ]
  },
  {
   "cell_type": "code",
   "execution_count": null,
   "metadata": {},
   "outputs": [],
   "source": []
  }
 ],
 "metadata": {
  "kernelspec": {
   "display_name": "Python 2 ana-1.3.10",
   "language": "python",
   "name": "ana-1.3.10"
  },
  "language_info": {
   "codemirror_mode": {
    "name": "ipython",
    "version": 2
   },
   "file_extension": ".py",
   "mimetype": "text/x-python",
   "name": "python",
   "nbconvert_exporter": "python",
   "pygments_lexer": "ipython2",
   "version": "2.7.13"
  }
 },
 "nbformat": 4,
 "nbformat_minor": 2
}
