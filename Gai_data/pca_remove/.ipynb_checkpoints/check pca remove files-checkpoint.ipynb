{
 "cells": [
  {
   "cell_type": "code",
   "execution_count": 4,
   "metadata": {},
   "outputs": [],
   "source": [
    "import h5py\n",
    "import glob"
   ]
  },
  {
   "cell_type": "code",
   "execution_count": 3,
   "metadata": {},
   "outputs": [
    {
     "name": "stdout",
     "output_type": "stream",
     "text": [
      "run120_PCA-denoise_0.h5  run121_PCA-denoise_2.h5  run124_PCA-denoise_0.h5\r\n",
      "run120_PCA-denoise_1.h5  run121_PCA-denoise_3.h5  run124_PCA-denoise_1.h5\r\n",
      "run121_PCA-denoise_0.h5  run123_PCA-denoise_0.h5\r\n",
      "run121_PCA-denoise_1.h5  run123_PCA-denoise_1.h5\r\n"
     ]
    }
   ],
   "source": [
    "ls /reg/d/psdm/cxi/cxilr6716/scratch/pca_denoise/cali_gai_filtered2/ALF_pro/"
   ]
  },
  {
   "cell_type": "code",
   "execution_count": 7,
   "metadata": {},
   "outputs": [
    {
     "name": "stdout",
     "output_type": "stream",
     "text": [
      "[u'test_difcor', u'test_difcor_err', u'train_difcor', u'train_difcor_err']\n"
     ]
    }
   ],
   "source": [
    "f = h5py.File('/reg/d/psdm/cxi/cxilr6716/scratch/pca_denoise/cali_gai_filtered2/ALF_pro/run120_PCA-denoise_0.h5','r')\n",
    "print f['q10']['pca4'].keys()\n",
    "#36, 20"
   ]
  },
  {
   "cell_type": "code",
   "execution_count": 11,
   "metadata": {},
   "outputs": [],
   "source": [
    "samples =['ALF_buf', 'ALF_pro', 'GDP_pro', 'GDP_buf']\n",
    "for ss in samples:\n",
    "    flist = glob.glob('/reg/d/psdm/cxi/cxilr6716/scratch/pca_denoise/cali_gai_filtered2/%s/*PCA*'%ss)\n",
    "    for fname in flist:\n",
    "        try:\n",
    "            f = h5py.File(fname,'r')\n",
    "            for qq in range(36):\n",
    "                f['q%d'%qq]\n",
    "                for pp in range(20):\n",
    "                    assert(len(f['q%d'%qq]['pca%d'%pp].keys())==4)\n",
    "                    f['q%d'%qq]['pca%d'%pp]['test_difcor']\n",
    "                    f['q%d'%qq]['pca%d'%pp]['test_difcor_err']\n",
    "                    f['q%d'%qq]['pca%d'%pp]['train_difcor']\n",
    "                    f['q%d'%qq]['pca%d'%pp]['train_difcor_err']\n",
    "            f.close()\n",
    "        except:\n",
    "            print fname"
   ]
  },
  {
   "cell_type": "code",
   "execution_count": 13,
   "metadata": {},
   "outputs": [
    {
     "data": {
      "text/plain": [
       "<HDF5 dataset \"polar_imgs\": shape (51811, 50, 326), type \"<f4\">"
      ]
     },
     "execution_count": 13,
     "metadata": {},
     "output_type": "execute_result"
    }
   ],
   "source": [
    "f = h5py.File('/reg/d/psdm/cxi/cxilr6716/scratch/combined_tables/cali_gai/run114.tbl','r')\n",
    "f['polar_imgs']\n"
   ]
  },
  {
   "cell_type": "code",
   "execution_count": null,
   "metadata": {},
   "outputs": [],
   "source": []
  }
 ],
 "metadata": {
  "kernelspec": {
   "display_name": "Python 2 ana-1.3.10",
   "language": "python",
   "name": "ana-1.3.10"
  },
  "language_info": {
   "codemirror_mode": {
    "name": "ipython",
    "version": 2
   },
   "file_extension": ".py",
   "mimetype": "text/x-python",
   "name": "python",
   "nbconvert_exporter": "python",
   "pygments_lexer": "ipython2",
   "version": "2.7.13"
  }
 },
 "nbformat": 4,
 "nbformat_minor": 2
}
