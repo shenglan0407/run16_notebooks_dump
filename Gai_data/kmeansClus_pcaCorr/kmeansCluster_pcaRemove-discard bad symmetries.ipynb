{
 "cells": [
  {
   "cell_type": "code",
   "execution_count": 3,
   "metadata": {},
   "outputs": [],
   "source": [
    "import numpy as np\n",
    "import h5py\n",
    "import os\n",
    "\n",
    "%matplotlib inline\n",
    "import matplotlib.pyplot as plt\n",
    "from matplotlib.gridspec import GridSpec\n",
    "\n",
    "import matplotlib as mpl\n",
    "mpl.rcParams['font.size']=16\n",
    "mpl.rcParams['font.serif'] = \"Bitstream Vera Serif\"\n",
    "mpl.rcParams['font.family'] = \"serif\"\n",
    "\n",
    "from numpy import polyfit, polyval\n",
    "from numpy.polynomial.legendre import legfit, legval"
   ]
  },
  {
   "cell_type": "code",
   "execution_count": 4,
   "metadata": {},
   "outputs": [],
   "source": [
    "\n",
    "def normalize(d):\n",
    "    x=d.copy()\n",
    "    x-=x.min()\n",
    "    return x/(x.max()-x.min())"
   ]
  },
  {
   "cell_type": "code",
   "execution_count": 23,
   "metadata": {},
   "outputs": [
    {
     "name": "stdout",
     "output_type": "stream",
     "text": [
      "[u'asym', u'ave_clus_cor', u'ave_cor', u'clus_nshots', u'norm_shots_0', u'norm_shots_1', u'norm_shots_10', u'norm_shots_11', u'norm_shots_12', u'norm_shots_13', u'norm_shots_14', u'norm_shots_2', u'norm_shots_3', u'norm_shots_4', u'norm_shots_5', u'norm_shots_6', u'norm_shots_7', u'norm_shots_8', u'norm_shots_9']\n"
     ]
    }
   ],
   "source": [
    "run_num = 106\n",
    "f=h5py.File('/reg/d/psdm/cxi/cxilr6716/scratch/kmeans_clusters/cali_gai/pca10_kmeans15/run%d_clustered_shots.h5'%run_num,'r')\n",
    "qidx = 10\n",
    "print f['q%d'%qidx].keys()\n",
    "\n",
    "f_eig=h5py.File('/reg/d/psdm/cxi/cxilr6716/scratch/kmeans_clusters/cali_gai/pca10_kmeans15/run%d_eigenimages.h5'%run_num,'r')\n",
    "\n",
    "phi_offset = 15\n",
    "num_phi = f['q10']['norm_shots_0'].shape[-1]\n",
    "qvalue = np.load('/reg/neh/home/qiaoshen/run16_notebooks/encodeZ400_qvalue.npy')[10:33]\n",
    "exp_cpsi = np.load('/reg/neh/home/qiaoshen/run16_notebooks/encodeZ400_cpsi.npy')[:,phi_offset:num_phi/2-phi_offset]"
   ]
  },
  {
   "cell_type": "code",
   "execution_count": 24,
   "metadata": {},
   "outputs": [
    {
     "name": "stdout",
     "output_type": "stream",
     "text": [
      "36520\n",
      "30610\n",
      "33878\n",
      "31804\n",
      "37354\n",
      "31784\n",
      "34558\n",
      "29908\n",
      "33396\n",
      "33886\n",
      "25532\n",
      "36188\n",
      "36008\n",
      "33118\n",
      "48196\n",
      "51020\n",
      "51020\n",
      "51016\n",
      "51016\n",
      "39928\n",
      "45060\n",
      "39420\n",
      "(22, 133) (22,)\n",
      "39420\n"
     ]
    }
   ],
   "source": [
    "denoised_cors =[]\n",
    "pca_num = []\n",
    "pca_asyms =[]\n",
    "cluster_asyms = []\n",
    "for qidx in range(10,32):\n",
    "    ##### comput asymetries of cluster average\n",
    "#     print qidx\n",
    "    cluster_nums =sorted([ int(key.split('_')[-1]) for key in f['q%d'%qidx].keys() if key.startswith('norm')])\n",
    "    asym_kmeans = f['q%d'%qidx]['asym'].value\n",
    "    cluster_asyms.append(asym_kmeans)\n",
    "    all_asym=[]\n",
    "    for jj,kk in enumerate(cluster_nums):\n",
    "#         print kk\n",
    "        asym=[asym_kmeans[jj]]\n",
    "        for ii in range(1,15):\n",
    "            try:\n",
    "                cc= f_eig['q%d'%qidx]['k%d'%kk]['pca%d'%ii][0,phi_offset:num_phi/2-phi_offset]\n",
    "                nc=normalize(cc)\n",
    "                asym.append( (np.abs(nc-nc[::-1])).mean() )\n",
    "            except:\n",
    "                asym.append(10000)\n",
    "        all_asym.append(asym)\n",
    "    all_asym=np.array(all_asym)\n",
    "    pca_asyms.append(all_asym)\n",
    "    ##### use the minimum asymmetry to decide what pcs components to remove for each cluster\n",
    "    remove=all_asym.argmin(-1)\n",
    "\n",
    "    ave_cor =None\n",
    "    num_shots=0\n",
    "    for jj,kk in enumerate(cluster_nums):\n",
    "        if all_asym[jj][remove[jj]]<0.2:\n",
    "            if remove[jj]>1:\n",
    "        #         cc= f_eig['q%d'%qidx]['k%d'%kk]['pca2'][0,phi_offset:num_phi/2-phi_offset]\n",
    "                cc= f_eig['q%d'%qidx]['k%d'%kk]['pca%d'%remove[jj]][0,phi_offset:num_phi/2-phi_offset]\n",
    "            elif remove[jj]==1:\n",
    "                cc= f_eig['q%d'%qidx]['k%d'%kk]['pca1'][0,phi_offset:num_phi/2-phi_offset]\n",
    "\n",
    "            else:\n",
    "                cc=f['q%d'%qidx]['ave_clus_cor'][jj,phi_offset:num_phi/2-phi_offset]\n",
    "\n",
    "            nshots=f['q%d'%qidx]['clus_nshots'][jj]\n",
    "            if ave_cor is None:\n",
    "                ave_cor=cc*nshots\n",
    "            else:\n",
    "                ave_cor+=cc*nshots\n",
    "            num_shots+=nshots\n",
    "        else: \n",
    "            continue\n",
    "    #### average cor after pca remove\n",
    "    ave_cor/=num_shots\n",
    "    \n",
    "    denoised_cors.append(ave_cor)\n",
    "    pca_num.append(remove)\n",
    "    print num_shots\n",
    "denoised_cors=np.array(denoised_cors)\n",
    "pca_num = np.array(pca_num)\n",
    "# pca_asyms = np.array(pca_asyms)\n",
    "print denoised_cors.shape,pca_num.shape\n",
    "print num_shots"
   ]
  },
  {
   "cell_type": "code",
   "execution_count": 25,
   "metadata": {},
   "outputs": [
    {
     "data": {
      "text/plain": [
       "[<matplotlib.lines.Line2D at 0x7f2a14eb5410>]"
      ]
     },
     "execution_count": 25,
     "metadata": {},
     "output_type": "execute_result"
    },
    {
     "data": {
      "image/png": "[encoded data removed]",
      "text/plain": [
       "<matplotlib.figure.Figure at 0x7f2a15017c90>"
      ]
     },
     "metadata": {},
     "output_type": "display_data"
    }
   ],
   "source": [
    "ii=3\n",
    "plt.plot(exp_cpsi[10+ii],denoised_cors[ii])"
   ]
  },
  {
   "cell_type": "code",
   "execution_count": 26,
   "metadata": {},
   "outputs": [],
   "source": [
    "# np.save('GDPbuf_kmeans_pca_run%d_discardAsym.npy'%run_num, denoised_cors)"
   ]
  },
  {
   "cell_type": "code",
   "execution_count": 27,
   "metadata": {},
   "outputs": [
    {
     "name": "stdout",
     "output_type": "stream",
     "text": [
      "ALFbuf_kmeans_pca_run119_discardAsym.npy\r\n",
      "ALFpro_kmeans_pca_run121_discardAsym.npy\r\n",
      "GDPbuf_kmeans_pca_run106_discardAsym.npy\r\n",
      "GDPpro_kmeans_pca_run102_discardAsym.npy\r\n",
      "kmeansCluster_pcaRemove-discard bad symmetries.ipynb\r\n"
     ]
    }
   ],
   "source": [
    "ls *discard*"
   ]
  },
  {
   "cell_type": "code",
   "execution_count": null,
   "metadata": {},
   "outputs": [],
   "source": []
  }
 ],
 "metadata": {
  "kernelspec": {
   "display_name": "Python 2 ana-1.3.10",
   "language": "python",
   "name": "ana-1.3.10"
  },
  "language_info": {
   "codemirror_mode": {
    "name": "ipython",
    "version": 2
   },
   "file_extension": ".py",
   "mimetype": "text/x-python",
   "name": "python",
   "nbconvert_exporter": "python",
   "pygments_lexer": "ipython2",
   "version": "2.7.13"
  }
 },
 "nbformat": 4,
 "nbformat_minor": 2
}
