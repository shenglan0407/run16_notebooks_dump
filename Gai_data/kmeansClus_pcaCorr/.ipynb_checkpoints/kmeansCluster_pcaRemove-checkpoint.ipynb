{
 "cells": [
  {
   "cell_type": "code",
   "execution_count": null,
   "metadata": {},
   "outputs": [],
   "source": [
    "import numpy as np\n",
    "import h5py\n",
    "import os\n",
    "\n",
    "%matplotlib inline\n",
    "import matplotlib.pyplot as plt\n",
    "from matplotlib.gridspec import GridSpec\n",
    "\n",
    "import matplotlib as mpl\n",
    "mpl.rcParams['font.size']=16\n",
    "mpl.rcParams['font.serif'] = \"Bitstream Vera Serif\"\n",
    "mpl.rcParams['font.family'] = \"serif\"\n",
    "\n",
    "from numpy import polyfit, polyval\n",
    "from numpy.polynomial.legendre import legfit, legval"
   ]
  },
  {
   "cell_type": "code",
   "execution_count": null,
   "metadata": {},
   "outputs": [],
   "source": [
    "\n",
    "def normalize(d):\n",
    "    x=d.copy()\n",
    "    x-=x.min()\n",
    "    return x/(x.max()-x.min())"
   ]
  },
  {
   "cell_type": "code",
   "execution_count": null,
   "metadata": {},
   "outputs": [],
   "source": [
    "run_num = 119\n",
    "f=h5py.File('/reg/d/psdm/cxi/cxilr6716/scratch/kmeans_clusters/cali_gai/pca10_kmeans15/run%d_clustered_shots.h5'%run_num,'r')\n",
    "qidx = 10\n",
    "print f['q%d'%qidx].keys()\n",
    "\n",
    "f_eig=h5py.File('/reg/d/psdm/cxi/cxilr6716/scratch/kmeans_clusters/cali_gai/pca10_kmeans15/run%d_eigenimages.h5'%run_num,'r')\n",
    "\n",
    "phi_offset = 15\n",
    "num_phi = f['q10']['norm_shots_0'].shape[-1]\n",
    "qvalue = np.load('/reg/neh/home/qiaoshen/run16_notebooks/encodeZ400_qvalue.npy')[10:33]\n",
    "exp_cpsi = np.load('/reg/neh/home/qiaoshen/run16_notebooks/encodeZ400_cpsi.npy')[:,phi_offset:num_phi/2-phi_offset]"
   ]
  },
  {
   "cell_type": "raw",
   "metadata": {},
   "source": [
    "qidx = 14\n",
    "print f_eig['q%d'%qidx]['k3']['num_shots'].value#.keys()\n",
    "print f['q%d'%qidx]['asym']#.keys()"
   ]
  },
  {
   "cell_type": "code",
   "execution_count": null,
   "metadata": {},
   "outputs": [],
   "source": [
    "f_eig.keys()\n"
   ]
  },
  {
   "cell_type": "code",
   "execution_count": null,
   "metadata": {},
   "outputs": [],
   "source": [
    "len(remove)\n",
    "cluster_nums =sorted([ int(kk.split('k')[-1]) for kk in f_eig['q%d'%qidx].keys()])\n",
    "print len(cluster_nums)\n",
    "f['q%d'%qidx].keys()"
   ]
  },
  {
   "cell_type": "code",
   "execution_count": null,
   "metadata": {},
   "outputs": [],
   "source": [
    "denoised_cors =[]\n",
    "pca_num = []\n",
    "for qidx in range(10,32):\n",
    "    ##### comput asymetries of cluster average\n",
    "#     print qidx\n",
    "    cluster_nums =sorted([ int(key.split('_')[-1]) for key in f['q%d'%qidx].keys() if key.startswith('norm')])\n",
    "    asym_kmeans = f['q%d'%qidx]['asym'].value\n",
    "    all_asym=[]\n",
    "    for jj,kk in enumerate(cluster_nums):\n",
    "#         print kk\n",
    "        asym=[asym_kmeans[jj]]\n",
    "        for ii in range(1,15):\n",
    "            try:\n",
    "                cc= f_eig['q%d'%qidx]['k%d'%kk]['pca%d'%ii][0,phi_offset:num_phi/2-phi_offset]\n",
    "                nc=normalize(cc)\n",
    "                asym.append( (np.abs(nc-nc[::-1])).mean() )\n",
    "            except:\n",
    "                asym.append(10000)\n",
    "        all_asym.append(asym)\n",
    "    all_asym=np.array(all_asym)\n",
    "    \n",
    "    ##### use the minimum asymmetry to decide what pcs components to remove for each cluster\n",
    "    remove=all_asym.argmin(-1)\n",
    "\n",
    "    ave_cor =None\n",
    "    num_shots=0\n",
    "    for jj,kk in enumerate(cluster_nums):\n",
    "        if remove[jj]>1:\n",
    "    #         cc= f_eig['q%d'%qidx]['k%d'%kk]['pca2'][0,phi_offset:num_phi/2-phi_offset]\n",
    "            cc= f_eig['q%d'%qidx]['k%d'%kk]['pca%d'%remove[jj]][0,phi_offset:num_phi/2-phi_offset]\n",
    "        elif remove[jj]==1:\n",
    "            cc= f_eig['q%d'%qidx]['k%d'%kk]['pca1'][0,phi_offset:num_phi/2-phi_offset]\n",
    "            \n",
    "        else:\n",
    "            cc=f['q%d'%qidx]['ave_clus_cor'][jj,phi_offset:num_phi/2-phi_offset]\n",
    " \n",
    "        nshots=f['q%d'%qidx]['clus_nshots'][jj]\n",
    "        if ave_cor is None:\n",
    "            ave_cor=cc*nshots\n",
    "        else:\n",
    "            ave_cor+=cc*nshots\n",
    "        num_shots+=nshots\n",
    "    #### average cor after pca remove\n",
    "    ave_cor/=num_shots\n",
    "    \n",
    "    denoised_cors.append(ave_cor)\n",
    "    pca_num.append(remove)\n",
    "denoised_cors=np.array(denoised_cors)\n",
    "pca_num = np.array(pca_num)\n",
    "print denoised_cors.shape,pca_num.shape\n",
    "print num_shots"
   ]
  },
  {
   "cell_type": "code",
   "execution_count": null,
   "metadata": {},
   "outputs": [],
   "source": [
    "denoised_cors.shape"
   ]
  },
  {
   "cell_type": "code",
   "execution_count": null,
   "metadata": {},
   "outputs": [],
   "source": [
    "# np.save('ALFbuf_kmeans_pca_run%d.npy'%run_num, denoised_cors)"
   ]
  },
  {
   "cell_type": "code",
   "execution_count": null,
   "metadata": {},
   "outputs": [],
   "source": [
    "ii=0\n",
    "plt.plot(exp_cpsi[10+ii],denoised_cors[ii])"
   ]
  },
  {
   "cell_type": "code",
   "execution_count": null,
   "metadata": {},
   "outputs": [],
   "source": [
    "ii=14\n",
    "plt.plot(pca_num[ii])"
   ]
  },
  {
   "cell_type": "code",
   "execution_count": null,
   "metadata": {},
   "outputs": [],
   "source": [
    "cali_GDPbuf = np.load('GDPbuf_kmeans_pca.npy')\n",
    "cali_GDPpro = np.load('GDPpro_kmeans_pca.npy')\n",
    "\n",
    "\n",
    "GDPbuf = np.load('nocali_GDPbuf_kmeans_pca.npy')\n",
    "GDPpro = np.load('nocali_GDPpro_kmeans_pca.npy')\n",
    "\n",
    "diff = GDPpro-GDPbuf\n",
    "cali_diff = cali_GDPpro-cali_GDPbuf"
   ]
  },
  {
   "cell_type": "code",
   "execution_count": null,
   "metadata": {},
   "outputs": [],
   "source": [
    "ii =15\n",
    "plt.figure(figsize=[12,6])\n",
    "plt.subplot(121)\n",
    "plt.plot(exp_cpsi[10+ii],GDPpro[ii],'r')\n",
    "plt.plot(exp_cpsi[10+ii],GDPbuf[ii],'b')\n",
    "\n",
    "plt.subplot(122)\n",
    "plt.plot(exp_cpsi[10+ii],diff[ii],'m')\n",
    "plt.plot(exp_cpsi[10+ii],cali_diff[ii],'g')"
   ]
  },
  {
   "cell_type": "code",
   "execution_count": null,
   "metadata": {},
   "outputs": [],
   "source": [
    "plt.imshow(GDPpro, aspect='auto')"
   ]
  },
  {
   "cell_type": "code",
   "execution_count": null,
   "metadata": {},
   "outputs": [],
   "source": [
    "plt.figure(figsize=[12,6])\n",
    "x = -2.e6\n",
    "y = 0.1e6\n",
    "plt.subplot(121)\n",
    "\n",
    "plt.imshow(GDPbuf+GDPbuf[:,::-1],\n",
    "           aspect='auto',cmap='hot',\n",
    "          vmin=x, vmax = y)\n",
    "plt.subplot(122)\n",
    "plt.imshow(GDPpro+GDPpro[:,::-1], aspect='auto',cmap='hot',\n",
    "          vmin=x, vmax = y)\n",
    "# plt.colorbar()"
   ]
  },
  {
   "cell_type": "code",
   "execution_count": null,
   "metadata": {},
   "outputs": [],
   "source": [
    "x = -.5e6\n",
    "y = 1.7e6\n",
    "plt.imshow(diff+diff[:,::-1], aspect='auto', cmap='hot'\n",
    "           ,vmin=x, vmax = y)\n",
    "plt.colorbar()"
   ]
  },
  {
   "cell_type": "code",
   "execution_count": null,
   "metadata": {},
   "outputs": [],
   "source": [
    "asym = (diff-diff[:,::-1])/(diff.max(-1)-diff.min(-1))[:,None]\n",
    "cali_asym = (cali_diff-cali_diff[:,::-1])/(cali_diff.max(-1)-cali_diff.min(-1))[:,None]\n"
   ]
  },
  {
   "cell_type": "code",
   "execution_count": null,
   "metadata": {},
   "outputs": [],
   "source": [
    "ii=5\n",
    "plt.plot(asym[ii])\n",
    "plt.plot(cali_asym[ii])\n",
    "# plt.ylim(-100,100)"
   ]
  },
  {
   "cell_type": "code",
   "execution_count": null,
   "metadata": {},
   "outputs": [],
   "source": [
    "(np.abs(cali_asym).sum(-1)<np.abs(asym).sum(-1)).sum()"
   ]
  },
  {
   "cell_type": "code",
   "execution_count": null,
   "metadata": {},
   "outputs": [],
   "source": [
    "cali_asym.sum(-1)"
   ]
  },
  {
   "cell_type": "code",
   "execution_count": null,
   "metadata": {},
   "outputs": [],
   "source": [
    "cali_asym"
   ]
  },
  {
   "cell_type": "code",
   "execution_count": null,
   "metadata": {},
   "outputs": [],
   "source": []
  }
 ],
 "metadata": {
  "kernelspec": {
   "display_name": "Python 2 ana-1.3.10",
   "language": "python",
   "name": "ana-1.3.10"
  },
  "language_info": {
   "codemirror_mode": {
    "name": "ipython",
    "version": 2
   },
   "file_extension": ".py",
   "mimetype": "text/x-python",
   "name": "python",
   "nbconvert_exporter": "python",
   "pygments_lexer": "ipython2",
   "version": "2.7.13"
  }
 },
 "nbformat": 4,
 "nbformat_minor": 2
}
