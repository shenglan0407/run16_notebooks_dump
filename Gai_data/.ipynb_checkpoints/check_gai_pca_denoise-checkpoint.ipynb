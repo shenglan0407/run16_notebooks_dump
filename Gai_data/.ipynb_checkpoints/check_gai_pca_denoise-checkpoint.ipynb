{
 "cells": [
  {
   "cell_type": "code",
   "execution_count": null,
   "metadata": {},
   "outputs": [],
   "source": [
    "%matplotlib inline\n",
    "import matplotlib.pyplot as plt\n",
    "import h5py\n",
    "import numpy as np\n",
    "import os\n",
    "\n",
    "import sys\n",
    "sys.path.append('/reg/neh/home/qiaoshen/GitHub/loki/src/RingData/')\n",
    "from DiffCorr import DiffCorr"
   ]
  },
  {
   "cell_type": "code",
   "execution_count": null,
   "metadata": {},
   "outputs": [],
   "source": [
    "f = h5py.File('/reg/d/psdm/cxi/cxilr6716/scratch/combined_tables/gai/run111.tbl','r')\n",
    "mask = np.array(f['polar_mask_binned'].value==f['polar_mask_binned'].value.max(), dtype = int)\n",
    "\n",
    "dc = DiffCorr(mask[None,:],np.array(range(mask.shape[0])),0,pre_dif=True)\n",
    "mask_cor  =  dc.autocorr()"
   ]
  },
  {
   "cell_type": "code",
   "execution_count": null,
   "metadata": {},
   "outputs": [],
   "source": [
    "def gather_pca0(qmin,qmax,filename):\n",
    "    cors = []\n",
    "    f = h5py.File(filename, 'r')\n",
    "#     print f['q10'].keys()\n",
    "    for qq in range(qmin,qmax+1):\n",
    "#         print qq\n",
    "        cors.append(f['q%d'%qq]['pca0']['train_difcor'][0])\n",
    "    \n",
    "    return np.array(cors)\n",
    "\n",
    "def normalize_shots(shots):\n",
    "    x = shots.copy()\n",
    "    x-=x.min(-1)[:,None]\n",
    "    x/=x.max(-1)[:,None]\n",
    "    \n",
    "    return x"
   ]
  },
  {
   "cell_type": "code",
   "execution_count": null,
   "metadata": {},
   "outputs": [],
   "source": [
    "\n",
    "# pca_dir =\"/reg/d/psdm/cxi/cxilr6716/scratch/pca_denoise/gai_filtered/\"\n",
    "# pro =gather_pca0(10,24,os.path.join(pca_dir,'GDP_pro/run111_PCA-denoise.h5') )\n",
    "# pro/=mask_cor[0,10:25]\n",
    "# buf =gather_pca0(10,24,os.path.join(pca_dir,'GDP_buf/run107_PCA-denoise.h5') )\n",
    "\n",
    "cali_pca_dir =\"/reg/d/psdm/cxi/cxilr6716/scratch/pca_denoise/cali_gai_filtered/\"\n",
    "cali_pro =gather_pca0(10,15,os.path.join(cali_pca_dir,'GDP_pro/run111_PCA-denoise.h5') )\n",
    "cali_pro /=mask_cor[0,10:16]\n",
    "norm_cali_pro = normalize_shots(cali_pro[:,10:326/2-10])\n",
    "# cali_buf =gather_pca0(10,15,os.path.join(cali_pca_dir,'GDP_buf/run107_PCA-denoise.h5') )\n",
    "# cali_buf/=mask_cor[0,10:16]\n",
    "# norm_cali_buf = normalize_shots(cali_buf[:,10:326/2-10])\n",
    "# cali_pca_dir2 =\"/reg/d/psdm/cxi/cxilr6716/scratch/pca_denoise/cali_gai_filtered/\"\n",
    "# cali_pro2 =gather_pca0(14,20,os.path.join(cali_pca_dir2,'GDP_pro/run111_PCA-denoise.h5') )"
   ]
  },
  {
   "cell_type": "code",
   "execution_count": null,
   "metadata": {},
   "outputs": [],
   "source": [
    "cali_pro /=mask_cor[0,10:16]"
   ]
  },
  {
   "cell_type": "code",
   "execution_count": null,
   "metadata": {},
   "outputs": [],
   "source": [
    "qidx = 0\n",
    "plt.figure(figsize=[12,4])\n",
    "plt.subplot(131)\n",
    "plt.plot(cali_pro[qidx, 10:326/2-10])\n",
    "# plt.plot(norm_cali_pro[qidx])\n",
    "\n",
    "plt.subplot(132)\n",
    "# plt.plot(norm_cali_buf[qidx])\n",
    "# plt.plot(pro[qidx, 10:326/2-10])\n",
    "plt.subplot(133)\n",
    "plt.plot(mask_cor[0,qidx+14,10:326/2-10])"
   ]
  },
  {
   "cell_type": "code",
   "execution_count": null,
   "metadata": {},
   "outputs": [],
   "source": [
    "qidx =5\n",
    "\n",
    "# plt.plot(pro[qidx, 10:326/2-10])\n",
    "plt.plot(norm_cali_pro[qidx, 10:326/2-10]-norm_cali_buf[5, 10:326/2-10])\n",
    "\n",
    "# plt.plot(buf[qidx, 10:326/2-10])\n",
    "# plt.plot(cali_buf[qidx, 10:326/2-10])\n",
    "# plt.ylim(-1e9,1e9)"
   ]
  },
  {
   "cell_type": "code",
   "execution_count": null,
   "metadata": {},
   "outputs": [],
   "source": [
    "f2 = h5py.File('/reg/d/psdm/cxi/cxilr6716/scratch/polar_data/run111_0.h5','r')\n",
    "pmask = f2['polar_mask_binned'].value\n",
    "original_pmask = f2['polar_mask'].value\n",
    "pmask=(pmask == pmask.max())\n",
    "plt.plot(np.linspace(0,350,50),pmask.sum(-1)/float(pmask.shape[-1]) )\n",
    "\n",
    "plt.plot(range(350),original_pmask.sum(-1)/float(original_pmask.shape[-1]) )\n",
    "print pmask.shape\n",
    "print original_pmask.shape"
   ]
  },
  {
   "cell_type": "code",
   "execution_count": null,
   "metadata": {},
   "outputs": [],
   "source": []
  }
 ],
 "metadata": {
  "kernelspec": {
   "display_name": "Python 2 ana-1.3.10",
   "language": "python",
   "name": "ana-1.3.10"
  },
  "language_info": {
   "codemirror_mode": {
    "name": "ipython",
    "version": 2
   },
   "file_extension": ".py",
   "mimetype": "text/x-python",
   "name": "python",
   "nbconvert_exporter": "python",
   "pygments_lexer": "ipython2",
   "version": "2.7.13"
  }
 },
 "nbformat": 4,
 "nbformat_minor": 2
}
