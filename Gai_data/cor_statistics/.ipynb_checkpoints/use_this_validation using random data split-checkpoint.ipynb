{
 "cells": [
  {
   "cell_type": "code",
   "execution_count": 1,
   "metadata": {},
   "outputs": [],
   "source": [
    "%matplotlib inline\n",
    "import matplotlib.pyplot as plt\n",
    "import numpy as np\n",
    "import h5py\n",
    "\n",
    "from matplotlib.gridspec import GridSpec\n",
    "\n",
    "from numpy.polynomial.legendre import legval,legfit\n",
    "import matplotlib as mpl\n",
    "mpl.rcParams['font.size']=16\n",
    "mpl.rcParams['font.serif'] = \"Bitstream Vera Serif\"\n",
    "mpl.rcParams['font.family'] = \"serif\"\n",
    "\n",
    "import os\n",
    "import glob"
   ]
  },
  {
   "cell_type": "code",
   "execution_count": 2,
   "metadata": {},
   "outputs": [],
   "source": [
    "def get_relative_x2(d1,d2,e1,e2,\n",
    "                    n1,n2,\n",
    "                    leg_smooth=True,\n",
    "                   cpsi=None,\n",
    "                   max_deg=None, \n",
    "                    zero=False):\n",
    "    if leg_smooth:\n",
    "        d1 = filter_with_legPoly(cpsi,d1,max_deg) *n1/(n1+n2)\n",
    "\n",
    "        d2 = filter_with_legPoly(cpsi,d2,max_deg) *n2/(n1+n2)\n",
    "        \n",
    "        e1 = filter_with_legPoly(cpsi,e1,max_deg)*n1/(n1+n2)\n",
    "        e2 = filter_with_legPoly(cpsi,e2,max_deg)*n2/(n1+n2)\n",
    "    print d1.shape\n",
    "    if zero:\n",
    "        d1-=d1.min(-1)[:,None]\n",
    "        d2 -=d2.min(-1)[:,None]\n",
    "    e=np.abs(d1-d2)/(np.sqrt((e1**2+e2**2)))\n",
    "                     \n",
    "    return e\n",
    "\n",
    "def get_x2(d1,d2):\n",
    "    e=np.abs(d1-d2)\n",
    "    return e\n",
    "\n",
    "def get_rmsd(d1,d2):\n",
    "    return np.sqrt(((d1-d2)**2).mean(-1))\n",
    "\n",
    "def get_relative_rmsd(d1,d2,smooth=False):\n",
    "    if smooth:\n",
    "        d1 = smooth_cors(d1)\n",
    "        d2 = smooth_cors(d2)\n",
    "\n",
    "    s = (d1+d2)*0.5\n",
    "#     s-=s.min(-1)[:,None]\n",
    "#     s=s.mean(-1)[:,None]\n",
    "    s = (s.max(-1)-s.min(-1))[:,None]\n",
    "    e = (d1-d2)/s\n",
    "    return np.sqrt((e**2).mean(-1))\n",
    "\n",
    "def filter_with_legPoly(cpsi,cor,max_deg):\n",
    "    deg = range(0,max_deg,2)\n",
    "    cor_legfit = np.zeros_like(cor)\n",
    "    for ii in range(cor.shape[0]):\n",
    "        x=cpsi[ii]\n",
    "        cc=legfit(x,cor[ii],deg)\n",
    "        cor_legfit[ii] = legval(x,cc)\n",
    "    return cor_legfit\n",
    "\n",
    "def smooth(x, beta=10.0, window_size=11):\n",
    "    \"\"\"\n",
    "    Apply a Kaiser window smoothing convolution.\n",
    "    \n",
    "    Parameters\n",
    "    ----------\n",
    "    x : ndarray, float\n",
    "        The array to smooth.\n",
    "        \n",
    "    Optional Parameters\n",
    "    -------------------\n",
    "    beta : float\n",
    "        Parameter controlling the strength of the smoothing -- bigger beta \n",
    "        results in a smoother function.\n",
    "    window_size : int\n",
    "        The size of the Kaiser window to apply, i.e. the number of neighboring\n",
    "        points used in the smoothing.\n",
    "        \n",
    "    Returns\n",
    "    -------\n",
    "    smoothed : ndarray, float\n",
    "        A smoothed version of `x`.\n",
    "    \"\"\"\n",
    "    \n",
    "    # make sure the window size is odd\n",
    "    if window_size % 2 == 0:\n",
    "        window_size += 1\n",
    "    \n",
    "    # apply the smoothing function\n",
    "    s = np.r_[x[window_size-1:0:-1], x, x[-1:-window_size:-1]]\n",
    "    w = np.kaiser(window_size, beta)\n",
    "    y = np.convolve( w/w.sum(), s, mode='valid' )\n",
    "    \n",
    "    # remove the extra array length convolve adds\n",
    "    b = (window_size-1) / 2\n",
    "    smoothed = y[b:len(y)-b]\n",
    "    \n",
    "    return smoothed\n",
    "\n",
    "def smooth_cors(d):\n",
    "    smooth_d = np.zeros_like(d)\n",
    "    for ii in range(d.shape[0]):\n",
    "        smooth_d[ii] = smooth(d[ii])\n",
    "    return smooth_d"
   ]
  },
  {
   "cell_type": "code",
   "execution_count": 3,
   "metadata": {},
   "outputs": [],
   "source": [
    "cutoff = 0\n",
    "cutoff2= 36\n",
    "qvalues = np.load('/reg/neh/home/qiaoshen/run16_notebooks/encodeZ400_qvalue.npy')[cutoff:cutoff2]\n",
    "cpsi = np.load('/reg/neh/home/qiaoshen/run16_notebooks/encodeZ400_cpsi.npy')[cutoff:cutoff2]"
   ]
  },
  {
   "cell_type": "code",
   "execution_count": 4,
   "metadata": {},
   "outputs": [
    {
     "name": "stdout",
     "output_type": "stream",
     "text": [
      "(35, 354)\n",
      "[ 14350.  13708.  14386.  15790.  12477.  12021.  20110.   9747.  12793.\n",
      "  17860.   8527.  19088.]\n",
      "[ 14350.  13709.  14386.  15790.  12477.  12022.  20110.   9748.  12793.\n",
      "  17861.   8527.  19089.]\n",
      "(35, 354)\n",
      "[ 29715.  21523.  23334.  29218.]\n",
      "[ 29716.  21524.  23334.  29218.]\n",
      "(35, 354)\n",
      "[ 60319.  52082.  55799.  43603.  50524.]\n",
      "[ 60320.  52083.  55799.  43604.  50524.]\n",
      "(35, 354)\n",
      "[ 59191.  62925.]\n",
      "[ 59192.  62926.]\n",
      "(4, 25, 354)\n"
     ]
    }
   ],
   "source": [
    "samples=['GDP_pro', 'GDP_buf','ALF_pro','ALF_buf']\n",
    "cors1=[]\n",
    "cors2 =[]\n",
    "errs1=[]\n",
    "errs2=[]\n",
    "n_shots = []\n",
    "phi_ofset=30\n",
    "num_phi = 354\n",
    "for ss in samples:\n",
    "    \n",
    "    f = h5py.File('/reg/d/psdm/cxi/cxilp6715/results/validation/%s_random_split.h5'%ss,'r')\n",
    "    cors1.append(f['ave_cor1'].value)\n",
    "    cors2.append(f['ave_cor2'].value[cutoff:])\n",
    "    \n",
    "    errs1.append(f_err['err1'].value[cutoff:])\n",
    "    errs2.append(f_err['err2'].value[cutoff:])\n",
    "    print f_err['err1'].shape\n",
    "    n_shots.append(f['num_shots1'].value.mean(-1).sum())\n",
    "    print f['num_shots1'].value.mean(-1)\n",
    "    print f['num_shots2'].value.mean(-1)\n",
    "    \n",
    "    f.close()\n",
    "    f_err.close()\n",
    "\n",
    "# phi_ofset=15\n",
    "cors1 = np.array(cors1)\n",
    "num_phi = cors1.shape[-1]\n",
    "# cors1 = 0.5*(cors1[:,:,:num_phi/2]+cors1[:,:,num_phi/2:])\n",
    "cors2 = np.array(cors2)\n",
    "# cors2 = 0.5*(cors2[:,:,:num_phi/2]+cors2[:,:,num_phi/2:])\n",
    "\n",
    "errs2=np.array(errs2)\n",
    "errs1=np.array(errs1)\n",
    "n_shots=np.array(n_shots)\n",
    "print errs1.shape\n",
    "\n",
    "all_cors = (cors1+cors2)/2\n",
    "all_errs = np.sqrt((errs1**2+errs2**2)/2)"
   ]
  },
  {
   "cell_type": "code",
   "execution_count": 36,
   "metadata": {},
   "outputs": [
    {
     "name": "stdout",
     "output_type": "stream",
     "text": [
      "[ 341714.  207580.  524654.  244232.]\n"
     ]
    }
   ],
   "source": [
    "print np.array(n_shots)*2"
   ]
  },
  {
   "cell_type": "code",
   "execution_count": 6,
   "metadata": {},
   "outputs": [],
   "source": [
    "GDPdiff = 0.5*((cors1[0]+cors2[0])*n_shots[0]-(cors1[1]+cors2[1])*n_shots[1])/n_shots[:2].sum()\n",
    "ALFdiff = 0.5*((cors1[2]+cors2[2])*n_shots[2]-(cors1[3]+cors2[3])*n_shots[3])/n_shots[2:].sum()\n",
    "GDPdiff_err = np.sqrt((errs1[0]**2+errs2[0]**2)*n_shots[0]**2+(errs1[1]**2+errs2[1]**2)*n_shots[1]**2)/n_shots[:2].sum()\n",
    "ALFdiff_err = np.sqrt((errs1[2]**2+errs2[2]**2)*n_shots[1]**2+(errs1[3]**2+errs2[3]**2)*n_shots[3]**2)/n_shots[2:].sum()\n",
    "\n",
    "GDPdiff1 = cors1[0]-cors1[1]\n",
    "GDPdiff2 = cors2[0]-cors2[1]\n",
    "\n",
    "ALFdiff1 = cors1[2]-cors1[3]\n",
    "ALFdiff2 = cors2[2]-cors2[3]"
   ]
  },
  {
   "cell_type": "code",
   "execution_count": 7,
   "metadata": {},
   "outputs": [
    {
     "name": "stdout",
     "output_type": "stream",
     "text": [
      "(25, 117)\n",
      "(25, 117)\n",
      "(25, 117)\n",
      "(25, 117)\n",
      "(25, 117)\n",
      "(25, 117)\n"
     ]
    }
   ],
   "source": [
    "smooth_flag = True\n",
    "max_deg=40\n",
    "x2_GDPbuf = get_relative_x2(cors1[1, :,phi_ofset:num_phi/2-phi_ofset],\n",
    "                            cors2[1, :,phi_ofset:num_phi/2-phi_ofset],\n",
    "                            errs1[1,:,phi_ofset:num_phi/2-phi_ofset],\n",
    "                            errs2[1,:, phi_ofset:num_phi/2-phi_ofset],\n",
    "                            n_shots[1],n_shots[1],\n",
    "                            leg_smooth=smooth_flag,cpsi=cpsi[:, phi_ofset:num_phi/2-phi_ofset],\n",
    "                           max_deg=max_deg)\n",
    "x2_GDPpro = get_relative_x2(cors1[0, :,phi_ofset:num_phi/2-phi_ofset],\n",
    "                            cors2[0, :,phi_ofset:num_phi/2-phi_ofset],\n",
    "                            errs1[0,:,phi_ofset:num_phi/2-phi_ofset],\n",
    "                            errs2[0,:, phi_ofset:num_phi/2-phi_ofset],\n",
    "                            n_shots[0],n_shots[0],\n",
    "                            leg_smooth=smooth_flag,cpsi=cpsi[:, phi_ofset:num_phi/2-phi_ofset],\n",
    "                           max_deg=max_deg)\n",
    "x2_GDPpro_buf1 = get_relative_x2(all_cors[0, :,phi_ofset:num_phi/2-phi_ofset],\n",
    "                            all_cors[1, :,phi_ofset:num_phi/2-phi_ofset],\n",
    "                            all_errs[0,:,phi_ofset:num_phi/2-phi_ofset],\n",
    "                            all_errs[1,:, phi_ofset:num_phi/2-phi_ofset],\n",
    "                             n_shots[0],n_shots[1],\n",
    "                            leg_smooth=smooth_flag,cpsi=cpsi[:, phi_ofset:num_phi/2-phi_ofset],\n",
    "                           max_deg=max_deg)\n",
    "\n",
    "x2_ALFbuf = get_relative_x2(cors1[3, :,phi_ofset:num_phi/2-phi_ofset],\n",
    "                            cors2[3, :,phi_ofset:num_phi/2-phi_ofset],\n",
    "                            errs1[3,:,phi_ofset:num_phi/2-phi_ofset],\n",
    "                            errs2[3,:, phi_ofset:num_phi/2-phi_ofset],\n",
    "                            n_shots[3],n_shots[3],\n",
    "                            leg_smooth=smooth_flag,cpsi=cpsi[:, phi_ofset:num_phi/2-phi_ofset],\n",
    "                           max_deg=max_deg)\n",
    "x2_ALFpro = get_relative_x2(cors1[2, :,phi_ofset:num_phi/2-phi_ofset],\n",
    "                            cors2[2, :,phi_ofset:num_phi/2-phi_ofset],\n",
    "                            errs1[2,:,phi_ofset:num_phi/2-phi_ofset],\n",
    "                            errs2[2,:, phi_ofset:num_phi/2-phi_ofset],\n",
    "                            n_shots[2],n_shots[2],\n",
    "                            leg_smooth=smooth_flag,cpsi=cpsi[:, phi_ofset:num_phi/2-phi_ofset],\n",
    "                           max_deg=max_deg)\n",
    "x2_ALFpro_buf1 = get_relative_x2(all_cors[2, :,phi_ofset:num_phi/2-phi_ofset],\n",
    "                            all_cors[3, :,phi_ofset:num_phi/2-phi_ofset],\n",
    "                            all_errs[2,:,phi_ofset:num_phi/2-phi_ofset],\n",
    "                            all_errs[3,:, phi_ofset:num_phi/2-phi_ofset],\n",
    "                                 n_shots[2],n_shots[3],\n",
    "                            leg_smooth=smooth_flag,cpsi=cpsi[:, phi_ofset:num_phi/2-phi_ofset],\n",
    "                           max_deg=max_deg)\n"
   ]
  },
  {
   "cell_type": "code",
   "execution_count": 8,
   "metadata": {},
   "outputs": [],
   "source": [
    "\n",
    "x = cpsi[:,phi_ofset:num_phi/2-phi_ofset]\n",
    "GDPpro_legfit1 =filter_with_legPoly(cpsi[:,phi_ofset:num_phi/2-phi_ofset],\n",
    "                                cors1[0,:,phi_ofset:num_phi/2-phi_ofset],\n",
    "                               max_deg)\n",
    "GDPpro_legfit2 =filter_with_legPoly(cpsi[:,phi_ofset:num_phi/2-phi_ofset],\n",
    "                                cors2[0,:,phi_ofset:num_phi/2-phi_ofset],\n",
    "                               max_deg)\n",
    "ALFpro_legfit1 =filter_with_legPoly(cpsi[:,phi_ofset:num_phi/2-phi_ofset],\n",
    "                                   cors1[2,:,phi_ofset:num_phi/2-phi_ofset],\n",
    "                               max_deg)\n",
    "ALFpro_legfit2 =filter_with_legPoly(cpsi[:,phi_ofset:num_phi/2-phi_ofset],\n",
    "                                   cors2[2,:,phi_ofset:num_phi/2-phi_ofset],\n",
    "                               max_deg)\n",
    "\n",
    "ALFbuf_legfit1 =filter_with_legPoly(cpsi[:,phi_ofset:num_phi/2-phi_ofset],\n",
    "                                    cors1[1,:,phi_ofset:num_phi/2-phi_ofset],\n",
    "                               max_deg)\n",
    "ALFbuf_legfit2 =filter_with_legPoly(cpsi[:,phi_ofset:num_phi/2-phi_ofset],\n",
    "                                    cors2[1,:,phi_ofset:num_phi/2-phi_ofset],\n",
    "                               max_deg)\n",
    "GDPbuf_legfit1 =filter_with_legPoly(cpsi[:,phi_ofset:num_phi/2-phi_ofset],\n",
    "                                    cors1[3,:,phi_ofset:num_phi/2-phi_ofset],\n",
    "                               max_deg)\n",
    "GDPbuf_legfit2 =filter_with_legPoly(cpsi[:,phi_ofset:num_phi/2-phi_ofset],\n",
    "                                    cors2[3,:,phi_ofset:num_phi/2-phi_ofset],\n",
    "                               max_deg)"
   ]
  },
  {
   "cell_type": "code",
   "execution_count": 9,
   "metadata": {},
   "outputs": [
    {
     "name": "stdout",
     "output_type": "stream",
     "text": [
      "(25, 117)\n",
      "(25, 117)\n",
      "(25, 117)\n"
     ]
    }
   ],
   "source": [
    "\n",
    "\n",
    "x2_GDP_ALF_legfit = get_relative_x2(GDPdiff[:,phi_ofset:num_phi/2-phi_ofset],\n",
    "                                    ALFdiff[:,phi_ofset:num_phi/2-phi_ofset],\n",
    "                                   GDPdiff_err[:,phi_ofset:num_phi/2-phi_ofset],\n",
    "                                    ALFdiff_err[:,phi_ofset:num_phi/2-phi_ofset],\n",
    "                                    n_shots[0],n_shots[2],\n",
    "                                   leg_smooth=smooth_flag,\n",
    "                                    cpsi=cpsi[:, phi_ofset:num_phi/2-phi_ofset],\n",
    "                           max_deg=max_deg)\n",
    "\n",
    "x2_GDPbuf_ALFbuf= get_relative_x2(all_cors[1,:,phi_ofset:num_phi/2-phi_ofset],\n",
    "                                    all_cors[3,:,phi_ofset:num_phi/2-phi_ofset],\n",
    "                                   all_errs[1,:,phi_ofset:num_phi/2-phi_ofset],\n",
    "                                    all_errs[3,:,phi_ofset:num_phi/2-phi_ofset],\n",
    "                                  n_shots[1],n_shots[3], \n",
    "                                  leg_smooth=smooth_flag,\n",
    "                                    cpsi=cpsi[:, phi_ofset:num_phi/2-phi_ofset],\n",
    "                           max_deg=max_deg)\n",
    "\n",
    "x2_GDPpro_ALFpro= get_relative_x2(all_cors[0,:,phi_ofset:num_phi/2-phi_ofset],\n",
    "                                    all_cors[2,:,phi_ofset:num_phi/2-phi_ofset],\n",
    "                                   all_errs[0,:,phi_ofset:num_phi/2-phi_ofset],\n",
    "                                    all_errs[2,:,phi_ofset:num_phi/2-phi_ofset],\n",
    "                                  n_shots[0],n_shots[2],\n",
    "                                   leg_smooth=smooth_flag,\n",
    "                                    cpsi=cpsi[:, phi_ofset:num_phi/2-phi_ofset],\n",
    "                           max_deg=max_deg)\n"
   ]
  },
  {
   "cell_type": "code",
   "execution_count": 11,
   "metadata": {},
   "outputs": [
    {
     "data": {
      "image/png": "[encoded data removed]",
      "text/plain": [
       "<matplotlib.figure.Figure at 0x7f82aa38f6d0>"
      ]
     },
     "metadata": {},
     "output_type": "display_data"
    }
   ],
   "source": [
    "gs = GridSpec(2,2)\n",
    "plt.figure(figsize=[14,10])\n",
    "ax = plt.subplot(gs[0,0])\n",
    "ax.set_title('(a)',x = 0.05,y=0.9)\n",
    "plt.plot(qvalues,(x2_GDPbuf>1).sum(-1)/float(num_phi/2-phi_ofset*2)/2,\n",
    "         '^-', linewidth=2, alpha = 0.8, markersize=15)\n",
    "plt.plot(qvalues,(x2_GDPpro>1).sum(-1)/float(num_phi/2-phi_ofset*2)/2,\n",
    "         's-', linewidth=2, alpha = 0.6,markersize=8)\n",
    "plt.plot(qvalues,(x2_GDPpro_buf1>1).sum(-1)/float(num_phi/2-phi_ofset*2), \n",
    "         'o-',linewidth=2, alpha = 0.6, markersize=8)\n",
    "\n",
    "plt.xlabel('$q$ value ($\\AA^{-1}$)')\n",
    "plt.ylabel('$P_{ij}(q)$')\n",
    "plt.ylim(-0.1,1.1)\n",
    "plt.xlim(qvalues[11],qvalues[23])\n",
    "plt.xlim(qvalues[1],qvalues[13])\n",
    "#####ALF\n",
    "\n",
    "ax = plt.subplot(gs[0,1])\n",
    "\n",
    "ax.set_title('(b)',x = 0.05,y=0.9)\n",
    "plt.plot(qvalues,(x2_ALFbuf>1).sum(-1)/float(num_phi/2-phi_ofset*2),\n",
    "         '^-', linewidth=2, alpha = 0.8, markersize=15)\n",
    "plt.plot(qvalues,(x2_ALFpro>1).sum(-1)/float(num_phi/2-phi_ofset*2),\n",
    "         's-', linewidth=2, alpha = 0.6, markersize=8)\n",
    "plt.plot(qvalues,(x2_ALFpro_buf1>1).sum(-1)/float(num_phi/2-phi_ofset*2), \n",
    "         'o-',linewidth=2, alpha = 0.6, markersize=8)\n",
    "\n",
    "plt.xlabel('$q$ value ($\\AA^{-1}$)')\n",
    "plt.ylabel('$P_{ij}(q)$')\n",
    "plt.ylim(-0.1,1.1)\n",
    "plt.xlim(qvalues[1],qvalues[13])\n",
    "##########\n",
    "ax=plt.subplot(gs[1,0])\n",
    "ax.set_title('(c)',x = 0.05,y=0.9)\n",
    "plt.plot(qvalues, (x2_GDPbuf_ALFbuf>1).sum(-1)/float(num_phi/2-phi_ofset*2),\n",
    "         '^-', linewidth=2, alpha = 0.6, markersize=15)\n",
    "plt.plot(qvalues, (x2_GDPpro_ALFpro>1).sum(-1)/float(num_phi/2-phi_ofset*2),\n",
    "         'ro-', linewidth=2, alpha = 0.6, markersize=8)\n",
    "# plt.plot(qvalues, (x2_GDP_ALF_legfit>1).sum(-1)/float(num_phi/2-phi_ofset*2),\n",
    "#          'o-', linewidth=2, alpha = 0.6, markersize=8)\n",
    "\n",
    "plt.xlabel('$q$ value ($\\AA^{-1}$)')\n",
    "plt.ylabel('$P_{ij}(q)$')\n",
    "plt.ylim(-0.1,1.1)\n",
    "plt.xlim(qvalues[1],qvalues[13])\n",
    "# plt.savefig('validate_corr_signals.png',bbox_inches='tight')"
   ]
  },
  {
   "cell_type": "code",
   "execution_count": 37,
   "metadata": {},
   "outputs": [
    {
     "data": {
      "image/png": "[encoded data removed]",
      "text/plain": [
       "<matplotlib.figure.Figure at 0x7f826a7a0250>"
      ]
     },
     "metadata": {},
     "output_type": "display_data"
    }
   ],
   "source": [
    "gs = GridSpec(1,1)\n",
    "plt.figure(figsize=[12,6])\n",
    "ax = plt.subplot(gs[0,0])\n",
    "###GDP\n",
    "plt.plot(qvalues,(x2_GDPpro_buf1>1).sum(-1)/float(num_phi/2-phi_ofset*2), \n",
    "         'bs-',linewidth=2, alpha = 0.6, markersize=15)\n",
    "\n",
    "#####ALF\n",
    "plt.plot(qvalues,(x2_ALFpro_buf1>1).sum(-1)/float(num_phi/2-phi_ofset*2), \n",
    "         'm*-',linewidth=2, alpha = 0.6, markersize=25)\n",
    "\n",
    "##########\n",
    "plt.plot(qvalues, (x2_GDPbuf_ALFbuf>1).sum(-1)/float(num_phi/2-phi_ofset*2),\n",
    "         'r^-', linewidth=2, alpha = 0.6, markersize=18)\n",
    "plt.plot(qvalues, (x2_GDPpro_ALFpro>1).sum(-1)/float(num_phi/2-phi_ofset*2),\n",
    "         'go-', linewidth=2, alpha = 0.6, markersize=15)\n",
    "\n",
    "plt.xlabel('$q$ value ($\\AA^{-1}$)', fontsize = 25)\n",
    "plt.ylabel('$P_{ab}(q)$', fontsize = 25)\n",
    "plt.ylim(-0.,1.1)\n",
    "plt.xlim(qvalues[1],qvalues[13])\n",
    "plt.savefig('validate_corr_signals2.png',bbox_inches='tight')"
   ]
  },
  {
   "cell_type": "code",
   "execution_count": 33,
   "metadata": {},
   "outputs": [
    {
     "data": {
      "text/plain": [
       "<Container object of 3 artists>"
      ]
     },
     "execution_count": 33,
     "metadata": {},
     "output_type": "execute_result"
    },
    {
     "data": {
      "image/png": "[encoded data removed]",
      "text/plain": [
       "<matplotlib.figure.Figure at 0x7f82b20b4250>"
      ]
     },
     "metadata": {},
     "output_type": "display_data"
    }
   ],
   "source": [
    "qidx =7\n",
    "plt.errorbar(x[qidx],ALFdiff[qidx,phi_ofset:num_phi/2-phi_ofset]\n",
    "             ,yerr=ALFdiff_err[qidx,phi_ofset:num_phi/2-phi_ofset])\n",
    "\n",
    "plt.errorbar(x[qidx],GDPdiff[qidx,phi_ofset:num_phi/2-phi_ofset]\n",
    "             ,yerr=GDPdiff_err[qidx,phi_ofset:num_phi/2-phi_ofset])"
   ]
  },
  {
   "cell_type": "code",
   "execution_count": null,
   "metadata": {},
   "outputs": [],
   "source": [
    "gs = GridSpec(1,2)\n",
    "plt.figure(figsize=[16,5])\n",
    "qidx = 15\n",
    "plt.subplot(gs[0,0])\n",
    "plt.errorbar(x[qidx],GDPbuf_legfit1[qidx]\n",
    "             ,yerr=errs1[1,qidx,phi_ofset:num_phi/2-phi_ofset])\n",
    "# plt.errorbar(x[qidx],GDPbuf_legfit2[qidx]\n",
    "#              ,yerr=errs1[1,qidx,phi_ofset:num_phi/2-phi_ofset])\n",
    "\n",
    "plt.errorbar(x[qidx],GDPpro_legfit1[qidx]\n",
    "             ,yerr=errs1[0,qidx,phi_ofset:num_phi/2-phi_ofset])\n",
    "# plt.errorbar(x[qidx],GDPbuf_legfit2[qidx]\n",
    "#              ,yerr=errs1[1,qidx,phi_ofset:num_phi/2-phi_ofset])\n",
    "plt.subplot(gs[0,1])\n",
    "plt.errorbar(x[qidx],ALFbuf_legfit1[qidx]\n",
    "             ,yerr=errs1[1,qidx,phi_ofset:num_phi/2-phi_ofset])\n",
    "# plt.errorbar(x[qidx],ALFbuf_legfit2[qidx]\n",
    "#              ,yerr=errs1[1,qidx,phi_ofset:num_phi/2-phi_ofset])\n",
    "\n",
    "plt.errorbar(x[qidx],ALFpro_legfit1[qidx]\n",
    "             ,yerr=errs1[0,qidx,phi_ofset:num_phi/2-phi_ofset])\n",
    "# plt.errorbar(x[qidx],ALFbuf_legfit2[qidx]\n",
    "#              ,yerr=errs1[1,qidx,phi_ofset:num_phi/2-phi_ofset])\n",
    "\n",
    "plt.errorbar(x[qidx],ALFdiff[qidx,phi_ofset:num_phi/2-phi_ofset]\n",
    "             ,yerr=ALFdiff_err[qidx,phi_ofset:num_phi/2-phi_ofset])"
   ]
  },
  {
   "cell_type": "code",
   "execution_count": null,
   "metadata": {},
   "outputs": [],
   "source": [
    "(x2_ALFbuf>1).sum(-1)/float(num_phi/2-phi_ofset*2)"
   ]
  },
  {
   "cell_type": "code",
   "execution_count": null,
   "metadata": {},
   "outputs": [],
   "source": [
    "smooth_flag = True\n",
    "rmx2_GDPbuf = get_relative_rmsd(cors1[1],cors2[1],smooth=smooth_flag)\n",
    "rmx2_GDPpro = get_relative_rmsd(cors1[0],cors2[0],smooth=smooth_flag)\n",
    "rmx2_GDPpro_buf1 = get_relative_rmsd(cors1[0],cors1[1],smooth=smooth_flag)\n",
    "rmx2_GDPpro_buf2 = get_relative_rmsd((cors2[0]+cors1[0])/2.,(cors2[1]+cors1[1])/2.,\n",
    "                                    smooth=smooth_flag)\n",
    "\n",
    "rmx2_ALFbuf = get_relative_rmsd(cors1[3],cors2[3],smooth=smooth_flag)\n",
    "rmx2_ALFpro = get_relative_rmsd(cors1[2],cors2[2],smooth=smooth_flag)\n",
    "rmx2_ALFpro_buf1 = get_relative_rmsd(cors1[2],cors1[3],smooth=smooth_flag)\n",
    "rmx2_ALFpro_buf2 = get_relative_rmsd(cors2[2],cors2[3],smooth=smooth_flag)\n"
   ]
  },
  {
   "cell_type": "code",
   "execution_count": null,
   "metadata": {},
   "outputs": [],
   "source": [
    "plt.figure(figsize=[16,10])\n",
    "gs = GridSpec(2,2)\n",
    "plt.subplot(gs[0,0])\n",
    "plt.plot(qvalues,rmx2_GDPbuf, 'o-',linewidth=3, alpha = 0.6)\n",
    "plt.plot(qvalues,rmx2_GDPpro, 'o-',linewidth=3, alpha = 0.6)\n",
    "plt.plot(qvalues,rmx2_GDPpro_buf2, 'o-',linewidth=3, alpha = 0.6)\n",
    "plt.xlabel('$q$ value ($\\AA^{-1}$)')\n",
    "plt.ylabel('$\\sqrt{<\\chi^2>(q)}$')\n",
    "\n",
    "plt.subplot(gs[0,1])\n",
    "plt.plot(qvalues,rmx2_ALFbuf,'o-', linewidth=3, alpha = 0.6)\n",
    "plt.plot(qvalues,rmx2_ALFpro, 'o-',linewidth=3, alpha = 0.6)\n",
    "plt.plot(qvalues,rmx2_ALFpro_buf1, 'o-',linewidth=3, alpha = 0.6)\n",
    "\n",
    "plt.xlabel('$q$ value ($\\AA^{-1}$)')\n",
    "plt.ylabel('$\\sqrt{<\\chi^2>(q)}$')\n",
    "###### log scale\n",
    "plt.subplot(gs[1,0])\n",
    "plt.semilogy(qvalues,rmx2_GDPbuf,'o-', linewidth=3, alpha = 0.6)\n",
    "plt.plot(qvalues,rmx2_GDPpro,'o-', linewidth=3, alpha = 0.6)\n",
    "plt.plot(qvalues,rmx2_GDPpro_buf2, 'o-',\n",
    "         linewidth=3, alpha = 0.6)\n",
    "plt.plot(qvalues,rmx2_GDPpro_buf1, 'o-',\n",
    "         linewidth=3, alpha = 0.6)\n",
    "plt.xlabel('$q$ value ($\\AA^{-1}$)')\n",
    "plt.ylabel('$\\sqrt{<\\chi^2>(q)}$')\n",
    "\n",
    "plt.subplot(gs[1,1])\n",
    "plt.semilogy(qvalues,rmx2_ALFbuf,'o-', linewidth=3, alpha = 0.6)\n",
    "plt.plot(qvalues,rmx2_ALFpro,'o-', linewidth=3, alpha = 0.6)\n",
    "plt.plot(qvalues,rmx2_ALFpro_buf1, 'o-',linewidth=3, alpha = 0.6)\n",
    "\n",
    "plt.xlabel('$q$ value ($\\AA^{-1}$)')\n",
    "plt.ylabel('$\\sqrt{<\\chi^2>(q)}$')"
   ]
  },
  {
   "cell_type": "code",
   "execution_count": null,
   "metadata": {},
   "outputs": [],
   "source": [
    "plt.figure(figsize=[16,5])\n",
    "gs = GridSpec(1,2)\n",
    "\n",
    "###### log scale\n",
    "ax=plt.subplot(gs[0,0])\n",
    "ax.set_title('(a)',x = 0.05,y=0.9)\n",
    "plt.semilogy(qvalues,rmx2_GDPbuf,'o-', linewidth=3, alpha = 0.6)\n",
    "\n",
    "plt.plot(qvalues,rmx2_GDPpro,'o-', linewidth=3, alpha = 0.6)\n",
    "plt.plot(qvalues,rmx2_GDPpro_buf2, 'o-',\n",
    "         linewidth=3, alpha = 0.6)\n",
    "plt.xlabel('$q$ value ($\\AA^{-1}$)')\n",
    "plt.ylabel('$\\sqrt{<\\chi^2>(q)}$')\n",
    "\n",
    "ax=plt.subplot(gs[0,1])\n",
    "ax.set_title('(a)',x = 0.05,y=0.9)\n",
    "plt.semilogy(qvalues,rmx2_ALFbuf,'o-', linewidth=3, alpha = 0.6)\n",
    "plt.plot(qvalues,rmx2_ALFpro,'o-', linewidth=3, alpha = 0.6)\n",
    "plt.plot(qvalues,rmx2_ALFpro_buf1, 'o-',linewidth=3, alpha = 0.6)\n",
    "\n",
    "plt.xlabel('$q$ value ($\\AA^{-1}$)')\n",
    "plt.ylabel('$\\sqrt{<\\chi^2>(q)}$')\n",
    "\n",
    "# plt.savefig('x2_protein_buffer.png',bbox_in_inches='tight')"
   ]
  },
  {
   "cell_type": "code",
   "execution_count": null,
   "metadata": {},
   "outputs": [],
   "source": [
    "\n",
    "rmx2_GDPdiff = get_relative_rmsd(GDPdiff1,GDPdiff2,smooth=smooth_flag)\n",
    "rmx2_ALFdiff = get_relative_rmsd(ALFdiff1,ALFdiff2,smooth=smooth_flag)\n",
    "rmx2_GDP_ALF = get_relative_rmsd(GDPdiff,ALFdiff,smooth=smooth_flag)\n",
    "\n"
   ]
  },
  {
   "cell_type": "code",
   "execution_count": null,
   "metadata": {},
   "outputs": [],
   "source": [
    "ALFdiff.shape\n",
    "f_out = h5py.File('/reg/d/psdm/cxi/cxilp6715/results/validation/pca_remove_cors.h5','w')\n",
    "f_out.create_dataset('ALFdiff',data=ALFdiff)\n",
    "f_out.create_dataset('ALFdiff_err',data=ALFdiff_err)\n",
    "f_out.create_dataset('GDPdiff',data=GDPdiff)\n",
    "f_out.create_dataset('GDPdiff_err',data=GDPdiff_err)\n",
    "f_out.close()\n",
    "\n",
    "# plt.plot( (x2_GDP_ALF_legfit>1).sum(-1)/117.)\n"
   ]
  },
  {
   "cell_type": "code",
   "execution_count": null,
   "metadata": {},
   "outputs": [],
   "source": [
    "plt.figure(figsize=[6,12])\n",
    "qinds=[0,1,2,3]\n",
    "gs = GridSpec(4,1)\n",
    "for ii,qidx in enumerate(qinds):\n",
    "    plt.subplot(gs[ii,0])\n",
    "    plt.plot(cpsi[qidx,phi_ofset:num_phi/2-phi_ofset],GDPdiff[qidx,phi_ofset:num_phi/2-phi_ofset],'b-')\n",
    "    plt.plot(cpsi[qidx,phi_ofset:num_phi/2-phi_ofset],GDP_legfit[qidx])\n",
    "    # plt.plot(cpsi[qidx,phi_ofset:num_phi/2-phi_ofset],GDP_legfit1[qidx])\n",
    "    plt.plot(cpsi[qidx,phi_ofset:num_phi/2-phi_ofset],ALFdiff[qidx,phi_ofset:num_phi/2-phi_ofset],'m-')\n",
    "    plt.plot(cpsi[qidx,phi_ofset:num_phi/2-phi_ofset],ALF_legfit[qidx])"
   ]
  },
  {
   "cell_type": "code",
   "execution_count": null,
   "metadata": {},
   "outputs": [],
   "source": [
    "plt.figure(figsize=[16,12])\n",
    "qinds=[0,1,6,15]\n",
    "gs = GridSpec(4,2)\n",
    "for ii,qidx in enumerate(qinds):\n",
    "    plt.subplot(gs[ii,0])\n",
    "    y = cors1[0,qidx,phi_ofset:num_phi/2-phi_ofset].copy()\n",
    "#     y-=y.min(-1)\n",
    "    plt.plot(cpsi[qidx,phi_ofset:num_phi/2-phi_ofset],y,'b.', alpha=0.5)\n",
    "    plt.plot(cpsi[qidx,phi_ofset:num_phi/2-phi_ofset],smooth(y),'b-', \n",
    "             linewidth = 3, alpha=0.6)\n",
    "\n",
    "    y = cors2[0,qidx,phi_ofset:num_phi/2-phi_ofset].copy()\n",
    "#     y-=y.min(-1)\n",
    "    plt.plot(cpsi[qidx,phi_ofset:num_phi/2-phi_ofset],y,'y.', alpha=0.5)\n",
    "    plt.plot(cpsi[qidx,phi_ofset:num_phi/2-phi_ofset],smooth(y),'y-', \n",
    "             linewidth = 3, alpha=0.6)\n",
    "    ######\n",
    "    y = cors1[1,qidx,phi_ofset:num_phi/2-phi_ofset].copy()\n",
    "#     y-=y.min()\n",
    "    plt.plot(cpsi[qidx,phi_ofset:num_phi/2-phi_ofset],y,'g^', alpha=0.5)\n",
    "    plt.plot(cpsi[qidx,phi_ofset:num_phi/2-phi_ofset],smooth(y),'g-', \n",
    "             linewidth = 3, alpha=0.6)\n",
    "\n",
    "# qinds=[0,1,2,3]\n",
    "# gs = GridSpec(4,1)\n",
    "for ii,qidx in enumerate(qinds):\n",
    "    plt.subplot(gs[ii,1])\n",
    "    y = cors1[2,qidx,phi_ofset:num_phi/2-phi_ofset].copy()\n",
    "#     y-=y.min(-1)\n",
    "    plt.plot(cpsi[qidx,phi_ofset:num_phi/2-phi_ofset],y,'b.', alpha=0.5)\n",
    "    plt.plot(cpsi[qidx,phi_ofset:num_phi/2-phi_ofset],smooth(y),'b-', \n",
    "             linewidth = 3, alpha=0.6)\n",
    "\n",
    "    y = cors2[2,qidx,phi_ofset:num_phi/2-phi_ofset].copy()\n",
    "#     y-=y.min(-1)\n",
    "    plt.plot(cpsi[qidx,phi_ofset:num_phi/2-phi_ofset],y,'y.', alpha=0.5)\n",
    "    plt.plot(cpsi[qidx,phi_ofset:num_phi/2-phi_ofset],smooth(y),'y-', \n",
    "             linewidth = 3, alpha=0.6)\n",
    "    ######\n",
    "    y = cors1[3,qidx,phi_ofset:num_phi/2-phi_ofset].copy()\n",
    "#     y-=y.min()\n",
    "    plt.plot(cpsi[qidx,phi_ofset:num_phi/2-phi_ofset],y,'g^', alpha=0.5)\n",
    "    plt.plot(cpsi[qidx,phi_ofset:num_phi/2-phi_ofset],smooth(y),'g-', \n",
    "             linewidth = 3, alpha=0.6)"
   ]
  },
  {
   "cell_type": "code",
   "execution_count": null,
   "metadata": {},
   "outputs": [],
   "source": [
    "rmx2_GDPbuf_ALFbuf = get_relative_rmsd(cors1[1],cors2[3],smooth=smooth_flag)\n",
    "rmx2_GDPpro_ALFpro = get_relative_rmsd(cors1[0],cors2[2],smooth=smooth_flag)\n",
    "\n",
    "plt.semilogy(rmx2_GDPbuf_ALFbuf)\n",
    "plt.plot(rmx2_GDPpro_ALFpro)\n",
    "plt.plot(rmx2_GDP_ALF)"
   ]
  },
  {
   "cell_type": "code",
   "execution_count": null,
   "metadata": {},
   "outputs": [],
   "source": []
  },
  {
   "cell_type": "code",
   "execution_count": null,
   "metadata": {},
   "outputs": [],
   "source": [
    "qidx = 5\n",
    "plt.plot(cpsi[qidx,phi_ofset:num_phi/2-phi_ofset],GDPdiff[qidx,phi_ofset:num_phi/2-phi_ofset])\n",
    "plt.plot(cpsi[qidx,phi_ofset:num_phi/2-phi_ofset],GDP_legfit[qidx])\n",
    "# plt.plot(cpsi[qidx,phi_ofset:num_phi/2-phi_ofset],GDP_legfit1[qidx])\n",
    "plt.plot(cpsi[qidx,phi_ofset:num_phi/2-phi_ofset],ALFdiff[qidx,phi_ofset:num_phi/2-phi_ofset])\n",
    "plt.plot(cpsi[qidx,phi_ofset:num_phi/2-phi_ofset],ALF_legfit[qidx])"
   ]
  },
  {
   "cell_type": "code",
   "execution_count": null,
   "metadata": {},
   "outputs": [],
   "source": [
    "rmx2_GDPbuf = get_rmsd(cors1[1],cors2[1])\n",
    "rmx2_GDPpro = get_rmsd(cors1[0],cors2[0])\n",
    "rmx2_GDPpro_buf1 = get_rmsd(cors1[0],cors1[1])\n",
    "rmx2_GDPpro_buf2 = get_rmsd(cors2[0],cors2[1])\n",
    "\n",
    "plt.semilogy(rmx2_GDPbuf)\n",
    "plt.plot(rmx2_GDPpro)\n",
    "# plt.plot(rmx2_GDPpro_buf1)\n",
    "\n",
    "plt.plot(rmx2_GDPpro_buf2)"
   ]
  },
  {
   "cell_type": "code",
   "execution_count": null,
   "metadata": {},
   "outputs": [],
   "source": [
    "rmx2_ALFbuf = get_rmsd(cors1[3],cors2[3])\n",
    "rmx2_ALFpro = get_rmsd(cors1[2],cors2[2])\n",
    "rmx2_ALFpro_buf1 = get_rmsd(cors1[2],cors1[3])\n",
    "rmx2_ALFpro_buf2 = get_rmsd(cors2[2],cors2[3])\n",
    "\n",
    "plt.semilogy(rmx2_ALFbuf)\n",
    "plt.plot(rmx2_ALFpro)\n",
    "# plt.plot(rmx2_ALFpro_buf1)\n",
    "\n",
    "plt.plot(rmx2_ALFpro_buf2)"
   ]
  },
  {
   "cell_type": "code",
   "execution_count": null,
   "metadata": {},
   "outputs": [],
   "source": [
    "G"
   ]
  },
  {
   "cell_type": "code",
   "execution_count": null,
   "metadata": {},
   "outputs": [],
   "source": [
    "rmx2_GDPpro_buf1==rmx2_GDPpro_buf2"
   ]
  },
  {
   "cell_type": "code",
   "execution_count": null,
   "metadata": {},
   "outputs": [],
   "source": [
    "d_GDPpro = get_relative_x2(cors1[0],cors2[0],errs1[0],errs2[0])\n",
    "d_GDPpro_buf = get_relative_x2(cors1[0],cors1[1],errs1[0],errs1[1])\n",
    "\n",
    "x2_GDPpro = get_x2(cors1[0],cors2[0])\n",
    "x2_GDPpro_buf = get_x2(cors1[0],cors1[1])"
   ]
  },
  {
   "cell_type": "code",
   "execution_count": null,
   "metadata": {},
   "outputs": [],
   "source": [
    "qidx = 23\n",
    "phi_ofset = 10\n",
    "num_phi = 354\n",
    "plt.plot(d_GDPpro[qidx, phi_ofset:num_phi/2-phi_ofset])\n",
    "plt.plot(d_GDPpro_buf[qidx, phi_ofset:num_phi/2-phi_ofset])"
   ]
  },
  {
   "cell_type": "code",
   "execution_count": null,
   "metadata": {},
   "outputs": [],
   "source": [
    "qidx = 28\n",
    "phi_ofset = 30\n",
    "num_phi = 354\n",
    "plt.plot(x2_GDPpro[qidx, phi_ofset:num_phi/2-phi_ofset])\n",
    "plt.plot(x2_GDPpro_buf[qidx, phi_ofset:num_phi/2-phi_ofset])"
   ]
  },
  {
   "cell_type": "code",
   "execution_count": null,
   "metadata": {},
   "outputs": [],
   "source": [
    "plt.plot((d_GDPpro>1).sum(-1)/float(d_GDPpro.shape[-1]) )\n",
    "plt.plot((d_GDPpro_buf>1).sum(-1)/float(d_GDPpro.shape[-1]))"
   ]
  },
  {
   "cell_type": "code",
   "execution_count": null,
   "metadata": {},
   "outputs": [],
   "source": [
    "qidx = 10\n",
    "plt.errorbar(cpsi[qidx,phi_ofset:num_phi/2-phi_ofset],cors1[0,qidx,phi_ofset:num_phi/2-phi_ofset]\n",
    "             ,yerr = errs1[0,qidx,phi_ofset:num_phi/2-phi_ofset])\n",
    "plt.errorbar(cpsi[qidx,phi_ofset:num_phi/2-phi_ofset],cors2[0,qidx,phi_ofset:num_phi/2-phi_ofset]\n",
    "        ,yerr = errs2[0,qidx,phi_ofset:num_phi/2-phi_ofset])\n",
    "\n",
    "plt.errorbar(cpsi[qidx,phi_ofset:num_phi/2-phi_ofset],cors2[1,qidx,phi_ofset:num_phi/2-phi_ofset]\n",
    "        ,yerr = errs2[1,qidx,phi_ofset:num_phi/2-phi_ofset])\n",
    "\n",
    "# plt.errorbar(range(354/2-30),cors2[2,qidx,15:354/2-15]\n",
    "#         ,yerr = errs2[1,qidx,15:354/2-15])\n",
    "# plt.errorbar(range(354/2-30),cors2[3,qidx,15:354/2-15]\n",
    "#         ,yerr = errs2[1,qidx,15:354/2-15])"
   ]
  },
  {
   "cell_type": "code",
   "execution_count": null,
   "metadata": {},
   "outputs": [],
   "source": [
    "qidx = 12\n",
    "plt.errorbar(cpsi[qidx,phi_ofset:num_phi/2-phi_ofset],cors1[2,qidx,phi_ofset:num_phi/2-phi_ofset]\n",
    "             ,yerr = errs1[2,qidx,phi_ofset:num_phi/2-phi_ofset])\n",
    "plt.errorbar(cpsi[qidx,phi_ofset:num_phi/2-phi_ofset],cors2[2,qidx,phi_ofset:num_phi/2-phi_ofset]\n",
    "        ,yerr = errs2[2,qidx,phi_ofset:num_phi/2-phi_ofset])\n",
    "\n",
    "plt.errorbar(cpsi[qidx,phi_ofset:num_phi/2-phi_ofset],cors2[3,qidx,phi_ofset:num_phi/2-phi_ofset]\n",
    "        ,yerr = errs2[3,qidx,phi_ofset:num_phi/2-phi_ofset])"
   ]
  },
  {
   "cell_type": "code",
   "execution_count": null,
   "metadata": {},
   "outputs": [],
   "source": []
  },
  {
   "cell_type": "code",
   "execution_count": null,
   "metadata": {},
   "outputs": [],
   "source": [
    "f_out = h5py.File('/reg/d/psdm/cxi/cxilp6715/results/validation/GDP_pro_random_split_maskDivide.h5','r')"
   ]
  },
  {
   "cell_type": "code",
   "execution_count": null,
   "metadata": {},
   "outputs": [],
   "source": [
    "f_out.keys()\n",
    "keys =[kk for kk in f_out.keys() if not kk.startswith('run')]\n",
    "print keys\n",
    "# for kk in keys:\n",
    "#     f_out.__delitem__(kk)\n",
    "print f_out.keys()"
   ]
  },
  {
   "cell_type": "code",
   "execution_count": null,
   "metadata": {},
   "outputs": [],
   "source": [
    "print('aggregating results')\n",
    "ave_cor1 =[]\n",
    "ave_cor2=[]\n",
    "total_shots1=[]\n",
    "total_shots2 = []\n",
    "err1 = []\n",
    "err2 = []\n",
    "\n",
    "keys=[kk for kk in f_out.keys() if kk.startswith('run')]\n",
    "\n",
    "for kk in keys:\n",
    "    ave_cor1.append(f_out[kk]['ave_cor1'].value)\n",
    "    ave_cor2.append(f_out[kk]['ave_cor2'].value)\n",
    "\n",
    "    total_shots1.append(f_out[kk]['num_shots1'].value)\n",
    "    total_shots2.append(f_out[kk]['num_shots2'].value)\n",
    "\n",
    "    err1.append(f_out[kk]['err1'].value)\n",
    "    err2.append(f_out[kk]['err2'].value)\n",
    "ave_cor1=np.array(ave_cor1)\n",
    "ave_cor2=np.array(ave_cor2)\n",
    "\n",
    "err1 = np.array(err1)\n",
    "err2 = np.array(err2)\n",
    "\n",
    "total_shots1=np.array(total_shots1)\n",
    "total_shots2=np.array(total_shots2)\n",
    "\n",
    "cor1 = (ave_cor1 *(total_shots1.astype(float)/total_shots1.sum(0)[None,:])[:,:,None]).sum(0)\n",
    "cor2 = (ave_cor2 *(total_shots2.astype(float)/total_shots2.sum(0)[None,:])[:,:,None]).sum(0)\n",
    "\n",
    "total_err1 = np.sqrt((err1**2 *total_shots1[:,:,None]**2).sum(0))/total_shots1.sum(0)[:,None]\n",
    "total_err2 = np.sqrt((err2**2 *total_shots2[:,:,None]**2).sum(0))/total_shots2.sum(0)[:,None]\n",
    "\n",
    "f_out.create_dataset('ave_cor1',data=cor1)\n",
    "f_out.create_dataset('ave_cor2',data=cor2)\n",
    "f_out.create_dataset('err1',data=total_err1)\n",
    "f_out.create_dataset('err2',data=total_err2)\n",
    "\n",
    "f_out.create_dataset('num_shots1',data=total_shots1)\n",
    "f_out.create_dataset('num_shots2',data=total_shots2)\n",
    "\n",
    "print('Done!')\n",
    "f_out.close()"
   ]
  },
  {
   "cell_type": "code",
   "execution_count": 6,
   "metadata": {},
   "outputs": [
    {
     "data": {
      "text/plain": [
       "0.5"
      ]
     },
     "execution_count": 6,
     "metadata": {},
     "output_type": "execute_result"
    }
   ],
   "source": [
    "a =int(1)**2.\n",
    "a/2"
   ]
  },
  {
   "cell_type": "code",
   "execution_count": null,
   "metadata": {},
   "outputs": [],
   "source": [
    "total_shots1.sum(0)\n",
    "f_out.close()"
   ]
  },
  {
   "cell_type": "code",
   "execution_count": null,
   "metadata": {},
   "outputs": [],
   "source": [
    "keys =[kk for kk in f_out.keys() if not kk.startswith('run')]\n",
    "f_out.create_dataset('ave_cor1',data=cor1)\n",
    "f_out.create_dataset('ave_cor2',data=cor2)\n",
    "f_out.create_dataset('err1',data=total_err1)\n",
    "f_out.create_dataset('err2',data=total_err2)\n",
    "\n",
    "f_out.create_dataset('num_shots1',data=total_shots1)\n",
    "f_out.create_dataset('num_shots2',data=total_shots2)\n",
    "\n",
    "print('Done!')"
   ]
  }
 ],
 "metadata": {
  "kernelspec": {
   "display_name": "Python 2 ana-1.3.10",
   "language": "python",
   "name": "ana-1.3.10"
  },
  "language_info": {
   "codemirror_mode": {
    "name": "ipython",
    "version": 2
   },
   "file_extension": ".py",
   "mimetype": "text/x-python",
   "name": "python",
   "nbconvert_exporter": "python",
   "pygments_lexer": "ipython2",
   "version": "2.7.13"
  }
 },
 "nbformat": 4,
 "nbformat_minor": 2
}
