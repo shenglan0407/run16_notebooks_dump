{
 "cells": [
  {
   "cell_type": "code",
   "execution_count": 3,
   "metadata": {},
   "outputs": [],
   "source": [
    "%matplotlib inline\n",
    "import matplotlib.pyplot as plt\n",
    "import numpy as np\n",
    "import h5py\n",
    "import os"
   ]
  },
  {
   "cell_type": "code",
   "execution_count": 85,
   "metadata": {},
   "outputs": [],
   "source": [
    "def norm_w_mask(x,mask, threshold):\n",
    "    x_out = np.zeros_like(x, dtype=np.float64)\n",
    "    mask =mask.astype(bool)\n",
    "#     print x.shape,mask.shape\n",
    "    for ii in range(x.shape[0]):\n",
    "        k=np.median(x[ii][mask[ii]])\n",
    "        mu = np.std(x[ii][mask[ii]])\n",
    "        this_mask = (np.abs(x[ii] - k)<mu*threshold)*mask[ii]\n",
    "        x_out[ii] = (x[ii]-(x[ii][this_mask]).mean())* this_mask\n",
    "    return x_out\n",
    "\n",
    "def diff_all_shots(images,mask,threshold):\n",
    "    images = norm_all_shots(images, mask, threshold)\n",
    "    diffs = images - images.mean(0)[None,:]\n",
    "    \n",
    "    return diffs, images\n",
    "\n",
    "def norm_all_shots(images,mask, threshold):\n",
    "    norms = np.zeros_like(images, dtype=np.float64)\n",
    "    for ii in range(norms.shape[0]):\n",
    "        norms[ii]=norm_w_mask(images[ii],mask, threshold)\n",
    "    return norms"
   ]
  },
  {
   "cell_type": "code",
   "execution_count": 86,
   "metadata": {},
   "outputs": [],
   "source": [
    "data_dir = '/reg/d/psdm/cxi/cxilr6716/scratch/combined_tables/cali_gai/'\n",
    "run_num =111\n",
    "\n",
    "run_file = \"run%d.tbl\"%run_num\n",
    "f = h5py.File(os.path.join(data_dir, run_file), 'r')\n",
    "\n",
    "PI = f['polar_imgs'][:100]\n",
    "shot_tage_to_keep=np.array(range(100))"
   ]
  },
  {
   "cell_type": "code",
   "execution_count": 87,
   "metadata": {},
   "outputs": [],
   "source": [
    "mask = np.array(f['polar_mask_binned'].value==f['polar_mask_binned'].value.max(), dtype = int)"
   ]
  },
  {
   "cell_type": "code",
   "execution_count": 90,
   "metadata": {},
   "outputs": [],
   "source": [
    "qidx = 15\n",
    "outlier_threshold=1000\n",
    "shots=PI[:,qidx,:][shot_tage_to_keep,None,:]\n",
    "this_mask = mask[qidx][None,:]\n",
    "norm_shots = norm_all_shots(shots.astype(np.float64),this_mask, outlier_threshold)"
   ]
  },
  {
   "cell_type": "code",
   "execution_count": 91,
   "metadata": {},
   "outputs": [
    {
     "data": {
      "text/plain": [
       "array([[  2.23188884e-13],\n",
       "       [ -3.57102214e-13],\n",
       "       [  6.69566652e-14],\n",
       "       [  8.92755535e-13],\n",
       "       [ -3.57102214e-13],\n",
       "       [  5.35653321e-13],\n",
       "       [  2.45507772e-13],\n",
       "       [ -5.13334433e-13],\n",
       "       [  8.92755535e-14],\n",
       "       [ -1.33913330e-13],\n",
       "       [ -4.46377768e-14],\n",
       "       [  1.78551107e-13],\n",
       "       [  8.25798870e-13],\n",
       "       [ -6.69566652e-13],\n",
       "       [ -1.18290108e-12],\n",
       "       [ -8.92755535e-14],\n",
       "       [ -6.69566652e-13],\n",
       "       [ -6.24928875e-13],\n",
       "       [  1.33913330e-12],\n",
       "       [ -1.02666887e-12],\n",
       "       [ -2.67826661e-13],\n",
       "       [ -1.54000330e-12],\n",
       "       [  1.42840886e-12],\n",
       "       [ -1.33913330e-13],\n",
       "       [ -2.00869995e-13],\n",
       "       [  7.14204428e-13],\n",
       "       [  8.92755535e-14],\n",
       "       [  9.82031089e-13],\n",
       "       [  9.82031089e-13],\n",
       "       [  8.92755535e-14],\n",
       "       [  1.16058220e-12],\n",
       "       [ -8.92755535e-14],\n",
       "       [  1.38377108e-12],\n",
       "       [ -6.91885540e-13],\n",
       "       [  7.14204428e-13],\n",
       "       [  4.91015545e-13],\n",
       "       [ -2.23188884e-13],\n",
       "       [ -4.91015545e-13],\n",
       "       [ -1.29449553e-12],\n",
       "       [  5.80291098e-13],\n",
       "       [  4.46377768e-13],\n",
       "       [  5.57972210e-14],\n",
       "       [  2.23188884e-13],\n",
       "       [ -4.46377768e-13],\n",
       "       [  6.24928875e-13],\n",
       "       [  8.92755535e-13],\n",
       "       [  8.92755535e-13],\n",
       "       [ -4.46377768e-13],\n",
       "       [ -1.11594442e-12],\n",
       "       [  5.35653321e-13],\n",
       "       [ -1.13826331e-12],\n",
       "       [  8.92755535e-14],\n",
       "       [  8.92755535e-13],\n",
       "       [  5.13334433e-13],\n",
       "       [ -8.14639426e-13],\n",
       "       [  1.38377108e-12],\n",
       "       [ -1.51768441e-12],\n",
       "       [  1.16058220e-12],\n",
       "       [ -2.23188884e-14],\n",
       "       [ -1.33913330e-12],\n",
       "       [  8.92755535e-13],\n",
       "       [ -6.69566652e-13],\n",
       "       [  6.02609986e-13],\n",
       "       [ -1.38377108e-12],\n",
       "       [ -1.07130664e-12],\n",
       "       [  3.57102214e-13],\n",
       "       [  3.57102214e-13],\n",
       "       [  1.33913330e-13],\n",
       "       [ -2.67826661e-13],\n",
       "       [ -6.24928875e-13],\n",
       "       [ -4.91015545e-13],\n",
       "       [  4.35218324e-13],\n",
       "       [ -1.24985775e-12],\n",
       "       [  6.36088319e-13],\n",
       "       [ -7.14204428e-13],\n",
       "       [ -5.35653321e-13],\n",
       "       [  2.00869995e-13],\n",
       "       [ -8.48117759e-13],\n",
       "       [  3.12464437e-13],\n",
       "       [  1.24985775e-12],\n",
       "       [ -1.16058220e-12],\n",
       "       [ -9.37393312e-13],\n",
       "       [ -1.56232219e-13],\n",
       "       [ -3.45942770e-13],\n",
       "       [ -1.07130664e-12],\n",
       "       [ -5.80291098e-13],\n",
       "       [ -8.03479982e-13],\n",
       "       [  1.24985775e-12],\n",
       "       [  6.08189709e-13],\n",
       "       [  1.09362553e-12],\n",
       "       [ -2.23188884e-14],\n",
       "       [  4.46377768e-13],\n",
       "       [ -8.48117759e-13],\n",
       "       [  1.16058220e-12],\n",
       "       [  8.92755535e-13],\n",
       "       [ -2.67826661e-13],\n",
       "       [  9.82031089e-13],\n",
       "       [ -2.67826661e-13],\n",
       "       [ -8.92755535e-13],\n",
       "       [  4.01739991e-13]])"
      ]
     },
     "execution_count": 91,
     "metadata": {},
     "output_type": "execute_result"
    }
   ],
   "source": [
    "norm_shots.mean(-1)"
   ]
  },
  {
   "cell_type": "code",
   "execution_count": 84,
   "metadata": {},
   "outputs": [
    {
     "name": "stdout",
     "output_type": "stream",
     "text": [
      "1.09139364213e-10\n",
      "0.0\n"
     ]
    }
   ],
   "source": [
    "x = (shots[0]).astype(np.float64)\n",
    "y =x[0]-x[0][this_mask[0]==1].mean() \n",
    "z = y*this_mask[0]\n",
    "print z[this_mask[0]==1].sum()\n",
    "print z[this_mask[0]==0].sum()\n",
    "# x_out = np.zeros_like(x, dtype=np.float64)\n",
    "# #     print x.shape,mask.shape\n",
    "#     for ii in range(x.shape[0]):\n",
    "#         k=np.median(x[ii][mask[ii]])\n",
    "#         mu = np.std(x[ii][mask[ii]])\n",
    "#         this_mask = (np.abs(x[ii] - k)<mu*threshold)*mask[ii]\n",
    "#         x_out[ii] = (x[ii]-(x[ii][this_mask]).mean())* this_mask"
   ]
  },
  {
   "cell_type": "code",
   "execution_count": 77,
   "metadata": {},
   "outputs": [
    {
     "data": {
      "text/plain": [
       "array([-0.,  0., -0., -0., -0., -0., -0., -0., -0., -0., -0., -0.,  0.,\n",
       "        0., -0., -0.,  0.,  0., -0., -0., -0., -0., -0., -0., -0., -0.,\n",
       "       -0., -0., -0., -0., -0., -0.,  0., -0.,  0., -0., -0., -0., -0.,\n",
       "       -0., -0.,  0.,  0., -0., -0., -0., -0., -0., -0., -0., -0.,  0.,\n",
       "        0.,  0.,  0.,  0., -0., -0., -0., -0., -0., -0., -0., -0., -0.,\n",
       "       -0., -0.])"
      ]
     },
     "execution_count": 77,
     "metadata": {},
     "output_type": "execute_result"
    }
   ],
   "source": [
    "z[this_mask[0]==0]"
   ]
  },
  {
   "cell_type": "code",
   "execution_count": 80,
   "metadata": {},
   "outputs": [
    {
     "data": {
      "text/plain": [
       "array([[1, 1, 1, 1, 1, 1, 1, 1, 1, 1, 1, 1, 0, 1, 1, 1, 1, 1, 1, 1, 1, 0,\n",
       "        1, 1, 1, 1, 1, 1, 1, 1, 1, 1, 1, 1, 1, 1, 1, 1, 1, 1, 1, 1, 0, 1,\n",
       "        1, 1, 1, 1, 1, 1, 1, 1, 1, 1, 1, 1, 1, 1, 1, 1, 1, 1, 0, 0, 0, 0,\n",
       "        0, 0, 0, 0, 0, 1, 1, 1, 1, 1, 1, 1, 1, 1, 1, 1, 0, 1, 1, 1, 0, 1,\n",
       "        1, 1, 1, 0, 1, 1, 1, 0, 1, 1, 1, 1, 1, 1, 1, 1, 0, 1, 1, 1, 1, 1,\n",
       "        1, 1, 1, 1, 1, 1, 1, 1, 1, 1, 1, 1, 1, 1, 1, 1, 1, 1, 1, 1, 1, 1,\n",
       "        1, 1, 1, 1, 1, 1, 0, 0, 0, 0, 0, 0, 0, 0, 0, 0, 0, 0, 0, 0, 1, 1,\n",
       "        1, 1, 1, 1, 1, 1, 1, 1, 1, 1, 1, 1, 1, 1, 1, 1, 1, 1, 0, 0, 1, 1,\n",
       "        1, 1, 1, 1, 1, 1, 1, 1, 1, 1, 1, 1, 1, 1, 1, 1, 1, 1, 1, 1, 1, 1,\n",
       "        1, 1, 1, 1, 1, 1, 1, 1, 1, 1, 1, 1, 1, 1, 1, 0, 1, 1, 1, 1, 0, 0,\n",
       "        0, 0, 0, 0, 0, 0, 0, 1, 0, 0, 0, 0, 0, 0, 0, 0, 1, 1, 1, 1, 1, 1,\n",
       "        1, 1, 1, 1, 1, 1, 1, 1, 1, 1, 0, 0, 1, 1, 1, 1, 1, 1, 0, 1, 1, 1,\n",
       "        1, 1, 1, 1, 1, 1, 1, 1, 1, 1, 1, 1, 1, 1, 1, 1, 1, 1, 1, 1, 1, 1,\n",
       "        1, 1, 1, 1, 1, 1, 1, 1, 1, 1, 1, 1, 1, 1, 1, 1, 1, 1, 1, 0, 0, 0,\n",
       "        0, 0, 0, 0, 0, 0, 0, 0, 0, 0, 1, 1, 1, 1, 1, 1, 1, 1]])"
      ]
     },
     "execution_count": 80,
     "metadata": {},
     "output_type": "execute_result"
    }
   ],
   "source": [
    "this_mask"
   ]
  },
  {
   "cell_type": "code",
   "execution_count": null,
   "metadata": {},
   "outputs": [],
   "source": []
  }
 ],
 "metadata": {
  "kernelspec": {
   "display_name": "Python 2 ana-1.3.10",
   "language": "python",
   "name": "ana-1.3.10"
  },
  "language_info": {
   "codemirror_mode": {
    "name": "ipython",
    "version": 2
   },
   "file_extension": ".py",
   "mimetype": "text/x-python",
   "name": "python",
   "nbconvert_exporter": "python",
   "pygments_lexer": "ipython2",
   "version": "2.7.13"
  }
 },
 "nbformat": 4,
 "nbformat_minor": 2
}
