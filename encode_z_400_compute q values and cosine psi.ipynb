{
 "cells": [
  {
   "cell_type": "code",
   "execution_count": 1,
   "metadata": {},
   "outputs": [],
   "source": [
    "import numpy as np\n",
    "import h5py"
   ]
  },
  {
   "cell_type": "code",
   "execution_count": 2,
   "metadata": {},
   "outputs": [],
   "source": [
    "def get_cpsi(num_phi, wavlen, q1, q2):\n",
    "        \"\"\"\n",
    "        Returns cos psi values\n",
    "        ================================================================\n",
    "        num_phi  - int, number of phi values in the ring\n",
    "        \n",
    "        wavlen   - float, wavelength in angstrom\n",
    "        \n",
    "        q1, q2   - float, magnitudes of q values\n",
    "        \n",
    "        Returns:\n",
    "        cpsi     - 1d array, shape = (num_phi)\n",
    "        \"\"\"\n",
    "        phis = np.arange( num_phi ) * 2 * np.pi / num_phi\n",
    "        th1 = np.arcsin( q1 * wavlen / 4. / np.pi )\n",
    "        th2 = np.arcsin( q2 * wavlen / 4. / np.pi )\n",
    "        cpsi = np.cos(phis) * np.cos(th1)*np.cos(th2) + np.sin(th1)*np.sin(th2)\n",
    "        \n",
    "        return cpsi"
   ]
  },
  {
   "cell_type": "code",
   "execution_count": 3,
   "metadata": {},
   "outputs": [
    {
     "name": "stdout",
     "output_type": "stream",
     "text": [
      "[u'ebeam', u'event_time', u'evr', u'fiducials', u'gas_detector', u'phase_cav', u'polar_imgs', u'polar_mask', u'polar_mask_binned', u'polar_params', u'radial_profs']\n"
     ]
    },
    {
     "data": {
      "text/plain": [
       "9496.1567184952964"
      ]
     },
     "execution_count": 3,
     "metadata": {},
     "output_type": "execute_result"
    }
   ],
   "source": [
    "f = h5py.File('/reg/d/psdm/cxi/cxilr6716/scratch/combined_tables/gai/run108.tbl','r')\n",
    "print f.keys()\n",
    "f['ebeam']['photon_energy'].value.mean(0)"
   ]
  },
  {
   "cell_type": "code",
   "execution_count": 13,
   "metadata": {},
   "outputs": [
    {
     "name": "stdout",
     "output_type": "stream",
     "text": [
      "0.283785919305 1.72167712864\n",
      "(50,)\n",
      "[ 0.28378592  0.3142544   0.34469446  0.3751034   0.40547854  0.4358172\n",
      "  0.46611672  0.49637448  0.52658787  0.55675429  0.58687118  0.61693601\n",
      "  0.64694625  0.67689942  0.70679306  0.73662475  0.76639207  0.79609267\n",
      "  0.8257242   0.85528437  0.88477091  0.91418157  0.94351417  0.97276654\n",
      "  1.00193656  1.03102213  1.06002121  1.0889318   1.11775191  1.14647962\n",
      "  1.17511304  1.20365032  1.23208966  1.26042928  1.28866747  1.31680255]\n"
     ]
    }
   ],
   "source": [
    "phi_offset = 10\n",
    "waxs_rmin = 65 # pixel units\n",
    "waxs_rmax = 415\n",
    "c = 2.998e8\n",
    "h = 6.63e-34\n",
    "ev_to_j = 1.602e-19\n",
    "num_q = 50\n",
    "\n",
    "pixsize = 110e-6 #meter\n",
    "photon_energy = 9.496e3 #eV\n",
    "wavlen = c * h/(photon_energy * ev_to_j) * 1e10 # angstrom\n",
    "det_dist = 121e-3 # meter\n",
    "\n",
    "thetas = np.arctan ( np.arange(waxs_rmin, waxs_rmax) * pixsize / det_dist)  /2.    \n",
    "qs =np.sin( thetas ) * 4.*np.pi/wavlen\n",
    "print qs.min(), qs.max()\n",
    "qs.shape\n",
    "q_intervals = np.zeros( (num_q,2) )\n",
    "interval = 7\n",
    "# interval = int ( (waxs_rmax-waxs_rmin)/(num_q) )\n",
    "for idx in range(num_q):\n",
    "    try:\n",
    "        q_intervals[idx] = np.array([qs[idx*interval],qs[(idx+1)*interval] ])\n",
    "    except IndexError:\n",
    "        q_intervals[idx] = np.array([qs[idx*interval],qs[-1] ])\n",
    "        \n",
    "qvalue = q_intervals[:,0]\n",
    "print qvalue.shape\n",
    "\n",
    "print qvalue[:36]\n"
   ]
  },
  {
   "cell_type": "code",
   "execution_count": 8,
   "metadata": {},
   "outputs": [],
   "source": [
    "num_phi = 326\n",
    "cpsi = np.zeros( (qvalue.size, num_phi) )\n",
    "for idx in range(qvalue.size):\n",
    "    cpsi[idx] = get_cpsi(num_phi,wavlen,qvalue[idx],qvalue[idx])"
   ]
  },
  {
   "cell_type": "code",
   "execution_count": 15,
   "metadata": {},
   "outputs": [],
   "source": [
    "# np.save('encodeZ400_cpsi.npy',cpsi)\n",
    "# np.save('encodeZ400_qvalue.npy',qvalue)"
   ]
  },
  {
   "cell_type": "code",
   "execution_count": 16,
   "metadata": {},
   "outputs": [],
   "source": [
    "cpsi2 = np.load('encodeZ400_cpsi.npy')\n",
    "qvalue2 = np.load('encodeZ400_qvalue.npy')"
   ]
  },
  {
   "cell_type": "code",
   "execution_count": 17,
   "metadata": {},
   "outputs": [
    {
     "data": {
      "text/plain": [
       "array([ 0.28378592,  0.3142544 ,  0.34469446,  0.3751034 ,  0.40547854,\n",
       "        0.4358172 ,  0.46611672,  0.49637448,  0.52658787,  0.55675429,\n",
       "        0.58687118,  0.61693601,  0.64694625,  0.67689942,  0.70679306,\n",
       "        0.73662475,  0.76639207,  0.79609267,  0.8257242 ,  0.85528437,\n",
       "        0.88477091,  0.91418157,  0.94351417,  0.97276654,  1.00193656,\n",
       "        1.03102213,  1.06002121,  1.0889318 ,  1.11775191,  1.14647962,\n",
       "        1.17511304,  1.20365032,  1.23208966,  1.26042928,  1.28866747,\n",
       "        1.31680255,  1.34483287,  1.37275684,  1.4005729 ,  1.42827956,\n",
       "        1.45587534,  1.48335882,  1.51072862,  1.5379834 ,  1.56512187,\n",
       "        1.59214279,  1.61904494,  1.64582716,  1.67248833,  1.69902737])"
      ]
     },
     "execution_count": 17,
     "metadata": {},
     "output_type": "execute_result"
    }
   ],
   "source": [
    "qvalue2"
   ]
  },
  {
   "cell_type": "code",
   "execution_count": 14,
   "metadata": {},
   "outputs": [
    {
     "name": "stdout",
     "output_type": "stream",
     "text": [
      "1.30659784999\n"
     ]
    }
   ],
   "source": [
    "print wavlen"
   ]
  },
  {
   "cell_type": "code",
   "execution_count": null,
   "metadata": {},
   "outputs": [],
   "source": []
  }
 ],
 "metadata": {
  "kernelspec": {
   "display_name": "Python 2 ana-1.3.10",
   "language": "python",
   "name": "ana-1.3.10"
  },
  "language_info": {
   "codemirror_mode": {
    "name": "ipython",
    "version": 2
   },
   "file_extension": ".py",
   "mimetype": "text/x-python",
   "name": "python",
   "nbconvert_exporter": "python",
   "pygments_lexer": "ipython2",
   "version": "2.7.13"
  }
 },
 "nbformat": 4,
 "nbformat_minor": 2
}
